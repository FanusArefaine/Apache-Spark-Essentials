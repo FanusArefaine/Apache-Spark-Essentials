{
  "nbformat": 4,
  "nbformat_minor": 0,
  "metadata": {
    "colab": {
      "name": "Apache Spark MLlib.ipynb",
      "provenance": [],
      "collapsed_sections": []
    },
    "kernelspec": {
      "display_name": "Python 3",
      "language": "python",
      "name": "python3"
    },
    "language_info": {
      "codemirror_mode": {
        "name": "ipython",
        "version": 3
      },
      "file_extension": ".py",
      "mimetype": "text/x-python",
      "name": "python",
      "nbconvert_exporter": "python",
      "pygments_lexer": "ipython3",
      "version": "3.6.5"
    }
  },
  "cells": [
    {
      "cell_type": "markdown",
      "metadata": {
        "colab_type": "text",
        "id": "Dd6t0uFzuR4X"
      },
      "source": [
        "## **Apache Spark Machine Learning**"
      ]
    },
    {
      "cell_type": "code",
      "metadata": {
        "colab_type": "code",
        "id": "tt7ZS1_wGgjn",
        "colab": {
          "base_uri": "https://localhost:8080/",
          "height": 513
        },
        "outputId": "f8c225ab-3faa-46cb-efef-2055fe482cd6"
      },
      "source": [
        "!apt-get update\n",
        "!apt-get install openjdk-8-jdk-headless -qq > /dev/null\n",
        "!wget -q http://archive.apache.org/dist/spark/spark-2.3.1/spark-2.3.1-bin-hadoop2.7.tgz\n",
        "!tar xf spark-2.3.1-bin-hadoop2.7.tgz\n",
        "!pip install -q findspark"
      ],
      "execution_count": 1,
      "outputs": [
        {
          "output_type": "stream",
          "text": [
            "\r0% [Working]\r            \rGet:1 http://security.ubuntu.com/ubuntu bionic-security InRelease [88.7 kB]\n",
            "Ign:2 https://developer.download.nvidia.com/compute/cuda/repos/ubuntu1804/x86_64  InRelease\n",
            "Ign:3 https://developer.download.nvidia.com/compute/machine-learning/repos/ubuntu1804/x86_64  InRelease\n",
            "Get:4 https://developer.download.nvidia.com/compute/cuda/repos/ubuntu1804/x86_64  Release [697 B]\n",
            "Hit:5 http://archive.ubuntu.com/ubuntu bionic InRelease\n",
            "Get:6 http://ppa.launchpad.net/graphics-drivers/ppa/ubuntu bionic InRelease [21.3 kB]\n",
            "Hit:7 https://developer.download.nvidia.com/compute/machine-learning/repos/ubuntu1804/x86_64  Release\n",
            "Get:8 https://developer.download.nvidia.com/compute/cuda/repos/ubuntu1804/x86_64  Release.gpg [836 B]\n",
            "Get:9 http://archive.ubuntu.com/ubuntu bionic-updates InRelease [88.7 kB]\n",
            "Get:10 http://security.ubuntu.com/ubuntu bionic-security/main amd64 Packages [1,023 kB]\n",
            "Get:11 https://cloud.r-project.org/bin/linux/ubuntu bionic-cran35/ InRelease [3,626 B]\n",
            "Get:12 http://ppa.launchpad.net/marutter/c2d4u3.5/ubuntu bionic InRelease [15.4 kB]\n",
            "Get:13 http://archive.ubuntu.com/ubuntu bionic-backports InRelease [74.6 kB]\n",
            "Get:14 http://security.ubuntu.com/ubuntu bionic-security/universe amd64 Packages [870 kB]\n",
            "Get:15 http://security.ubuntu.com/ubuntu bionic-security/restricted amd64 Packages [98.3 kB]\n",
            "Get:16 http://security.ubuntu.com/ubuntu bionic-security/multiverse amd64 Packages [9,279 B]\n",
            "Ign:18 https://developer.download.nvidia.com/compute/cuda/repos/ubuntu1804/x86_64  Packages\n",
            "Get:18 https://developer.download.nvidia.com/compute/cuda/repos/ubuntu1804/x86_64  Packages [232 kB]\n",
            "Get:19 http://ppa.launchpad.net/graphics-drivers/ppa/ubuntu bionic/main amd64 Packages [43.3 kB]\n",
            "Get:20 http://ppa.launchpad.net/marutter/c2d4u3.5/ubuntu bionic/main Sources [1,850 kB]\n",
            "Get:21 http://archive.ubuntu.com/ubuntu bionic-updates/main amd64 Packages [1,322 kB]\n",
            "Get:22 http://archive.ubuntu.com/ubuntu bionic-updates/restricted amd64 Packages [111 kB]\n",
            "Get:23 http://archive.ubuntu.com/ubuntu bionic-updates/universe amd64 Packages [1,409 kB]\n",
            "Get:24 http://archive.ubuntu.com/ubuntu bionic-updates/multiverse amd64 Packages [13.6 kB]\n",
            "Get:25 http://archive.ubuntu.com/ubuntu bionic-backports/universe amd64 Packages [8,432 B]\n",
            "Get:26 http://ppa.launchpad.net/marutter/c2d4u3.5/ubuntu bionic/main amd64 Packages [893 kB]\n",
            "Fetched 8,177 kB in 4s (2,244 kB/s)\n",
            "Reading package lists... Done\n"
          ],
          "name": "stdout"
        }
      ]
    },
    {
      "cell_type": "code",
      "metadata": {
        "colab_type": "code",
        "id": "sdOOq4twHN1K",
        "colab": {}
      },
      "source": [
        "import os\n",
        "os.environ[\"JAVA_HOME\"] = \"/usr/lib/jvm/java-8-openjdk-amd64\"\n",
        "os.environ[\"SPARK_HOME\"] = \"/content/spark-2.3.1-bin-hadoop2.7\""
      ],
      "execution_count": 2,
      "outputs": []
    },
    {
      "cell_type": "code",
      "metadata": {
        "colab_type": "code",
        "id": "3ACYMwhgHTYz",
        "colab": {
          "base_uri": "https://localhost:8080/",
          "height": 34
        },
        "outputId": "74845d3c-3681-44a2-ce85-95b274fbd8cc"
      },
      "source": [
        "!ls"
      ],
      "execution_count": 3,
      "outputs": [
        {
          "output_type": "stream",
          "text": [
            "sample_data  spark-2.3.1-bin-hadoop2.7\tspark-2.3.1-bin-hadoop2.7.tgz\n"
          ],
          "name": "stdout"
        }
      ]
    },
    {
      "cell_type": "code",
      "metadata": {
        "colab_type": "code",
        "id": "wjfF7LLgHZe3",
        "colab": {
          "base_uri": "https://localhost:8080/",
          "height": 193
        },
        "outputId": "d5862057-125e-4875-d17b-8527e177ed98"
      },
      "source": [
        "import findspark\n",
        "findspark.init()\n",
        "from pyspark import SparkContext\n",
        "\n",
        "sc = SparkContext.getOrCreate()\n",
        "sc"
      ],
      "execution_count": 4,
      "outputs": [
        {
          "output_type": "execute_result",
          "data": {
            "text/html": [
              "\n",
              "        <div>\n",
              "            <p><b>SparkContext</b></p>\n",
              "\n",
              "            <p><a href=\"http://3acafa6949bf:4040\">Spark UI</a></p>\n",
              "\n",
              "            <dl>\n",
              "              <dt>Version</dt>\n",
              "                <dd><code>v2.3.1</code></dd>\n",
              "              <dt>Master</dt>\n",
              "                <dd><code>local[*]</code></dd>\n",
              "              <dt>AppName</dt>\n",
              "                <dd><code>pyspark-shell</code></dd>\n",
              "            </dl>\n",
              "        </div>\n",
              "        "
            ],
            "text/plain": [
              "<SparkContext master=local[*] appName=pyspark-shell>"
            ]
          },
          "metadata": {
            "tags": []
          },
          "execution_count": 4
        }
      ]
    },
    {
      "cell_type": "code",
      "metadata": {
        "id": "pHkpZLaXzQy7",
        "colab_type": "code",
        "colab": {
          "base_uri": "https://localhost:8080/",
          "height": 216
        },
        "outputId": "b7b9aff4-f659-4bba-95f2-266219a56756"
      },
      "source": [
        "import pyspark\n",
        "from pyspark.sql import SparkSession\n",
        "spark = SparkSession.builder.getOrCreate() \n",
        "spark"
      ],
      "execution_count": 5,
      "outputs": [
        {
          "output_type": "execute_result",
          "data": {
            "text/html": [
              "\n",
              "            <div>\n",
              "                <p><b>SparkSession - in-memory</b></p>\n",
              "                \n",
              "        <div>\n",
              "            <p><b>SparkContext</b></p>\n",
              "\n",
              "            <p><a href=\"http://3acafa6949bf:4040\">Spark UI</a></p>\n",
              "\n",
              "            <dl>\n",
              "              <dt>Version</dt>\n",
              "                <dd><code>v2.3.1</code></dd>\n",
              "              <dt>Master</dt>\n",
              "                <dd><code>local[*]</code></dd>\n",
              "              <dt>AppName</dt>\n",
              "                <dd><code>pyspark-shell</code></dd>\n",
              "            </dl>\n",
              "        </div>\n",
              "        \n",
              "            </div>\n",
              "        "
            ],
            "text/plain": [
              "<pyspark.sql.session.SparkSession at 0x7fb27b849b38>"
            ]
          },
          "metadata": {
            "tags": []
          },
          "execution_count": 5
        }
      ]
    },
    {
      "cell_type": "code",
      "metadata": {
        "id": "T5t7p70vx3Iu",
        "colab_type": "code",
        "colab": {
          "base_uri": "https://localhost:8080/",
          "height": 122
        },
        "outputId": "39900bf7-f838-40be-9538-0ab2ab30284c"
      },
      "source": [
        "from google.colab import drive\n",
        "drive.mount('/content/drive')"
      ],
      "execution_count": 6,
      "outputs": [
        {
          "output_type": "stream",
          "text": [
            "Go to this URL in a browser: https://accounts.google.com/o/oauth2/auth?client_id=947318989803-6bn6qk8qdgf4n4g3pfee6491hc0brc4i.apps.googleusercontent.com&redirect_uri=urn%3aietf%3awg%3aoauth%3a2.0%3aoob&response_type=code&scope=email%20https%3a%2f%2fwww.googleapis.com%2fauth%2fdocs.test%20https%3a%2f%2fwww.googleapis.com%2fauth%2fdrive%20https%3a%2f%2fwww.googleapis.com%2fauth%2fdrive.photos.readonly%20https%3a%2f%2fwww.googleapis.com%2fauth%2fpeopleapi.readonly\n",
            "\n",
            "Enter your authorization code:\n",
            "··········\n",
            "Mounted at /content/drive\n"
          ],
          "name": "stdout"
        }
      ]
    },
    {
      "cell_type": "code",
      "metadata": {
        "id": "vIpxTiGPymQo",
        "colab_type": "code",
        "colab": {
          "base_uri": "https://localhost:8080/",
          "height": 309
        },
        "outputId": "fc19f65f-e9a5-4ea3-84ba-739d2dda3159"
      },
      "source": [
        "import pandas as pd\n",
        "\n",
        "# Raihan's Google Drive directory\n",
        "# data = pd.read_csv('/content/drive/My Drive/Colab Notebooks/Datasets/hotelReview_train.csv')\n",
        "\n",
        "# Ibnu's Google Drive directory\n",
        "# data = pd.read_csv('/content/drive/My Drive/Colab Notebooks/Hotel Review/train.csv')\n",
        "\n",
        "# Local directory\n",
        "emp_df = spark.read.csv('/content/drive/My Drive/colab_notes/datasets/exercises/01_04/employee.txt', header=True)\n",
        "emp_df.cache()\n",
        "emp_df.count()\n",
        "emp_df.show(10)"
      ],
      "execution_count": 7,
      "outputs": [
        {
          "output_type": "stream",
          "text": [
            "+---+------------+--------------------+--------+------------+------------+------+--------------------+---------+\n",
            "| id|   last_name|               email|  gender|  department|  start_date|salary|           job_title|region_id|\n",
            "+---+------------+--------------------+--------+------------+------------+------+--------------------+---------+\n",
            "|  1|    'Kelley'|'rkelley0@soundcl...|'Female'| 'Computers'| '10/2/2009'| 67470|'Structural Engin...|        2|\n",
            "|  2| 'Armstrong'|'sarmstrong1@info...|  'Male'|    'Sports'| '3/31/2008'| 71869| 'Financial Advisor'|        2|\n",
            "|  3|      'Carr'|'fcarr2@woothemes...|  'Male'|'Automotive'| '7/12/2009'|101768|'Recruiting Manager'|        3|\n",
            "|  4|    'Murray'|   'jmurray3@gov.uk'|'Female'|  'Jewelery'|'12/25/2014'| 96897|'Desktop Support ...|        3|\n",
            "|  5|     'Ellis'|'jellis4@scienced...|'Female'|   'Grocery'| '9/19/2002'| 63702|'Software Enginee...|        7|\n",
            "|  6|  'Phillips'|'bphillips5@time....|  'Male'|     'Tools'| '8/21/2013'|118497|'Executive Secret...|        1|\n",
            "|  7|'Williamson'|'rwilliamson6@ted...|  'Male'| 'Computers'| '5/14/2006'| 65889|  'Dental Hygienist'|        6|\n",
            "|  8|    'Harris'| 'aharris7@ucoz.com'|'Female'|      'Toys'| '8/12/2003'| 84427|'Safety Technicia...|        4|\n",
            "|  9|     'James'|'rjames8@prnewswi...|  'Male'|  'Jewelery'|  '9/7/2005'|108657|   'Sales Associate'|        2|\n",
            "| 10|   'Sanchez'|'rsanchez9@cloudf...|  'Male'|    'Movies'| '3/13/2013'|108093|'Sales Representa...|        1|\n",
            "+---+------------+--------------------+--------+------------+------------+------+--------------------+---------+\n",
            "only showing top 10 rows\n",
            "\n"
          ],
          "name": "stdout"
        }
      ]
    },
    {
      "cell_type": "code",
      "metadata": {
        "id": "ICbynVsczEA2",
        "colab_type": "code",
        "colab": {}
      },
      "source": [
        "from pyspark.ml.feature import MinMaxScaler, StandardScaler, Bucketizer\n",
        "from pyspark.ml.linalg import Vectors"
      ],
      "execution_count": 8,
      "outputs": []
    },
    {
      "cell_type": "markdown",
      "metadata": {
        "id": "QnbEQets1moL",
        "colab_type": "text"
      },
      "source": [
        "## **Creating DataFrame**"
      ]
    },
    {
      "cell_type": "code",
      "metadata": {
        "id": "cCU8eGt4z3gR",
        "colab_type": "code",
        "colab": {}
      },
      "source": [
        "features_df = spark.createDataFrame([\n",
        "                                     (1, Vectors.dense([10.0, 10000.0, 1.0]),),\n",
        "                                     (2, Vectors.dense([20.0, 30000.0, 2.0]),),\n",
        "                                     (3, Vectors.dense([30.0, 40000.0, 3.0]),)\n",
        "                                      \n",
        "],['id', 'features'])"
      ],
      "execution_count": 9,
      "outputs": []
    },
    {
      "cell_type": "code",
      "metadata": {
        "id": "6dbSNFeM1CP4",
        "colab_type": "code",
        "colab": {
          "base_uri": "https://localhost:8080/",
          "height": 51
        },
        "outputId": "37b9b788-92d5-4ff6-f1d9-650758aeccd6"
      },
      "source": [
        "features_df.take(2)"
      ],
      "execution_count": 10,
      "outputs": [
        {
          "output_type": "execute_result",
          "data": {
            "text/plain": [
              "[Row(id=1, features=DenseVector([10.0, 10000.0, 1.0])),\n",
              " Row(id=2, features=DenseVector([20.0, 30000.0, 2.0]))]"
            ]
          },
          "metadata": {
            "tags": []
          },
          "execution_count": 10
        }
      ]
    },
    {
      "cell_type": "markdown",
      "metadata": {
        "id": "WIkX8RlO1hnY",
        "colab_type": "text"
      },
      "source": [
        "## **Transforming DataFrame**"
      ]
    },
    {
      "cell_type": "markdown",
      "metadata": {
        "id": "LvQ2p56519dD",
        "colab_type": "text"
      },
      "source": [
        "#### **Normalization**"
      ]
    },
    {
      "cell_type": "code",
      "metadata": {
        "id": "OZiMKgpA1EPh",
        "colab_type": "code",
        "colab": {}
      },
      "source": [
        "feature_scaler = MinMaxScaler(inputCol='features', outputCol='sfeatures')"
      ],
      "execution_count": 11,
      "outputs": []
    },
    {
      "cell_type": "code",
      "metadata": {
        "id": "0QCFuD-N1RgD",
        "colab_type": "code",
        "colab": {}
      },
      "source": [
        "smodel = feature_scaler.fit(features_df)"
      ],
      "execution_count": 12,
      "outputs": []
    },
    {
      "cell_type": "code",
      "metadata": {
        "id": "yJ9wuulf1VIL",
        "colab_type": "code",
        "colab": {}
      },
      "source": [
        "sfeatures = smodel.transform(features_df)"
      ],
      "execution_count": 13,
      "outputs": []
    },
    {
      "cell_type": "code",
      "metadata": {
        "id": "UbTMRHCE1fSY",
        "colab_type": "code",
        "colab": {
          "base_uri": "https://localhost:8080/",
          "height": 153
        },
        "outputId": "0939e269-3ca0-4014-a177-5df9bf3e5cd8"
      },
      "source": [
        "# comparison between scaled and unscaled features\n",
        "sfeatures.select('features', 'sfeatures').show()"
      ],
      "execution_count": 14,
      "outputs": [
        {
          "output_type": "stream",
          "text": [
            "+------------------+--------------------+\n",
            "|          features|           sfeatures|\n",
            "+------------------+--------------------+\n",
            "|[10.0,10000.0,1.0]|       [0.0,0.0,0.0]|\n",
            "|[20.0,30000.0,2.0]|[0.5,0.6666666666...|\n",
            "|[30.0,40000.0,3.0]|       [1.0,1.0,1.0]|\n",
            "+------------------+--------------------+\n",
            "\n"
          ],
          "name": "stdout"
        }
      ]
    },
    {
      "cell_type": "markdown",
      "metadata": {
        "id": "qKHkcp9H2ClL",
        "colab_type": "text"
      },
      "source": [
        "#### **Standardization**"
      ]
    },
    {
      "cell_type": "code",
      "metadata": {
        "id": "PR7ervUN1vY3",
        "colab_type": "code",
        "colab": {}
      },
      "source": [
        " feature_std_scaler = StandardScaler(inputCol='features', outputCol='sfeatures', withStd=True, withMean=True)"
      ],
      "execution_count": 15,
      "outputs": []
    },
    {
      "cell_type": "code",
      "metadata": {
        "id": "VMqe88Wr3CBX",
        "colab_type": "code",
        "colab": {}
      },
      "source": [
        "std_smodel = feature_std_scaler.fit(features_df)"
      ],
      "execution_count": 16,
      "outputs": []
    },
    {
      "cell_type": "code",
      "metadata": {
        "id": "AYNxe3823M_V",
        "colab_type": "code",
        "colab": {}
      },
      "source": [
        "std_sfeatures_df = std_smodel.transform(features_df)"
      ],
      "execution_count": 17,
      "outputs": []
    },
    {
      "cell_type": "code",
      "metadata": {
        "id": "KCMl-K-e3SB7",
        "colab_type": "code",
        "colab": {
          "base_uri": "https://localhost:8080/",
          "height": 153
        },
        "outputId": "376aa677-0f8f-45c6-d970-0629114654d4"
      },
      "source": [
        "std_sfeatures_df.show(truncate=False)"
      ],
      "execution_count": 18,
      "outputs": [
        {
          "output_type": "stream",
          "text": [
            "+---+------------------+-------------------------------+\n",
            "|id |features          |sfeatures                      |\n",
            "+---+------------------+-------------------------------+\n",
            "|1  |[10.0,10000.0,1.0]|[-1.0,-1.0910894511799618,-1.0]|\n",
            "|2  |[20.0,30000.0,2.0]|[0.0,0.21821789023599256,0.0]  |\n",
            "|3  |[30.0,40000.0,3.0]|[1.0,0.8728715609439698,1.0]   |\n",
            "+---+------------------+-------------------------------+\n",
            "\n"
          ],
          "name": "stdout"
        }
      ]
    },
    {
      "cell_type": "markdown",
      "metadata": {
        "id": "RQArmb8E5iRt",
        "colab_type": "text"
      },
      "source": [
        "### **Bucketizing Numeric Data** / **Binning**"
      ]
    },
    {
      "cell_type": "code",
      "metadata": {
        "id": "RQOyDkM93jMu",
        "colab_type": "code",
        "colab": {}
      },
      "source": [
        "# Defining buckets\n",
        "splits = [-float('inf'), -10.0, 0.0, 10.0, float('inf')]"
      ],
      "execution_count": 19,
      "outputs": []
    },
    {
      "cell_type": "code",
      "metadata": {
        "id": "o_x-Mttt56v4",
        "colab_type": "code",
        "colab": {}
      },
      "source": [
        "b_data = [(-800.0,), (-10.5,), (-1.7,), (0.0,), (8.2,), (90.1,)]\n",
        "b_df = spark.createDataFrame(b_data, ['features'])"
      ],
      "execution_count": 20,
      "outputs": []
    },
    {
      "cell_type": "code",
      "metadata": {
        "id": "szQCzjwH6jiw",
        "colab_type": "code",
        "colab": {
          "base_uri": "https://localhost:8080/",
          "height": 204
        },
        "outputId": "016979dc-d8a0-42ce-8752-8435acf86d86"
      },
      "source": [
        "b_df.show()"
      ],
      "execution_count": 21,
      "outputs": [
        {
          "output_type": "stream",
          "text": [
            "+--------+\n",
            "|features|\n",
            "+--------+\n",
            "|  -800.0|\n",
            "|   -10.5|\n",
            "|    -1.7|\n",
            "|     0.0|\n",
            "|     8.2|\n",
            "|    90.1|\n",
            "+--------+\n",
            "\n"
          ],
          "name": "stdout"
        }
      ]
    },
    {
      "cell_type": "code",
      "metadata": {
        "id": "aw1e_Kpc6ngN",
        "colab_type": "code",
        "colab": {}
      },
      "source": [
        "# Defining a bucketizer\n",
        "bucketizer = Bucketizer(splits=splits, inputCol='features', outputCol='bfeatures')"
      ],
      "execution_count": 22,
      "outputs": []
    },
    {
      "cell_type": "code",
      "metadata": {
        "id": "iTFAsrvJ60SB",
        "colab_type": "code",
        "colab": {}
      },
      "source": [
        "bucketed_df = bucketizer.transform(b_df)"
      ],
      "execution_count": 23,
      "outputs": []
    },
    {
      "cell_type": "code",
      "metadata": {
        "id": "vbe27aWL679T",
        "colab_type": "code",
        "colab": {
          "base_uri": "https://localhost:8080/",
          "height": 204
        },
        "outputId": "7bfba1e8-318a-4070-b33e-67901ae85965"
      },
      "source": [
        "bucketed_df.show()"
      ],
      "execution_count": 24,
      "outputs": [
        {
          "output_type": "stream",
          "text": [
            "+--------+---------+\n",
            "|features|bfeatures|\n",
            "+--------+---------+\n",
            "|  -800.0|      0.0|\n",
            "|   -10.5|      0.0|\n",
            "|    -1.7|      1.0|\n",
            "|     0.0|      2.0|\n",
            "|     8.2|      2.0|\n",
            "|    90.1|      3.0|\n",
            "+--------+---------+\n",
            "\n"
          ],
          "name": "stdout"
        }
      ]
    },
    {
      "cell_type": "markdown",
      "metadata": {
        "id": "grr5eO4KdKyp",
        "colab_type": "text"
      },
      "source": [
        "## **Tokenization**"
      ]
    },
    {
      "cell_type": "code",
      "metadata": {
        "id": "SPTmNTRP7A-3",
        "colab_type": "code",
        "colab": {}
      },
      "source": [
        "from pyspark.ml.feature import Tokenizer"
      ],
      "execution_count": 25,
      "outputs": []
    },
    {
      "cell_type": "code",
      "metadata": {
        "id": "K-TK5HovdRtI",
        "colab_type": "code",
        "colab": {}
      },
      "source": [
        "sentences_df = spark.createDataFrame([\n",
        "                                      (1, 'This is an introduction to Spark MLlib'),\n",
        "                                      (2, 'MLlib includes libraries for classification and regression'),\n",
        "                                      (3, 'It also contatins supporting tools for pipelines')\n",
        "], ['id', 'sentence'] )"
      ],
      "execution_count": 26,
      "outputs": []
    },
    {
      "cell_type": "code",
      "metadata": {
        "id": "orVUk4hld2AS",
        "colab_type": "code",
        "colab": {
          "base_uri": "https://localhost:8080/",
          "height": 153
        },
        "outputId": "59872169-12a8-420b-c4ea-a07094adbfcc"
      },
      "source": [
        "sentences_df.show(truncate=False)"
      ],
      "execution_count": 27,
      "outputs": [
        {
          "output_type": "stream",
          "text": [
            "+---+----------------------------------------------------------+\n",
            "|id |sentence                                                  |\n",
            "+---+----------------------------------------------------------+\n",
            "|1  |This is an introduction to Spark MLlib                    |\n",
            "|2  |MLlib includes libraries for classification and regression|\n",
            "|3  |It also contatins supporting tools for pipelines          |\n",
            "+---+----------------------------------------------------------+\n",
            "\n"
          ],
          "name": "stdout"
        }
      ]
    },
    {
      "cell_type": "code",
      "metadata": {
        "id": "UJS_oiYVd33w",
        "colab_type": "code",
        "colab": {}
      },
      "source": [
        "sent_token = Tokenizer(inputCol='sentence', outputCol='words')"
      ],
      "execution_count": 28,
      "outputs": []
    },
    {
      "cell_type": "code",
      "metadata": {
        "id": "kjdu0pIweG6Z",
        "colab_type": "code",
        "colab": {}
      },
      "source": [
        "sent_tokenized_df = sent_token.transform(sentences_df)"
      ],
      "execution_count": 29,
      "outputs": []
    },
    {
      "cell_type": "code",
      "metadata": {
        "id": "UhwbGU4heOcL",
        "colab_type": "code",
        "colab": {
          "base_uri": "https://localhost:8080/",
          "height": 173
        },
        "outputId": "9c07e641-689e-4441-cced-494efb6b36e0"
      },
      "source": [
        "sent_tokenized_df.show(truncate=False) "
      ],
      "execution_count": 30,
      "outputs": [
        {
          "output_type": "stream",
          "text": [
            "+---+----------------------------------------------------------+------------------------------------------------------------------+\n",
            "|id |sentence                                                  |words                                                             |\n",
            "+---+----------------------------------------------------------+------------------------------------------------------------------+\n",
            "|1  |This is an introduction to Spark MLlib                    |[this, is, an, introduction, to, spark, mllib]                    |\n",
            "|2  |MLlib includes libraries for classification and regression|[mllib, includes, libraries, for, classification, and, regression]|\n",
            "|3  |It also contatins supporting tools for pipelines          |[it, also, contatins, supporting, tools, for, pipelines]          |\n",
            "+---+----------------------------------------------------------+------------------------------------------------------------------+\n",
            "\n"
          ],
          "name": "stdout"
        }
      ]
    },
    {
      "cell_type": "markdown",
      "metadata": {
        "id": "MMNO4pJefx3v",
        "colab_type": "text"
      },
      "source": [
        "## **TF-IDF**"
      ]
    },
    {
      "cell_type": "code",
      "metadata": {
        "id": "KMiwsA2QeQXO",
        "colab_type": "code",
        "colab": {}
      },
      "source": [
        "from pyspark.ml.feature import HashingTF, IDF"
      ],
      "execution_count": 31,
      "outputs": []
    },
    {
      "cell_type": "code",
      "metadata": {
        "id": "HLWF7ejjgEnf",
        "colab_type": "code",
        "colab": {
          "base_uri": "https://localhost:8080/",
          "height": 34
        },
        "outputId": "65146338-d9f4-4139-9acf-448ad0c556ff"
      },
      "source": [
        "sentences_df"
      ],
      "execution_count": 32,
      "outputs": [
        {
          "output_type": "execute_result",
          "data": {
            "text/plain": [
              "DataFrame[id: bigint, sentence: string]"
            ]
          },
          "metadata": {
            "tags": []
          },
          "execution_count": 32
        }
      ]
    },
    {
      "cell_type": "code",
      "metadata": {
        "id": "EDDT8VrpgJ-r",
        "colab_type": "code",
        "colab": {
          "base_uri": "https://localhost:8080/",
          "height": 34
        },
        "outputId": "f772a23b-4ebd-4e03-8ef9-1868f47bfc07"
      },
      "source": [
        "sentences_df.take(1)"
      ],
      "execution_count": 33,
      "outputs": [
        {
          "output_type": "execute_result",
          "data": {
            "text/plain": [
              "[Row(id=1, sentence='This is an introduction to Spark MLlib')]"
            ]
          },
          "metadata": {
            "tags": []
          },
          "execution_count": 33
        }
      ]
    },
    {
      "cell_type": "code",
      "metadata": {
        "id": "i4RAJYEogN3d",
        "colab_type": "code",
        "colab": {
          "base_uri": "https://localhost:8080/",
          "height": 54
        },
        "outputId": "4a97cd97-b21b-4ac2-f910-33930fbe086f"
      },
      "source": [
        "sent_tokenized_df.take(1)"
      ],
      "execution_count": 34,
      "outputs": [
        {
          "output_type": "execute_result",
          "data": {
            "text/plain": [
              "[Row(id=1, sentence='This is an introduction to Spark MLlib', words=['this', 'is', 'an', 'introduction', 'to', 'spark', 'mllib'])]"
            ]
          },
          "metadata": {
            "tags": []
          },
          "execution_count": 34
        }
      ]
    },
    {
      "cell_type": "code",
      "metadata": {
        "id": "FdyZ6nnEgTyh",
        "colab_type": "code",
        "colab": {}
      },
      "source": [
        "hashingTF = HashingTF(inputCol='words', outputCol='rawFeatures', numFeatures=20)"
      ],
      "execution_count": 35,
      "outputs": []
    },
    {
      "cell_type": "code",
      "metadata": {
        "id": "BqqRwhWqglBH",
        "colab_type": "code",
        "colab": {}
      },
      "source": [
        "sent_hfTF_df = hashingTF.transform(sent_tokenized_df)"
      ],
      "execution_count": 36,
      "outputs": []
    },
    {
      "cell_type": "code",
      "metadata": {
        "id": "jjnHZXA_grll",
        "colab_type": "code",
        "colab": {
          "base_uri": "https://localhost:8080/",
          "height": 54
        },
        "outputId": "a824e90a-805a-4946-ed52-82e114d8f738"
      },
      "source": [
        "sent_hfTF_df.take(1)"
      ],
      "execution_count": 37,
      "outputs": [
        {
          "output_type": "execute_result",
          "data": {
            "text/plain": [
              "[Row(id=1, sentence='This is an introduction to Spark MLlib', words=['this', 'is', 'an', 'introduction', 'to', 'spark', 'mllib'], rawFeatures=SparseVector(20, {1: 2.0, 5: 1.0, 6: 1.0, 8: 1.0, 12: 1.0, 13: 1.0}))]"
            ]
          },
          "metadata": {
            "tags": []
          },
          "execution_count": 37
        }
      ]
    },
    {
      "cell_type": "code",
      "metadata": {
        "id": "sdneD4IDgtPp",
        "colab_type": "code",
        "colab": {}
      },
      "source": [
        "idf = IDF(inputCol='rawFeatures', outputCol='idf_features')"
      ],
      "execution_count": 38,
      "outputs": []
    },
    {
      "cell_type": "code",
      "metadata": {
        "id": "tOtpG9f_hTEL",
        "colab_type": "code",
        "colab": {}
      },
      "source": [
        "idfModel = idf.fit(sent_hfTF_df)"
      ],
      "execution_count": 39,
      "outputs": []
    },
    {
      "cell_type": "code",
      "metadata": {
        "id": "cx5XTG9hhWiJ",
        "colab_type": "code",
        "colab": {}
      },
      "source": [
        "tfidf_df = idfModel.transform(sent_hfTF_df)"
      ],
      "execution_count": 40,
      "outputs": []
    },
    {
      "cell_type": "code",
      "metadata": {
        "id": "2cBfUl7OhrLL",
        "colab_type": "code",
        "colab": {
          "base_uri": "https://localhost:8080/",
          "height": 54
        },
        "outputId": "1f0b990f-121a-45cf-f269-1716985c2003"
      },
      "source": [
        "tfidf_df.take(1)"
      ],
      "execution_count": 41,
      "outputs": [
        {
          "output_type": "execute_result",
          "data": {
            "text/plain": [
              "[Row(id=1, sentence='This is an introduction to Spark MLlib', words=['this', 'is', 'an', 'introduction', 'to', 'spark', 'mllib'], rawFeatures=SparseVector(20, {1: 2.0, 5: 1.0, 6: 1.0, 8: 1.0, 12: 1.0, 13: 1.0}), idf_features=SparseVector(20, {1: 0.5754, 5: 0.6931, 6: 0.2877, 8: 0.6931, 12: 0.0, 13: 0.2877}))]"
            ]
          },
          "metadata": {
            "tags": []
          },
          "execution_count": 41
        }
      ]
    },
    {
      "cell_type": "code",
      "metadata": {
        "id": "ifZj71fChvGx",
        "colab_type": "code",
        "colab": {
          "base_uri": "https://localhost:8080/",
          "height": 173
        },
        "outputId": "ab3f4c0c-e15a-48ff-a498-8d0cc47001a5"
      },
      "source": [
        "tfidf_df.show(truncate=False)"
      ],
      "execution_count": 42,
      "outputs": [
        {
          "output_type": "stream",
          "text": [
            "+---+----------------------------------------------------------+------------------------------------------------------------------+------------------------------------------------------+-----------------------------------------------------------------------------------------------------------------------------------------------------+\n",
            "|id |sentence                                                  |words                                                             |rawFeatures                                           |idf_features                                                                                                                                         |\n",
            "+---+----------------------------------------------------------+------------------------------------------------------------------+------------------------------------------------------+-----------------------------------------------------------------------------------------------------------------------------------------------------+\n",
            "|1  |This is an introduction to Spark MLlib                    |[this, is, an, introduction, to, spark, mllib]                    |(20,[1,5,6,8,12,13],[2.0,1.0,1.0,1.0,1.0,1.0])        |(20,[1,5,6,8,12,13],[0.5753641449035617,0.6931471805599453,0.28768207245178085,0.6931471805599453,0.0,0.28768207245178085])                          |\n",
            "|2  |MLlib includes libraries for classification and regression|[mllib, includes, libraries, for, classification, and, regression]|(20,[1,6,9,12,13,15,16],[1.0,1.0,1.0,1.0,1.0,1.0,1.0])|(20,[1,6,9,12,13,15,16],[0.28768207245178085,0.28768207245178085,0.6931471805599453,0.0,0.28768207245178085,0.28768207245178085,0.28768207245178085])|\n",
            "|3  |It also contatins supporting tools for pipelines          |[it, also, contatins, supporting, tools, for, pipelines]          |(20,[0,2,10,12,15,16],[1.0,1.0,1.0,1.0,1.0,2.0])      |(20,[0,2,10,12,15,16],[0.6931471805599453,0.6931471805599453,0.6931471805599453,0.0,0.28768207245178085,0.5753641449035617])                         |\n",
            "+---+----------------------------------------------------------+------------------------------------------------------------------+------------------------------------------------------+-----------------------------------------------------------------------------------------------------------------------------------------------------+\n",
            "\n"
          ],
          "name": "stdout"
        }
      ]
    },
    {
      "cell_type": "markdown",
      "metadata": {
        "id": "ijZWXqeRkqRh",
        "colab_type": "text"
      },
      "source": [
        "## **Clustering**"
      ]
    },
    {
      "cell_type": "code",
      "metadata": {
        "id": "FTU6LayOh2w7",
        "colab_type": "code",
        "colab": {}
      },
      "source": [
        "from pyspark.ml.linalg import Vectors\n",
        "from pyspark.ml.feature import VectorAssembler\n",
        "from pyspark.ml.clustering import KMeans"
      ],
      "execution_count": 43,
      "outputs": []
    },
    {
      "cell_type": "code",
      "metadata": {
        "id": "qhwGRMgmk5Vx",
        "colab_type": "code",
        "colab": {
          "base_uri": "https://localhost:8080/",
          "height": 204
        },
        "outputId": "e2288d79-d15c-4779-c53b-d00b54e64d32"
      },
      "source": [
        "cluster_df = spark.read.csv('/content/drive/My Drive/colab_notes/datasets/exercises/03_02/clustering_dataset.csv', header=True, inferSchema=True)\n",
        "cluster_df.cache()\n",
        "cluster_df.count()\n",
        "cluster_df.show(5, truncate=False)"
      ],
      "execution_count": 44,
      "outputs": [
        {
          "output_type": "stream",
          "text": [
            "+----+----+----+\n",
            "|col1|col2|col3|\n",
            "+----+----+----+\n",
            "|7   |4   |1   |\n",
            "|7   |7   |9   |\n",
            "|7   |9   |6   |\n",
            "|1   |6   |5   |\n",
            "|6   |7   |7   |\n",
            "+----+----+----+\n",
            "only showing top 5 rows\n",
            "\n"
          ],
          "name": "stdout"
        }
      ]
    },
    {
      "cell_type": "code",
      "metadata": {
        "id": "A90pLpaRlzqo",
        "colab_type": "code",
        "colab": {}
      },
      "source": [
        "# transforming the columns into feature vectors\n",
        "vectorAssembler = VectorAssembler(inputCols=['col1', 'col2', 'col3'], outputCol='features')"
      ],
      "execution_count": 45,
      "outputs": []
    },
    {
      "cell_type": "code",
      "metadata": {
        "id": "eYIZ1djOmzJv",
        "colab_type": "code",
        "colab": {}
      },
      "source": [
        "vcluster_df = vectorAssembler.transform(cluster_df)"
      ],
      "execution_count": 46,
      "outputs": []
    },
    {
      "cell_type": "code",
      "metadata": {
        "id": "aYEX6ydjm7VY",
        "colab_type": "code",
        "colab": {
          "base_uri": "https://localhost:8080/",
          "height": 459
        },
        "outputId": "d575d98f-1b99-40a8-a28e-c05343df306f"
      },
      "source": [
        "# kmeans words with feature vector\n",
        "vcluster_df.show()"
      ],
      "execution_count": 47,
      "outputs": [
        {
          "output_type": "stream",
          "text": [
            "+----+----+----+--------------+\n",
            "|col1|col2|col3|      features|\n",
            "+----+----+----+--------------+\n",
            "|   7|   4|   1| [7.0,4.0,1.0]|\n",
            "|   7|   7|   9| [7.0,7.0,9.0]|\n",
            "|   7|   9|   6| [7.0,9.0,6.0]|\n",
            "|   1|   6|   5| [1.0,6.0,5.0]|\n",
            "|   6|   7|   7| [6.0,7.0,7.0]|\n",
            "|   7|   9|   4| [7.0,9.0,4.0]|\n",
            "|   7|  10|   6|[7.0,10.0,6.0]|\n",
            "|   7|   8|   2| [7.0,8.0,2.0]|\n",
            "|   8|   3|   8| [8.0,3.0,8.0]|\n",
            "|   4|  10|   5|[4.0,10.0,5.0]|\n",
            "|   7|   4|   5| [7.0,4.0,5.0]|\n",
            "|   7|   8|   4| [7.0,8.0,4.0]|\n",
            "|   2|   5|   1| [2.0,5.0,1.0]|\n",
            "|   2|   6|   2| [2.0,6.0,2.0]|\n",
            "|   2|   3|   8| [2.0,3.0,8.0]|\n",
            "|   3|   9|   1| [3.0,9.0,1.0]|\n",
            "|   4|   2|   9| [4.0,2.0,9.0]|\n",
            "|   1|   7|   1| [1.0,7.0,1.0]|\n",
            "|   6|   2|   3| [6.0,2.0,3.0]|\n",
            "|   4|   1|   9| [4.0,1.0,9.0]|\n",
            "+----+----+----+--------------+\n",
            "only showing top 20 rows\n",
            "\n"
          ],
          "name": "stdout"
        }
      ]
    },
    {
      "cell_type": "code",
      "metadata": {
        "id": "ifHKn6G_m9gL",
        "colab_type": "code",
        "colab": {}
      },
      "source": [
        "kmeans = KMeans().setK(3)"
      ],
      "execution_count": 48,
      "outputs": []
    },
    {
      "cell_type": "code",
      "metadata": {
        "id": "B2W408TTnT-B",
        "colab_type": "code",
        "colab": {}
      },
      "source": [
        "kmeans = kmeans.setSeed(1)"
      ],
      "execution_count": 49,
      "outputs": []
    },
    {
      "cell_type": "code",
      "metadata": {
        "id": "Cg95cJ2vnaox",
        "colab_type": "code",
        "colab": {}
      },
      "source": [
        "kmodel = kmeans.fit(vcluster_df)"
      ],
      "execution_count": 50,
      "outputs": []
    },
    {
      "cell_type": "code",
      "metadata": {
        "id": "PxPDKyjZneZY",
        "colab_type": "code",
        "colab": {}
      },
      "source": [
        "centers = kmodel.clusterCenters()"
      ],
      "execution_count": 51,
      "outputs": []
    },
    {
      "cell_type": "code",
      "metadata": {
        "id": "6qJcF3LQoPvf",
        "colab_type": "code",
        "colab": {
          "base_uri": "https://localhost:8080/",
          "height": 68
        },
        "outputId": "1a3affbe-f6f7-4d22-f911-77249bf5a74c"
      },
      "source": [
        "centers"
      ],
      "execution_count": 52,
      "outputs": [
        {
          "output_type": "execute_result",
          "data": {
            "text/plain": [
              "[array([35.88461538, 31.46153846, 34.42307692]),\n",
              " array([5.12, 5.84, 4.84]),\n",
              " array([80.        , 79.20833333, 78.29166667])]"
            ]
          },
          "metadata": {
            "tags": []
          },
          "execution_count": 52
        }
      ]
    },
    {
      "cell_type": "code",
      "metadata": {
        "id": "GGVzJbzKoSVE",
        "colab_type": "code",
        "colab": {
          "base_uri": "https://localhost:8080/",
          "height": 459
        },
        "outputId": "bca517d3-3db1-496f-ea8e-abbaf13aee6e"
      },
      "source": [
        "vcluster_df.show()"
      ],
      "execution_count": 53,
      "outputs": [
        {
          "output_type": "stream",
          "text": [
            "+----+----+----+--------------+\n",
            "|col1|col2|col3|      features|\n",
            "+----+----+----+--------------+\n",
            "|   7|   4|   1| [7.0,4.0,1.0]|\n",
            "|   7|   7|   9| [7.0,7.0,9.0]|\n",
            "|   7|   9|   6| [7.0,9.0,6.0]|\n",
            "|   1|   6|   5| [1.0,6.0,5.0]|\n",
            "|   6|   7|   7| [6.0,7.0,7.0]|\n",
            "|   7|   9|   4| [7.0,9.0,4.0]|\n",
            "|   7|  10|   6|[7.0,10.0,6.0]|\n",
            "|   7|   8|   2| [7.0,8.0,2.0]|\n",
            "|   8|   3|   8| [8.0,3.0,8.0]|\n",
            "|   4|  10|   5|[4.0,10.0,5.0]|\n",
            "|   7|   4|   5| [7.0,4.0,5.0]|\n",
            "|   7|   8|   4| [7.0,8.0,4.0]|\n",
            "|   2|   5|   1| [2.0,5.0,1.0]|\n",
            "|   2|   6|   2| [2.0,6.0,2.0]|\n",
            "|   2|   3|   8| [2.0,3.0,8.0]|\n",
            "|   3|   9|   1| [3.0,9.0,1.0]|\n",
            "|   4|   2|   9| [4.0,2.0,9.0]|\n",
            "|   1|   7|   1| [1.0,7.0,1.0]|\n",
            "|   6|   2|   3| [6.0,2.0,3.0]|\n",
            "|   4|   1|   9| [4.0,1.0,9.0]|\n",
            "+----+----+----+--------------+\n",
            "only showing top 20 rows\n",
            "\n"
          ],
          "name": "stdout"
        }
      ]
    },
    {
      "cell_type": "code",
      "metadata": {
        "id": "7A5kKWBIo0JJ",
        "colab_type": "code",
        "colab": {}
      },
      "source": [
        "from pyspark.ml.clustering import BisectingKMeans"
      ],
      "execution_count": 54,
      "outputs": []
    },
    {
      "cell_type": "code",
      "metadata": {
        "id": "_HVRNIUgo-R-",
        "colab_type": "code",
        "colab": {}
      },
      "source": [
        "bkmeans = BisectingKMeans().setK(3)"
      ],
      "execution_count": 55,
      "outputs": []
    },
    {
      "cell_type": "code",
      "metadata": {
        "id": "yjEFBq7FpLbG",
        "colab_type": "code",
        "colab": {}
      },
      "source": [
        "bkmeans = bkmeans.setSeed(1)"
      ],
      "execution_count": 56,
      "outputs": []
    },
    {
      "cell_type": "code",
      "metadata": {
        "id": "EBGEbk28pT9R",
        "colab_type": "code",
        "colab": {}
      },
      "source": [
        "bkmodel = bkmeans.fit(vcluster_df)"
      ],
      "execution_count": 57,
      "outputs": []
    },
    {
      "cell_type": "code",
      "metadata": {
        "id": "U-3_hSYEpilN",
        "colab_type": "code",
        "colab": {}
      },
      "source": [
        "bkecenters = bkmodel.clusterCenters()"
      ],
      "execution_count": 58,
      "outputs": []
    },
    {
      "cell_type": "code",
      "metadata": {
        "id": "Iqc0o6N0p4IB",
        "colab_type": "code",
        "colab": {
          "base_uri": "https://localhost:8080/",
          "height": 68
        },
        "outputId": "1b9f6e29-c2ac-443e-c8f6-7cc5100010ef"
      },
      "source": [
        "# Center for bisekting kmeans clustering\n",
        "bkecenters"
      ],
      "execution_count": 59,
      "outputs": [
        {
          "output_type": "execute_result",
          "data": {
            "text/plain": [
              "[array([5.12, 5.84, 4.84]),\n",
              " array([35.88461538, 31.46153846, 34.42307692]),\n",
              " array([80.        , 79.20833333, 78.29166667])]"
            ]
          },
          "metadata": {
            "tags": []
          },
          "execution_count": 59
        }
      ]
    },
    {
      "cell_type": "code",
      "metadata": {
        "id": "3ZKs1IyMp8YQ",
        "colab_type": "code",
        "colab": {
          "base_uri": "https://localhost:8080/",
          "height": 68
        },
        "outputId": "d83606e6-753f-4ad4-d151-0bef79384e9a"
      },
      "source": [
        "# Center for kmeans clustering\n",
        "centers"
      ],
      "execution_count": 60,
      "outputs": [
        {
          "output_type": "execute_result",
          "data": {
            "text/plain": [
              "[array([35.88461538, 31.46153846, 34.42307692]),\n",
              " array([5.12, 5.84, 4.84]),\n",
              " array([80.        , 79.20833333, 78.29166667])]"
            ]
          },
          "metadata": {
            "tags": []
          },
          "execution_count": 60
        }
      ]
    },
    {
      "cell_type": "markdown",
      "metadata": {
        "id": "I5VtSrjH8XFW",
        "colab_type": "text"
      },
      "source": [
        "## **Classification**"
      ]
    },
    {
      "cell_type": "code",
      "metadata": {
        "id": "p6s6tnQTqCyx",
        "colab_type": "code",
        "colab": {}
      },
      "source": [
        "from pyspark.sql.functions import *\n",
        "from pyspark.ml.feature import VectorAssembler, StringIndexer"
      ],
      "execution_count": 61,
      "outputs": []
    },
    {
      "cell_type": "code",
      "metadata": {
        "id": "cYBVAxcB8oQn",
        "colab_type": "code",
        "colab": {
          "base_uri": "https://localhost:8080/",
          "height": 204
        },
        "outputId": "acdcb900-47ac-4807-c185-4297626c904a"
      },
      "source": [
        "# Loading the data\n",
        "iris_df = spark.read.csv('/content/drive/My Drive/colab_notes/datasets/exercises/iris.data', inferSchema=True)\n",
        "iris_df.cache()\n",
        "iris_df.count()\n",
        "iris_df.show(5, truncate=False)"
      ],
      "execution_count": 62,
      "outputs": [
        {
          "output_type": "stream",
          "text": [
            "+---+---+---+---+-----------+\n",
            "|_c0|_c1|_c2|_c3|_c4        |\n",
            "+---+---+---+---+-----------+\n",
            "|5.1|3.5|1.4|0.2|Iris-setosa|\n",
            "|4.9|3.0|1.4|0.2|Iris-setosa|\n",
            "|4.7|3.2|1.3|0.2|Iris-setosa|\n",
            "|4.6|3.1|1.5|0.2|Iris-setosa|\n",
            "|5.0|3.6|1.4|0.2|Iris-setosa|\n",
            "+---+---+---+---+-----------+\n",
            "only showing top 5 rows\n",
            "\n"
          ],
          "name": "stdout"
        }
      ]
    },
    {
      "cell_type": "code",
      "metadata": {
        "id": "Ei1ThN1i86Rk",
        "colab_type": "code",
        "colab": {}
      },
      "source": [
        "iris_df = iris_df.select(\n",
        "    col('_c0').alias('sepal_length'),\n",
        "    col('_c1').alias('sepal_width'),\n",
        "    col('_c2').alias('petal_length'),\n",
        "    col('_c3').alias('petal_width'),\n",
        "    col('_c4').alias('species'))"
      ],
      "execution_count": 63,
      "outputs": []
    },
    {
      "cell_type": "code",
      "metadata": {
        "id": "CCmm0c-19qyj",
        "colab_type": "code",
        "colab": {
          "base_uri": "https://localhost:8080/",
          "height": 459
        },
        "outputId": "93dc2087-408c-48a3-dfab-e169ec0df59f"
      },
      "source": [
        "iris_df.show()"
      ],
      "execution_count": 64,
      "outputs": [
        {
          "output_type": "stream",
          "text": [
            "+------------+-----------+------------+-----------+-----------+\n",
            "|sepal_length|sepal_width|petal_length|petal_width|    species|\n",
            "+------------+-----------+------------+-----------+-----------+\n",
            "|         5.1|        3.5|         1.4|        0.2|Iris-setosa|\n",
            "|         4.9|        3.0|         1.4|        0.2|Iris-setosa|\n",
            "|         4.7|        3.2|         1.3|        0.2|Iris-setosa|\n",
            "|         4.6|        3.1|         1.5|        0.2|Iris-setosa|\n",
            "|         5.0|        3.6|         1.4|        0.2|Iris-setosa|\n",
            "|         5.4|        3.9|         1.7|        0.4|Iris-setosa|\n",
            "|         4.6|        3.4|         1.4|        0.3|Iris-setosa|\n",
            "|         5.0|        3.4|         1.5|        0.2|Iris-setosa|\n",
            "|         4.4|        2.9|         1.4|        0.2|Iris-setosa|\n",
            "|         4.9|        3.1|         1.5|        0.1|Iris-setosa|\n",
            "|         5.4|        3.7|         1.5|        0.2|Iris-setosa|\n",
            "|         4.8|        3.4|         1.6|        0.2|Iris-setosa|\n",
            "|         4.8|        3.0|         1.4|        0.1|Iris-setosa|\n",
            "|         4.3|        3.0|         1.1|        0.1|Iris-setosa|\n",
            "|         5.8|        4.0|         1.2|        0.2|Iris-setosa|\n",
            "|         5.7|        4.4|         1.5|        0.4|Iris-setosa|\n",
            "|         5.4|        3.9|         1.3|        0.4|Iris-setosa|\n",
            "|         5.1|        3.5|         1.4|        0.3|Iris-setosa|\n",
            "|         5.7|        3.8|         1.7|        0.3|Iris-setosa|\n",
            "|         5.1|        3.8|         1.5|        0.3|Iris-setosa|\n",
            "+------------+-----------+------------+-----------+-----------+\n",
            "only showing top 20 rows\n",
            "\n"
          ],
          "name": "stdout"
        }
      ]
    },
    {
      "cell_type": "code",
      "metadata": {
        "id": "A2iI0TkQ9vo8",
        "colab_type": "code",
        "colab": {}
      },
      "source": [
        "vectorAssembler = VectorAssembler(\n",
        "    inputCols=['sepal_length','sepal_width', 'petal_length','petal_width'], outputCol='features')"
      ],
      "execution_count": 65,
      "outputs": []
    },
    {
      "cell_type": "code",
      "metadata": {
        "id": "CNpGYcsj-PXr",
        "colab_type": "code",
        "colab": {}
      },
      "source": [
        "viris_df = vectorAssembler.transform(iris_df)"
      ],
      "execution_count": 66,
      "outputs": []
    },
    {
      "cell_type": "code",
      "metadata": {
        "id": "qWbQ66uE-Z5_",
        "colab_type": "code",
        "colab": {
          "base_uri": "https://localhost:8080/",
          "height": 459
        },
        "outputId": "f926068d-bccd-444e-e3ff-93b9425edf38"
      },
      "source": [
        "viris_df.show()"
      ],
      "execution_count": 67,
      "outputs": [
        {
          "output_type": "stream",
          "text": [
            "+------------+-----------+------------+-----------+-----------+-----------------+\n",
            "|sepal_length|sepal_width|petal_length|petal_width|    species|         features|\n",
            "+------------+-----------+------------+-----------+-----------+-----------------+\n",
            "|         5.1|        3.5|         1.4|        0.2|Iris-setosa|[5.1,3.5,1.4,0.2]|\n",
            "|         4.9|        3.0|         1.4|        0.2|Iris-setosa|[4.9,3.0,1.4,0.2]|\n",
            "|         4.7|        3.2|         1.3|        0.2|Iris-setosa|[4.7,3.2,1.3,0.2]|\n",
            "|         4.6|        3.1|         1.5|        0.2|Iris-setosa|[4.6,3.1,1.5,0.2]|\n",
            "|         5.0|        3.6|         1.4|        0.2|Iris-setosa|[5.0,3.6,1.4,0.2]|\n",
            "|         5.4|        3.9|         1.7|        0.4|Iris-setosa|[5.4,3.9,1.7,0.4]|\n",
            "|         4.6|        3.4|         1.4|        0.3|Iris-setosa|[4.6,3.4,1.4,0.3]|\n",
            "|         5.0|        3.4|         1.5|        0.2|Iris-setosa|[5.0,3.4,1.5,0.2]|\n",
            "|         4.4|        2.9|         1.4|        0.2|Iris-setosa|[4.4,2.9,1.4,0.2]|\n",
            "|         4.9|        3.1|         1.5|        0.1|Iris-setosa|[4.9,3.1,1.5,0.1]|\n",
            "|         5.4|        3.7|         1.5|        0.2|Iris-setosa|[5.4,3.7,1.5,0.2]|\n",
            "|         4.8|        3.4|         1.6|        0.2|Iris-setosa|[4.8,3.4,1.6,0.2]|\n",
            "|         4.8|        3.0|         1.4|        0.1|Iris-setosa|[4.8,3.0,1.4,0.1]|\n",
            "|         4.3|        3.0|         1.1|        0.1|Iris-setosa|[4.3,3.0,1.1,0.1]|\n",
            "|         5.8|        4.0|         1.2|        0.2|Iris-setosa|[5.8,4.0,1.2,0.2]|\n",
            "|         5.7|        4.4|         1.5|        0.4|Iris-setosa|[5.7,4.4,1.5,0.4]|\n",
            "|         5.4|        3.9|         1.3|        0.4|Iris-setosa|[5.4,3.9,1.3,0.4]|\n",
            "|         5.1|        3.5|         1.4|        0.3|Iris-setosa|[5.1,3.5,1.4,0.3]|\n",
            "|         5.7|        3.8|         1.7|        0.3|Iris-setosa|[5.7,3.8,1.7,0.3]|\n",
            "|         5.1|        3.8|         1.5|        0.3|Iris-setosa|[5.1,3.8,1.5,0.3]|\n",
            "+------------+-----------+------------+-----------+-----------+-----------------+\n",
            "only showing top 20 rows\n",
            "\n"
          ],
          "name": "stdout"
        }
      ]
    },
    {
      "cell_type": "code",
      "metadata": {
        "id": "z8cTwgjS-bYF",
        "colab_type": "code",
        "colab": {}
      },
      "source": [
        "# transforming label name into a numeric value using string indexer\n",
        "indexer = StringIndexer(inputCol='species', outputCol='label')"
      ],
      "execution_count": 68,
      "outputs": []
    },
    {
      "cell_type": "code",
      "metadata": {
        "id": "8JbZCgHE-zsU",
        "colab_type": "code",
        "colab": {}
      },
      "source": [
        "iviris_df = indexer.fit(viris_df).transform(viris_df)"
      ],
      "execution_count": 69,
      "outputs": []
    },
    {
      "cell_type": "code",
      "metadata": {
        "id": "dFITv7QF_FI_",
        "colab_type": "code",
        "colab": {
          "base_uri": "https://localhost:8080/",
          "height": 459
        },
        "outputId": "81b2a010-e0a3-4446-8d98-0485432c8a2c"
      },
      "source": [
        "iviris_df.show()"
      ],
      "execution_count": 70,
      "outputs": [
        {
          "output_type": "stream",
          "text": [
            "+------------+-----------+------------+-----------+-----------+-----------------+-----+\n",
            "|sepal_length|sepal_width|petal_length|petal_width|    species|         features|label|\n",
            "+------------+-----------+------------+-----------+-----------+-----------------+-----+\n",
            "|         5.1|        3.5|         1.4|        0.2|Iris-setosa|[5.1,3.5,1.4,0.2]|  0.0|\n",
            "|         4.9|        3.0|         1.4|        0.2|Iris-setosa|[4.9,3.0,1.4,0.2]|  0.0|\n",
            "|         4.7|        3.2|         1.3|        0.2|Iris-setosa|[4.7,3.2,1.3,0.2]|  0.0|\n",
            "|         4.6|        3.1|         1.5|        0.2|Iris-setosa|[4.6,3.1,1.5,0.2]|  0.0|\n",
            "|         5.0|        3.6|         1.4|        0.2|Iris-setosa|[5.0,3.6,1.4,0.2]|  0.0|\n",
            "|         5.4|        3.9|         1.7|        0.4|Iris-setosa|[5.4,3.9,1.7,0.4]|  0.0|\n",
            "|         4.6|        3.4|         1.4|        0.3|Iris-setosa|[4.6,3.4,1.4,0.3]|  0.0|\n",
            "|         5.0|        3.4|         1.5|        0.2|Iris-setosa|[5.0,3.4,1.5,0.2]|  0.0|\n",
            "|         4.4|        2.9|         1.4|        0.2|Iris-setosa|[4.4,2.9,1.4,0.2]|  0.0|\n",
            "|         4.9|        3.1|         1.5|        0.1|Iris-setosa|[4.9,3.1,1.5,0.1]|  0.0|\n",
            "|         5.4|        3.7|         1.5|        0.2|Iris-setosa|[5.4,3.7,1.5,0.2]|  0.0|\n",
            "|         4.8|        3.4|         1.6|        0.2|Iris-setosa|[4.8,3.4,1.6,0.2]|  0.0|\n",
            "|         4.8|        3.0|         1.4|        0.1|Iris-setosa|[4.8,3.0,1.4,0.1]|  0.0|\n",
            "|         4.3|        3.0|         1.1|        0.1|Iris-setosa|[4.3,3.0,1.1,0.1]|  0.0|\n",
            "|         5.8|        4.0|         1.2|        0.2|Iris-setosa|[5.8,4.0,1.2,0.2]|  0.0|\n",
            "|         5.7|        4.4|         1.5|        0.4|Iris-setosa|[5.7,4.4,1.5,0.4]|  0.0|\n",
            "|         5.4|        3.9|         1.3|        0.4|Iris-setosa|[5.4,3.9,1.3,0.4]|  0.0|\n",
            "|         5.1|        3.5|         1.4|        0.3|Iris-setosa|[5.1,3.5,1.4,0.3]|  0.0|\n",
            "|         5.7|        3.8|         1.7|        0.3|Iris-setosa|[5.7,3.8,1.7,0.3]|  0.0|\n",
            "|         5.1|        3.8|         1.5|        0.3|Iris-setosa|[5.1,3.8,1.5,0.3]|  0.0|\n",
            "+------------+-----------+------------+-----------+-----------+-----------------+-----+\n",
            "only showing top 20 rows\n",
            "\n"
          ],
          "name": "stdout"
        }
      ]
    },
    {
      "cell_type": "markdown",
      "metadata": {
        "id": "o_5JGJlL_eIb",
        "colab_type": "text"
      },
      "source": [
        "## **Naive Bayes Classifier**"
      ]
    },
    {
      "cell_type": "code",
      "metadata": {
        "id": "tcW9uFhP_IYi",
        "colab_type": "code",
        "colab": {}
      },
      "source": [
        "from pyspark.ml.classification import NaiveBayes\n",
        "from pyspark.ml.evaluation import MulticlassClassificationEvaluator"
      ],
      "execution_count": 71,
      "outputs": []
    },
    {
      "cell_type": "code",
      "metadata": {
        "id": "iGQ4nvT-_u2T",
        "colab_type": "code",
        "colab": {}
      },
      "source": [
        "# Splitting the data\n",
        "splits = iviris_df.randomSplit([0.6,0.4],1)"
      ],
      "execution_count": 72,
      "outputs": []
    },
    {
      "cell_type": "code",
      "metadata": {
        "id": "ICdfk2WOABHR",
        "colab_type": "code",
        "colab": {}
      },
      "source": [
        "train_df = splits[0]"
      ],
      "execution_count": 73,
      "outputs": []
    },
    {
      "cell_type": "code",
      "metadata": {
        "id": "4iu1H0L_AFi8",
        "colab_type": "code",
        "colab": {}
      },
      "source": [
        "test_df = splits[1]"
      ],
      "execution_count": 74,
      "outputs": []
    },
    {
      "cell_type": "code",
      "metadata": {
        "id": "zTODgxLRAK5O",
        "colab_type": "code",
        "colab": {
          "base_uri": "https://localhost:8080/",
          "height": 34
        },
        "outputId": "281b2a2f-fae4-4c75-c765-98fc61eea541"
      },
      "source": [
        "train_df.count()"
      ],
      "execution_count": 75,
      "outputs": [
        {
          "output_type": "execute_result",
          "data": {
            "text/plain": [
              "92"
            ]
          },
          "metadata": {
            "tags": []
          },
          "execution_count": 75
        }
      ]
    },
    {
      "cell_type": "code",
      "metadata": {
        "id": "qrRGip0LAOgh",
        "colab_type": "code",
        "colab": {
          "base_uri": "https://localhost:8080/",
          "height": 34
        },
        "outputId": "d18f0a85-7e2e-4c5c-e761-dcba41cf500d"
      },
      "source": [
        "test_df.count()"
      ],
      "execution_count": 76,
      "outputs": [
        {
          "output_type": "execute_result",
          "data": {
            "text/plain": [
              "58"
            ]
          },
          "metadata": {
            "tags": []
          },
          "execution_count": 76
        }
      ]
    },
    {
      "cell_type": "code",
      "metadata": {
        "id": "LRiifBLFAWN2",
        "colab_type": "code",
        "colab": {
          "base_uri": "https://localhost:8080/",
          "height": 34
        },
        "outputId": "6aca2739-c971-4a6a-9915-9bebaa8ac842"
      },
      "source": [
        "iviris_df.count()"
      ],
      "execution_count": 77,
      "outputs": [
        {
          "output_type": "execute_result",
          "data": {
            "text/plain": [
              "150"
            ]
          },
          "metadata": {
            "tags": []
          },
          "execution_count": 77
        }
      ]
    },
    {
      "cell_type": "code",
      "metadata": {
        "id": "tuh4rclFAbok",
        "colab_type": "code",
        "colab": {}
      },
      "source": [
        "# Defining a naive bayes classifier\n",
        "nb = NaiveBayes(modelType='multinomial')"
      ],
      "execution_count": 78,
      "outputs": []
    },
    {
      "cell_type": "code",
      "metadata": {
        "id": "GoZNPloRAmVp",
        "colab_type": "code",
        "colab": {}
      },
      "source": [
        "# Fit the model to the data\n",
        "nbModel = nb.fit(train_df)"
      ],
      "execution_count": 79,
      "outputs": []
    },
    {
      "cell_type": "code",
      "metadata": {
        "id": "GTtyXH19AwzB",
        "colab_type": "code",
        "colab": {}
      },
      "source": [
        "predictions_df = nbModel.transform(test_df)"
      ],
      "execution_count": 80,
      "outputs": []
    },
    {
      "cell_type": "code",
      "metadata": {
        "id": "gvwRefUfA5xZ",
        "colab_type": "code",
        "colab": {
          "base_uri": "https://localhost:8080/",
          "height": 479
        },
        "outputId": "e4349cdf-3e82-44c5-ed66-1ac96080d263"
      },
      "source": [
        "predictions_df.show()"
      ],
      "execution_count": 81,
      "outputs": [
        {
          "output_type": "stream",
          "text": [
            "+------------+-----------+------------+-----------+---------------+-----------------+-----+--------------------+--------------------+----------+\n",
            "|sepal_length|sepal_width|petal_length|petal_width|        species|         features|label|       rawPrediction|         probability|prediction|\n",
            "+------------+-----------+------------+-----------+---------------+-----------------+-----+--------------------+--------------------+----------+\n",
            "|         4.5|        2.3|         1.3|        0.3|    Iris-setosa|[4.5,2.3,1.3,0.3]|  0.0|[-10.360506349494...|[0.56204387804619...|       0.0|\n",
            "|         4.6|        3.1|         1.5|        0.2|    Iris-setosa|[4.6,3.1,1.5,0.2]|  0.0|[-11.322221219128...|[0.67258246553895...|       0.0|\n",
            "|         4.6|        3.4|         1.4|        0.3|    Iris-setosa|[4.6,3.4,1.4,0.3]|  0.0|[-11.815206070650...|[0.69767779143661...|       0.0|\n",
            "|         4.7|        3.2|         1.6|        0.2|    Iris-setosa|[4.7,3.2,1.6,0.2]|  0.0|[-11.696201471654...|[0.67305222919201...|       0.0|\n",
            "|         4.9|        2.4|         3.3|        1.0|Iris-versicolor|[4.9,2.4,3.3,1.0]|  1.0|[-17.198355511447...|[0.10918438338900...|       1.0|\n",
            "|         4.9|        3.0|         1.4|        0.2|    Iris-setosa|[4.9,3.0,1.4,0.2]|  0.0|[-11.231915769098...|[0.68953055036847...|       0.0|\n",
            "|         4.9|        3.1|         1.5|        0.1|    Iris-setosa|[4.9,3.1,1.5,0.1]|  0.0|[-11.171218705027...|[0.71397370255058...|       0.0|\n",
            "|         5.0|        3.0|         1.6|        0.2|    Iris-setosa|[5.0,3.0,1.6,0.2]|  0.0|[-11.692813679800...|[0.66048664385875...|       0.0|\n",
            "|         5.0|        3.4|         1.6|        0.4|    Iris-setosa|[5.0,3.4,1.6,0.4]|  0.0|[-12.852618699197...|[0.65226077409999...|       0.0|\n",
            "|         5.0|        3.6|         1.4|        0.2|    Iris-setosa|[5.0,3.6,1.4,0.2]|  0.0|[-11.951266150900...|[0.76265805308510...|       0.0|\n",
            "|         5.1|        2.5|         3.0|        1.1|Iris-versicolor|[5.1,2.5,3.0,1.1]|  1.0|[-17.227054660413...|[0.12960912222359...|       1.0|\n",
            "|         5.1|        3.5|         1.4|        0.3|    Iris-setosa|[5.1,3.5,1.4,0.3]|  0.0|[-12.277871520633...|[0.72997309971062...|       0.0|\n",
            "|         5.1|        3.8|         1.5|        0.3|    Iris-setosa|[5.1,3.8,1.5,0.3]|  0.0|[-12.797076966261...|[0.74893511903195...|       0.0|\n",
            "|         5.1|        3.8|         1.6|        0.2|    Iris-setosa|[5.1,3.8,1.6,0.2]|  0.0|[-12.628307955328...|[0.75974510193753...|       0.0|\n",
            "|         5.1|        3.8|         1.9|        0.4|    Iris-setosa|[5.1,3.8,1.9,0.4]|  0.0|[-13.940794002391...|[0.65781684979290...|       0.0|\n",
            "|         5.2|        3.4|         1.4|        0.2|    Iris-setosa|[5.2,3.4,1.4,0.2]|  0.0|[-11.876959658422...|[0.74852415363130...|       0.0|\n",
            "|         5.2|        3.5|         1.5|        0.2|    Iris-setosa|[5.2,3.5,1.5,0.2]|  0.0|[-12.180021210324...|[0.74513032773478...|       0.0|\n",
            "|         5.4|        3.4|         1.7|        0.2|    Iris-setosa|[5.4,3.4,1.7,0.2]|  0.0|[-12.603765874788...|[0.71139706899301...|       0.0|\n",
            "|         5.4|        3.9|         1.7|        0.4|    Iris-setosa|[5.4,3.9,1.7,0.4]|  0.0|[-13.871642841048...|[0.71586974215794...|       0.0|\n",
            "|         5.5|        2.3|         4.0|        1.3|Iris-versicolor|[5.5,2.3,4.0,1.3]|  1.0|[-19.971998851521...|[0.04808646493374...|       1.0|\n",
            "+------------+-----------+------------+-----------+---------------+-----------------+-----+--------------------+--------------------+----------+\n",
            "only showing top 20 rows\n",
            "\n"
          ],
          "name": "stdout"
        }
      ]
    },
    {
      "cell_type": "code",
      "metadata": {
        "id": "3tHfF1tsA7_b",
        "colab_type": "code",
        "colab": {}
      },
      "source": [
        "# Evaluating the algorithm\n",
        "evaluator = MulticlassClassificationEvaluator(labelCol='label', predictionCol='prediction', metricName='accuracy')"
      ],
      "execution_count": 82,
      "outputs": []
    },
    {
      "cell_type": "code",
      "metadata": {
        "id": "eIAiRiZMBSrS",
        "colab_type": "code",
        "colab": {}
      },
      "source": [
        "nbaccuracy = evaluator.evaluate(predictions_df)"
      ],
      "execution_count": 83,
      "outputs": []
    },
    {
      "cell_type": "code",
      "metadata": {
        "id": "ombpALeEBW8L",
        "colab_type": "code",
        "colab": {
          "base_uri": "https://localhost:8080/",
          "height": 34
        },
        "outputId": "8e263c4b-55a0-4652-9c67-f11c6f55fa59"
      },
      "source": [
        "nbaccuracy"
      ],
      "execution_count": 84,
      "outputs": [
        {
          "output_type": "execute_result",
          "data": {
            "text/plain": [
              "0.5862068965517241"
            ]
          },
          "metadata": {
            "tags": []
          },
          "execution_count": 84
        }
      ]
    },
    {
      "cell_type": "markdown",
      "metadata": {
        "id": "kBNogdsLBkHK",
        "colab_type": "text"
      },
      "source": [
        "## **Multilayer Perceptron**"
      ]
    },
    {
      "cell_type": "code",
      "metadata": {
        "id": "km1_TN0hByYw",
        "colab_type": "code",
        "colab": {}
      },
      "source": [
        "from pyspark.ml.classification import MultilayerPerceptronClassifier"
      ],
      "execution_count": 85,
      "outputs": []
    },
    {
      "cell_type": "code",
      "metadata": {
        "id": "wHpuLdUkBYva",
        "colab_type": "code",
        "colab": {
          "base_uri": "https://localhost:8080/",
          "height": 459
        },
        "outputId": "3a8d76c5-4cda-4d96-b816-fbba40084d89"
      },
      "source": [
        "iviris_df.show()"
      ],
      "execution_count": 86,
      "outputs": [
        {
          "output_type": "stream",
          "text": [
            "+------------+-----------+------------+-----------+-----------+-----------------+-----+\n",
            "|sepal_length|sepal_width|petal_length|petal_width|    species|         features|label|\n",
            "+------------+-----------+------------+-----------+-----------+-----------------+-----+\n",
            "|         5.1|        3.5|         1.4|        0.2|Iris-setosa|[5.1,3.5,1.4,0.2]|  0.0|\n",
            "|         4.9|        3.0|         1.4|        0.2|Iris-setosa|[4.9,3.0,1.4,0.2]|  0.0|\n",
            "|         4.7|        3.2|         1.3|        0.2|Iris-setosa|[4.7,3.2,1.3,0.2]|  0.0|\n",
            "|         4.6|        3.1|         1.5|        0.2|Iris-setosa|[4.6,3.1,1.5,0.2]|  0.0|\n",
            "|         5.0|        3.6|         1.4|        0.2|Iris-setosa|[5.0,3.6,1.4,0.2]|  0.0|\n",
            "|         5.4|        3.9|         1.7|        0.4|Iris-setosa|[5.4,3.9,1.7,0.4]|  0.0|\n",
            "|         4.6|        3.4|         1.4|        0.3|Iris-setosa|[4.6,3.4,1.4,0.3]|  0.0|\n",
            "|         5.0|        3.4|         1.5|        0.2|Iris-setosa|[5.0,3.4,1.5,0.2]|  0.0|\n",
            "|         4.4|        2.9|         1.4|        0.2|Iris-setosa|[4.4,2.9,1.4,0.2]|  0.0|\n",
            "|         4.9|        3.1|         1.5|        0.1|Iris-setosa|[4.9,3.1,1.5,0.1]|  0.0|\n",
            "|         5.4|        3.7|         1.5|        0.2|Iris-setosa|[5.4,3.7,1.5,0.2]|  0.0|\n",
            "|         4.8|        3.4|         1.6|        0.2|Iris-setosa|[4.8,3.4,1.6,0.2]|  0.0|\n",
            "|         4.8|        3.0|         1.4|        0.1|Iris-setosa|[4.8,3.0,1.4,0.1]|  0.0|\n",
            "|         4.3|        3.0|         1.1|        0.1|Iris-setosa|[4.3,3.0,1.1,0.1]|  0.0|\n",
            "|         5.8|        4.0|         1.2|        0.2|Iris-setosa|[5.8,4.0,1.2,0.2]|  0.0|\n",
            "|         5.7|        4.4|         1.5|        0.4|Iris-setosa|[5.7,4.4,1.5,0.4]|  0.0|\n",
            "|         5.4|        3.9|         1.3|        0.4|Iris-setosa|[5.4,3.9,1.3,0.4]|  0.0|\n",
            "|         5.1|        3.5|         1.4|        0.3|Iris-setosa|[5.1,3.5,1.4,0.3]|  0.0|\n",
            "|         5.7|        3.8|         1.7|        0.3|Iris-setosa|[5.7,3.8,1.7,0.3]|  0.0|\n",
            "|         5.1|        3.8|         1.5|        0.3|Iris-setosa|[5.1,3.8,1.5,0.3]|  0.0|\n",
            "+------------+-----------+------------+-----------+-----------+-----------------+-----+\n",
            "only showing top 20 rows\n",
            "\n"
          ],
          "name": "stdout"
        }
      ]
    },
    {
      "cell_type": "code",
      "metadata": {
        "id": "Z9IpPp0MBoid",
        "colab_type": "code",
        "colab": {
          "base_uri": "https://localhost:8080/",
          "height": 34
        },
        "outputId": "50cc8144-2a49-4309-9e6f-488129f76a18"
      },
      "source": [
        "train_df.count()"
      ],
      "execution_count": 87,
      "outputs": [
        {
          "output_type": "execute_result",
          "data": {
            "text/plain": [
              "92"
            ]
          },
          "metadata": {
            "tags": []
          },
          "execution_count": 87
        }
      ]
    },
    {
      "cell_type": "code",
      "metadata": {
        "id": "_OM5zCpRBrV_",
        "colab_type": "code",
        "colab": {
          "base_uri": "https://localhost:8080/",
          "height": 34
        },
        "outputId": "bbc9f6bd-3b03-4e94-e0e7-01478746924f"
      },
      "source": [
        "test_df.count()"
      ],
      "execution_count": 88,
      "outputs": [
        {
          "output_type": "execute_result",
          "data": {
            "text/plain": [
              "58"
            ]
          },
          "metadata": {
            "tags": []
          },
          "execution_count": 88
        }
      ]
    },
    {
      "cell_type": "code",
      "metadata": {
        "id": "xfGKdsbbBshO",
        "colab_type": "code",
        "colab": {
          "base_uri": "https://localhost:8080/",
          "height": 34
        },
        "outputId": "0f0bcd3f-633d-4ab8-f1a0-f68fdf41b3c7"
      },
      "source": [
        "iviris_df.count()"
      ],
      "execution_count": 89,
      "outputs": [
        {
          "output_type": "execute_result",
          "data": {
            "text/plain": [
              "150"
            ]
          },
          "metadata": {
            "tags": []
          },
          "execution_count": 89
        }
      ]
    },
    {
      "cell_type": "code",
      "metadata": {
        "id": "Y0UDSSGjBvMT",
        "colab_type": "code",
        "colab": {}
      },
      "source": [
        "# Defining the neural network\n",
        "layers = [4, 5, 5, 3]"
      ],
      "execution_count": 90,
      "outputs": []
    },
    {
      "cell_type": "code",
      "metadata": {
        "id": "mt2WTPokCLob",
        "colab_type": "code",
        "colab": {}
      },
      "source": [
        "mlp = MultilayerPerceptronClassifier(layers=layers, seed=1)"
      ],
      "execution_count": 91,
      "outputs": []
    },
    {
      "cell_type": "code",
      "metadata": {
        "id": "R8K0rvYDCUvy",
        "colab_type": "code",
        "colab": {}
      },
      "source": [
        "mlp_model = mlp.fit(train_df)"
      ],
      "execution_count": 92,
      "outputs": []
    },
    {
      "cell_type": "code",
      "metadata": {
        "id": "gIimLoa8CZXu",
        "colab_type": "code",
        "colab": {}
      },
      "source": [
        "mlp_predictions = mlp_model.transform(test_df)"
      ],
      "execution_count": 93,
      "outputs": []
    },
    {
      "cell_type": "code",
      "metadata": {
        "id": "7HfxghzwCg5o",
        "colab_type": "code",
        "colab": {}
      },
      "source": [
        "mlp_evaluator = MulticlassClassificationEvaluator(metricName='accuracy')"
      ],
      "execution_count": 94,
      "outputs": []
    },
    {
      "cell_type": "code",
      "metadata": {
        "id": "u5r8MV07C2b1",
        "colab_type": "code",
        "colab": {}
      },
      "source": [
        "mlp_accuracy = mlp_evaluator.evaluate(mlp_predictions)"
      ],
      "execution_count": 95,
      "outputs": []
    },
    {
      "cell_type": "code",
      "metadata": {
        "id": "lN_sNSPtC9jd",
        "colab_type": "code",
        "colab": {
          "base_uri": "https://localhost:8080/",
          "height": 34
        },
        "outputId": "46def5e9-bbc1-495a-91fd-9712e7ef01ca"
      },
      "source": [
        "mlp_accuracy"
      ],
      "execution_count": 96,
      "outputs": [
        {
          "output_type": "execute_result",
          "data": {
            "text/plain": [
              "0.9482758620689655"
            ]
          },
          "metadata": {
            "tags": []
          },
          "execution_count": 96
        }
      ]
    },
    {
      "cell_type": "markdown",
      "metadata": {
        "id": "FcpgaiC2DR_H",
        "colab_type": "text"
      },
      "source": [
        "## **Decision Tree Classifier**"
      ]
    },
    {
      "cell_type": "code",
      "metadata": {
        "id": "lNRuW_1GC-zn",
        "colab_type": "code",
        "colab": {}
      },
      "source": [
        "from pyspark.ml.classification import DecisionTreeClassifier"
      ],
      "execution_count": 97,
      "outputs": []
    },
    {
      "cell_type": "code",
      "metadata": {
        "id": "hdUJuzJVDele",
        "colab_type": "code",
        "colab": {}
      },
      "source": [
        "dt = DecisionTreeClassifier(labelCol='label', featuresCol='features')"
      ],
      "execution_count": 98,
      "outputs": []
    },
    {
      "cell_type": "code",
      "metadata": {
        "id": "enHhZ5E8DnrZ",
        "colab_type": "code",
        "colab": {}
      },
      "source": [
        "dt_model = dt.fit(train_df)"
      ],
      "execution_count": 99,
      "outputs": []
    },
    {
      "cell_type": "code",
      "metadata": {
        "id": "p9Cee10DDqAx",
        "colab_type": "code",
        "colab": {}
      },
      "source": [
        "dt_predictions = dt_model.transform(test_df)"
      ],
      "execution_count": 100,
      "outputs": []
    },
    {
      "cell_type": "code",
      "metadata": {
        "id": "u349fANLDucj",
        "colab_type": "code",
        "colab": {}
      },
      "source": [
        "dt_evaluator = MulticlassClassificationEvaluator(labelCol='label',predictionCol='prediction', metricName='accuracy')"
      ],
      "execution_count": 101,
      "outputs": []
    },
    {
      "cell_type": "code",
      "metadata": {
        "id": "UUw8N_SkD8bk",
        "colab_type": "code",
        "colab": {}
      },
      "source": [
        "dt_accuracy = dt_evaluator.evaluate(dt_predictions)"
      ],
      "execution_count": 102,
      "outputs": []
    },
    {
      "cell_type": "code",
      "metadata": {
        "id": "SzggEmIfEG2M",
        "colab_type": "code",
        "colab": {
          "base_uri": "https://localhost:8080/",
          "height": 34
        },
        "outputId": "0857ec53-5936-49b7-d443-fc81b9b2c991"
      },
      "source": [
        "dt_accuracy"
      ],
      "execution_count": 103,
      "outputs": [
        {
          "output_type": "execute_result",
          "data": {
            "text/plain": [
              "0.9310344827586207"
            ]
          },
          "metadata": {
            "tags": []
          },
          "execution_count": 103
        }
      ]
    },
    {
      "cell_type": "markdown",
      "metadata": {
        "id": "4hR0ObmHw3u0",
        "colab_type": "text"
      },
      "source": [
        "# **Regression**"
      ]
    },
    {
      "cell_type": "code",
      "metadata": {
        "id": "VsOteZRFEIDM",
        "colab_type": "code",
        "colab": {}
      },
      "source": [
        "from pyspark.ml.regression import LinearRegression"
      ],
      "execution_count": 104,
      "outputs": []
    },
    {
      "cell_type": "code",
      "metadata": {
        "id": "DjZP6zXEy8VQ",
        "colab_type": "code",
        "colab": {
          "base_uri": "https://localhost:8080/",
          "height": 204
        },
        "outputId": "41bf623e-1703-4e70-f640-66455fb85f39"
      },
      "source": [
        "pp_df = spark.read.csv('/content/drive/My Drive/colab_notes/datasets/exercises/CCPP/power_plant.csv', header=True, inferSchema=True)\n",
        "pp_df.cache()\n",
        "pp_df.count()\n",
        "pp_df.show(5, truncate=False)"
      ],
      "execution_count": 105,
      "outputs": [
        {
          "output_type": "stream",
          "text": [
            "+-----+-----+-------+-----+------+\n",
            "|AT   |V    |AP     |RH   |PE    |\n",
            "+-----+-----+-------+-----+------+\n",
            "|8.34 |40.77|1010.84|90.01|480.48|\n",
            "|23.64|58.49|1011.4 |74.2 |445.75|\n",
            "|29.74|56.9 |1007.15|41.91|438.76|\n",
            "|19.07|49.69|1007.22|76.79|453.09|\n",
            "|11.8 |40.66|1017.13|97.2 |464.43|\n",
            "+-----+-----+-------+-----+------+\n",
            "only showing top 5 rows\n",
            "\n"
          ],
          "name": "stdout"
        }
      ]
    },
    {
      "cell_type": "code",
      "metadata": {
        "id": "2qT1YixYzfi2",
        "colab_type": "code",
        "colab": {
          "base_uri": "https://localhost:8080/",
          "height": 136
        },
        "outputId": "fd1c4964-799a-44f9-917e-9f0a9d12b78c"
      },
      "source": [
        "pp_df.printSchema()"
      ],
      "execution_count": 106,
      "outputs": [
        {
          "output_type": "stream",
          "text": [
            "root\n",
            " |-- AT: double (nullable = true)\n",
            " |-- V: double (nullable = true)\n",
            " |-- AP: double (nullable = true)\n",
            " |-- RH: double (nullable = true)\n",
            " |-- PE: double (nullable = true)\n",
            "\n"
          ],
          "name": "stdout"
        }
      ]
    },
    {
      "cell_type": "code",
      "metadata": {
        "id": "WW1gAEcLzjNz",
        "colab_type": "code",
        "colab": {}
      },
      "source": [
        "vectorAssembler = VectorAssembler(inputCols=['AT', 'V', 'AP', 'RH', 'PE'], outputCol='features')"
      ],
      "execution_count": 107,
      "outputs": []
    },
    {
      "cell_type": "code",
      "metadata": {
        "id": "kNVnZfQZz2rb",
        "colab_type": "code",
        "colab": {}
      },
      "source": [
        "vpp_df = vectorAssembler.transform(pp_df)"
      ],
      "execution_count": 109,
      "outputs": []
    },
    {
      "cell_type": "code",
      "metadata": {
        "id": "JDAkUFUUz6tG",
        "colab_type": "code",
        "colab": {
          "base_uri": "https://localhost:8080/",
          "height": 459
        },
        "outputId": "92cf0974-7437-4989-ffc1-430da46e10b8"
      },
      "source": [
        "vpp_df.show(truncate=False)"
      ],
      "execution_count": 111,
      "outputs": [
        {
          "output_type": "stream",
          "text": [
            "+-----+-----+-------+-----+------+----------------------------------+\n",
            "|AT   |V    |AP     |RH   |PE    |features                          |\n",
            "+-----+-----+-------+-----+------+----------------------------------+\n",
            "|8.34 |40.77|1010.84|90.01|480.48|[8.34,40.77,1010.84,90.01,480.48] |\n",
            "|23.64|58.49|1011.4 |74.2 |445.75|[23.64,58.49,1011.4,74.2,445.75]  |\n",
            "|29.74|56.9 |1007.15|41.91|438.76|[29.74,56.9,1007.15,41.91,438.76] |\n",
            "|19.07|49.69|1007.22|76.79|453.09|[19.07,49.69,1007.22,76.79,453.09]|\n",
            "|11.8 |40.66|1017.13|97.2 |464.43|[11.8,40.66,1017.13,97.2,464.43]  |\n",
            "|13.97|39.16|1016.05|84.6 |470.96|[13.97,39.16,1016.05,84.6,470.96] |\n",
            "|22.1 |71.29|1008.2 |75.38|442.35|[22.1,71.29,1008.2,75.38,442.35]  |\n",
            "|14.47|41.76|1021.98|78.41|464.0 |[14.47,41.76,1021.98,78.41,464.0] |\n",
            "|31.25|69.51|1010.25|36.83|428.77|[31.25,69.51,1010.25,36.83,428.77]|\n",
            "|6.77 |38.18|1017.8 |81.13|484.31|[6.77,38.18,1017.8,81.13,484.31]  |\n",
            "|28.28|68.67|1006.36|69.9 |435.29|[28.28,68.67,1006.36,69.9,435.29] |\n",
            "|22.99|46.93|1014.15|49.42|451.41|[22.99,46.93,1014.15,49.42,451.41]|\n",
            "|29.3 |70.04|1010.95|61.23|426.25|[29.3,70.04,1010.95,61.23,426.25] |\n",
            "|8.14 |37.49|1009.04|80.33|480.66|[8.14,37.49,1009.04,80.33,480.66] |\n",
            "|16.92|44.6 |1017.34|58.75|460.17|[16.92,44.6,1017.34,58.75,460.17] |\n",
            "|22.72|64.15|1021.14|60.34|453.13|[22.72,64.15,1021.14,60.34,453.13]|\n",
            "|18.14|43.56|1012.83|47.1 |461.71|[18.14,43.56,1012.83,47.1,461.71] |\n",
            "|11.49|44.63|1020.44|86.04|471.08|[11.49,44.63,1020.44,86.04,471.08]|\n",
            "|9.94 |40.46|1018.9 |68.51|473.74|[9.94,40.46,1018.9,68.51,473.74]  |\n",
            "|23.54|41.1 |1002.05|38.05|448.56|[23.54,41.1,1002.05,38.05,448.56] |\n",
            "+-----+-----+-------+-----+------+----------------------------------+\n",
            "only showing top 20 rows\n",
            "\n"
          ],
          "name": "stdout"
        }
      ]
    },
    {
      "cell_type": "markdown",
      "metadata": {
        "id": "fCv1VuJS0Gox",
        "colab_type": "text"
      },
      "source": [
        "## **Linear Regression**"
      ]
    },
    {
      "cell_type": "code",
      "metadata": {
        "id": "De9P5ohRz-3R",
        "colab_type": "code",
        "colab": {}
      },
      "source": [
        "lr = LinearRegression(featuresCol='features', labelCol='PE')"
      ],
      "execution_count": 112,
      "outputs": []
    },
    {
      "cell_type": "code",
      "metadata": {
        "id": "iHyrZfC00Q08",
        "colab_type": "code",
        "colab": {}
      },
      "source": [
        "lr_model = lr.fit(vpp_df)"
      ],
      "execution_count": 113,
      "outputs": []
    },
    {
      "cell_type": "code",
      "metadata": {
        "id": "LQdI5vrv0VPk",
        "colab_type": "code",
        "colab": {
          "base_uri": "https://localhost:8080/",
          "height": 34
        },
        "outputId": "6b3e589d-b8e4-4f1b-9393-5437d5d874ef"
      },
      "source": [
        "lr_model.coefficients"
      ],
      "execution_count": 114,
      "outputs": [
        {
          "output_type": "execute_result",
          "data": {
            "text/plain": [
              "DenseVector([0.0, 0.0, -0.0, 0.0, 1.0])"
            ]
          },
          "metadata": {
            "tags": []
          },
          "execution_count": 114
        }
      ]
    },
    {
      "cell_type": "code",
      "metadata": {
        "id": "Z8T-GKs51Mx6",
        "colab_type": "code",
        "colab": {
          "base_uri": "https://localhost:8080/",
          "height": 34
        },
        "outputId": "01ec195b-0366-432f-f4af-b485dbf1d576"
      },
      "source": [
        "lr_model.intercept"
      ],
      "execution_count": 115,
      "outputs": [
        {
          "output_type": "execute_result",
          "data": {
            "text/plain": [
              "-3.098834962028515e-10"
            ]
          },
          "metadata": {
            "tags": []
          },
          "execution_count": 115
        }
      ]
    },
    {
      "cell_type": "code",
      "metadata": {
        "id": "mCTNUt7y1RUS",
        "colab_type": "code",
        "colab": {
          "base_uri": "https://localhost:8080/",
          "height": 34
        },
        "outputId": "9f477657-5f1a-46fe-eead-8141e03ed765"
      },
      "source": [
        "lr_model.summary.rootMeanSquaredError"
      ],
      "execution_count": 116,
      "outputs": [
        {
          "output_type": "execute_result",
          "data": {
            "text/plain": [
              "3.1065745851191783e-12"
            ]
          },
          "metadata": {
            "tags": []
          },
          "execution_count": 116
        }
      ]
    },
    {
      "cell_type": "code",
      "metadata": {
        "id": "xTMgn46m1dHR",
        "colab_type": "code",
        "colab": {}
      },
      "source": [
        "lr_model.save('lr1model')"
      ],
      "execution_count": 117,
      "outputs": []
    },
    {
      "cell_type": "markdown",
      "metadata": {
        "id": "N8iwpeE411vM",
        "colab_type": "text"
      },
      "source": [
        "## **Decision Tree Regression**"
      ]
    },
    {
      "cell_type": "code",
      "metadata": {
        "id": "FiNvAij910SP",
        "colab_type": "code",
        "colab": {}
      },
      "source": [
        "from pyspark.ml.regression import DecisionTreeRegressor\n",
        "from pyspark.ml.evaluation import RegressionEvaluator"
      ],
      "execution_count": 118,
      "outputs": []
    },
    {
      "cell_type": "code",
      "metadata": {
        "id": "ZOoG9rIC2kb7",
        "colab_type": "code",
        "colab": {
          "base_uri": "https://localhost:8080/",
          "height": 459
        },
        "outputId": "ef5595aa-c2ff-4fdc-c7c4-753678e17b1a"
      },
      "source": [
        "vpp_df.show(truncate=False)"
      ],
      "execution_count": 120,
      "outputs": [
        {
          "output_type": "stream",
          "text": [
            "+-----+-----+-------+-----+------+----------------------------------+\n",
            "|AT   |V    |AP     |RH   |PE    |features                          |\n",
            "+-----+-----+-------+-----+------+----------------------------------+\n",
            "|8.34 |40.77|1010.84|90.01|480.48|[8.34,40.77,1010.84,90.01,480.48] |\n",
            "|23.64|58.49|1011.4 |74.2 |445.75|[23.64,58.49,1011.4,74.2,445.75]  |\n",
            "|29.74|56.9 |1007.15|41.91|438.76|[29.74,56.9,1007.15,41.91,438.76] |\n",
            "|19.07|49.69|1007.22|76.79|453.09|[19.07,49.69,1007.22,76.79,453.09]|\n",
            "|11.8 |40.66|1017.13|97.2 |464.43|[11.8,40.66,1017.13,97.2,464.43]  |\n",
            "|13.97|39.16|1016.05|84.6 |470.96|[13.97,39.16,1016.05,84.6,470.96] |\n",
            "|22.1 |71.29|1008.2 |75.38|442.35|[22.1,71.29,1008.2,75.38,442.35]  |\n",
            "|14.47|41.76|1021.98|78.41|464.0 |[14.47,41.76,1021.98,78.41,464.0] |\n",
            "|31.25|69.51|1010.25|36.83|428.77|[31.25,69.51,1010.25,36.83,428.77]|\n",
            "|6.77 |38.18|1017.8 |81.13|484.31|[6.77,38.18,1017.8,81.13,484.31]  |\n",
            "|28.28|68.67|1006.36|69.9 |435.29|[28.28,68.67,1006.36,69.9,435.29] |\n",
            "|22.99|46.93|1014.15|49.42|451.41|[22.99,46.93,1014.15,49.42,451.41]|\n",
            "|29.3 |70.04|1010.95|61.23|426.25|[29.3,70.04,1010.95,61.23,426.25] |\n",
            "|8.14 |37.49|1009.04|80.33|480.66|[8.14,37.49,1009.04,80.33,480.66] |\n",
            "|16.92|44.6 |1017.34|58.75|460.17|[16.92,44.6,1017.34,58.75,460.17] |\n",
            "|22.72|64.15|1021.14|60.34|453.13|[22.72,64.15,1021.14,60.34,453.13]|\n",
            "|18.14|43.56|1012.83|47.1 |461.71|[18.14,43.56,1012.83,47.1,461.71] |\n",
            "|11.49|44.63|1020.44|86.04|471.08|[11.49,44.63,1020.44,86.04,471.08]|\n",
            "|9.94 |40.46|1018.9 |68.51|473.74|[9.94,40.46,1018.9,68.51,473.74]  |\n",
            "|23.54|41.1 |1002.05|38.05|448.56|[23.54,41.1,1002.05,38.05,448.56] |\n",
            "+-----+-----+-------+-----+------+----------------------------------+\n",
            "only showing top 20 rows\n",
            "\n"
          ],
          "name": "stdout"
        }
      ]
    },
    {
      "cell_type": "code",
      "metadata": {
        "id": "D88Pt1xC3FQG",
        "colab_type": "code",
        "colab": {}
      },
      "source": [
        "# Splitting the data into train and test\n",
        "splits = vpp_df.randomSplit([0.7,0.3])"
      ],
      "execution_count": 123,
      "outputs": []
    },
    {
      "cell_type": "code",
      "metadata": {
        "id": "VW9uoDGi3FJd",
        "colab_type": "code",
        "colab": {}
      },
      "source": [
        "train_df = splits[0]"
      ],
      "execution_count": 124,
      "outputs": []
    },
    {
      "cell_type": "code",
      "metadata": {
        "id": "nD-8f0Nh3UFj",
        "colab_type": "code",
        "colab": {}
      },
      "source": [
        "test_df = splits[1]"
      ],
      "execution_count": 125,
      "outputs": []
    },
    {
      "cell_type": "code",
      "metadata": {
        "id": "anbWSldP3ZwE",
        "colab_type": "code",
        "colab": {
          "base_uri": "https://localhost:8080/",
          "height": 34
        },
        "outputId": "8d457a17-a48c-41ac-f780-7e60203922e8"
      },
      "source": [
        "train_df.count()"
      ],
      "execution_count": 126,
      "outputs": [
        {
          "output_type": "execute_result",
          "data": {
            "text/plain": [
              "6662"
            ]
          },
          "metadata": {
            "tags": []
          },
          "execution_count": 126
        }
      ]
    },
    {
      "cell_type": "code",
      "metadata": {
        "id": "2-UXfhri3ZmN",
        "colab_type": "code",
        "colab": {
          "base_uri": "https://localhost:8080/",
          "height": 34
        },
        "outputId": "269728aa-a477-4229-a54b-4fee790bb806"
      },
      "source": [
        "test_df.count()"
      ],
      "execution_count": 127,
      "outputs": [
        {
          "output_type": "execute_result",
          "data": {
            "text/plain": [
              "2906"
            ]
          },
          "metadata": {
            "tags": []
          },
          "execution_count": 127
        }
      ]
    },
    {
      "cell_type": "code",
      "metadata": {
        "id": "f2puKLi_3ebn",
        "colab_type": "code",
        "colab": {
          "base_uri": "https://localhost:8080/",
          "height": 34
        },
        "outputId": "0996ef8b-d7ed-40a2-ed02-f61f3c24a31b"
      },
      "source": [
        "vpp_df.count()"
      ],
      "execution_count": 128,
      "outputs": [
        {
          "output_type": "execute_result",
          "data": {
            "text/plain": [
              "9568"
            ]
          },
          "metadata": {
            "tags": []
          },
          "execution_count": 128
        }
      ]
    },
    {
      "cell_type": "code",
      "metadata": {
        "id": "y2LN6Xwq2rug",
        "colab_type": "code",
        "colab": {}
      },
      "source": [
        "dt_reg = DecisionTreeRegressor(featuresCol='features', labelCol='PE')"
      ],
      "execution_count": 141,
      "outputs": []
    },
    {
      "cell_type": "code",
      "metadata": {
        "id": "udhDWCru25Pr",
        "colab_type": "code",
        "colab": {}
      },
      "source": [
        "dt_model = dt_reg.fit(train_df)"
      ],
      "execution_count": 142,
      "outputs": []
    },
    {
      "cell_type": "code",
      "metadata": {
        "id": "m9rHS-ex376Y",
        "colab_type": "code",
        "colab": {}
      },
      "source": [
        "dt_predictions = dt_model.transform(test_df)"
      ],
      "execution_count": 143,
      "outputs": []
    },
    {
      "cell_type": "code",
      "metadata": {
        "id": "WL0zW--u44XC",
        "colab_type": "code",
        "colab": {}
      },
      "source": [
        "dt_evaluator = RegressionEvaluator(labelCol='PE', predictionCol='prediction', metricName='rmse')"
      ],
      "execution_count": 145,
      "outputs": []
    },
    {
      "cell_type": "code",
      "metadata": {
        "id": "qpLuXKxO4_TK",
        "colab_type": "code",
        "colab": {}
      },
      "source": [
        "rmse = dt_evaluator.evaluate(dt_predictions)"
      ],
      "execution_count": 146,
      "outputs": []
    },
    {
      "cell_type": "code",
      "metadata": {
        "id": "iKPn0pq15Hjc",
        "colab_type": "code",
        "colab": {
          "base_uri": "https://localhost:8080/",
          "height": 34
        },
        "outputId": "977f92e5-0c23-4829-9f93-a7e327047cf1"
      },
      "source": [
        "rmse"
      ],
      "execution_count": 147,
      "outputs": [
        {
          "output_type": "execute_result",
          "data": {
            "text/plain": [
              "0.7915764124303604"
            ]
          },
          "metadata": {
            "tags": []
          },
          "execution_count": 147
        }
      ]
    },
    {
      "cell_type": "markdown",
      "metadata": {
        "id": "7TXQYsES5T8L",
        "colab_type": "text"
      },
      "source": [
        "## **Gradient Boosted Tree Regressor**"
      ]
    },
    {
      "cell_type": "code",
      "metadata": {
        "id": "XvPwKVCq5IKr",
        "colab_type": "code",
        "colab": {}
      },
      "source": [
        "from pyspark.ml.regression import GBTRegressor"
      ],
      "execution_count": 148,
      "outputs": []
    },
    {
      "cell_type": "code",
      "metadata": {
        "id": "DemtCqVF5hY6",
        "colab_type": "code",
        "colab": {}
      },
      "source": [
        "gbt = GBTRegressor(featuresCol='features', labelCol='PE')"
      ],
      "execution_count": 149,
      "outputs": []
    },
    {
      "cell_type": "code",
      "metadata": {
        "id": "IWl_-XwS5nbC",
        "colab_type": "code",
        "colab": {}
      },
      "source": [
        "gbt_model = gbt.fit(train_df)"
      ],
      "execution_count": 150,
      "outputs": []
    },
    {
      "cell_type": "code",
      "metadata": {
        "id": "cjT_c9Jw5sMo",
        "colab_type": "code",
        "colab": {}
      },
      "source": [
        "gbt_predictions = gbt_model.transform(test_df)"
      ],
      "execution_count": 151,
      "outputs": []
    },
    {
      "cell_type": "code",
      "metadata": {
        "id": "t7FY4LYs5yXG",
        "colab_type": "code",
        "colab": {}
      },
      "source": [
        "gbt_evaluator = RegressionEvaluator(labelCol='PE', predictionCol='prediction', metricName='rmse')"
      ],
      "execution_count": 153,
      "outputs": []
    },
    {
      "cell_type": "code",
      "metadata": {
        "id": "fcePj-th56C1",
        "colab_type": "code",
        "colab": {
          "base_uri": "https://localhost:8080/",
          "height": 34
        },
        "outputId": "73c88f42-b0d7-4aa7-e03f-ca43def3c25e"
      },
      "source": [
        "gbt_rmse = gbt_evaluator.evaluate(gbt_predictions)\n",
        "gbt_rmse"
      ],
      "execution_count": 154,
      "outputs": [
        {
          "output_type": "execute_result",
          "data": {
            "text/plain": [
              "0.7068436861730462"
            ]
          },
          "metadata": {
            "tags": []
          },
          "execution_count": 154
        }
      ]
    },
    {
      "cell_type": "code",
      "metadata": {
        "id": "aldGJ7v_6D3h",
        "colab_type": "code",
        "colab": {}
      },
      "source": [
        ""
      ],
      "execution_count": null,
      "outputs": []
    }
  ]
}