{
  "nbformat": 4,
  "nbformat_minor": 0,
  "metadata": {
    "colab": {
      "name": "Spark Transformations and Actions.ipynb",
      "provenance": [],
      "collapsed_sections": [],
      "authorship_tag": "ABX9TyMXHEygEY7/b5aWaJIZ6nDC",
      "include_colab_link": true
    },
    "kernelspec": {
      "name": "python3",
      "display_name": "Python 3"
    }
  },
  "cells": [
    {
      "cell_type": "markdown",
      "metadata": {
        "id": "view-in-github",
        "colab_type": "text"
      },
      "source": [
        "<a href=\"https://colab.research.google.com/github/FanusArefaine/Apache-Spark-Essentials/blob/master/Spark_Transformations_and_Actions.ipynb\" target=\"_parent\"><img src=\"https://colab.research.google.com/assets/colab-badge.svg\" alt=\"Open In Colab\"/></a>"
      ]
    },
    {
      "cell_type": "code",
      "metadata": {
        "colab": {
          "base_uri": "https://localhost:8080/"
        },
        "id": "R5Y0667CQ6C8",
        "outputId": "96cf9258-5649-448c-d990-3dff0994ece7"
      },
      "source": [
        "from google.colab import drive\n",
        "drive.mount('/content/drive')"
      ],
      "execution_count": 10,
      "outputs": [
        {
          "output_type": "stream",
          "text": [
            "Drive already mounted at /content/drive; to attempt to forcibly remount, call drive.mount(\"/content/drive\", force_remount=True).\n"
          ],
          "name": "stdout"
        }
      ]
    },
    {
      "cell_type": "code",
      "metadata": {
        "colab": {
          "base_uri": "https://localhost:8080/"
        },
        "id": "0-REhiX8LJ5u",
        "outputId": "19fa7240-c9b3-440e-c0d5-8b79e83e4930"
      },
      "source": [
        "!apt-get update\n",
        "!apt-get install openjdk-8-jdk-headless -qq > /dev/null\n",
        "!wget -q http://archive.apache.org/dist/spark/spark-3.0.0/spark-3.0.0-bin-hadoop2.7.tgz\n",
        "!tar xf spark-3.0.0-bin-hadoop2.7.tgz\n",
        "!pip install -q findspark"
      ],
      "execution_count": 11,
      "outputs": [
        {
          "output_type": "stream",
          "text": [
            "\r0% [Working]\r            \rIgn:1 https://developer.download.nvidia.com/compute/cuda/repos/ubuntu1804/x86_64  InRelease\n",
            "\r0% [Connecting to archive.ubuntu.com (91.189.88.152)] [Connecting to security.u\r                                                                               \rHit:2 https://cloud.r-project.org/bin/linux/ubuntu bionic-cran40/ InRelease\n",
            "\r0% [Connecting to archive.ubuntu.com (91.189.88.152)] [Connecting to security.u\r                                                                               \rIgn:3 https://developer.download.nvidia.com/compute/machine-learning/repos/ubuntu1804/x86_64  InRelease\n",
            "\r0% [Connecting to archive.ubuntu.com (91.189.88.152)] [Connecting to security.u\r0% [2 InRelease gpgv 3,626 B] [Connecting to archive.ubuntu.com (91.189.88.152)\r                                                                               \rHit:4 https://developer.download.nvidia.com/compute/cuda/repos/ubuntu1804/x86_64  Release\n",
            "\r0% [2 InRelease gpgv 3,626 B] [Connecting to archive.ubuntu.com (91.189.88.152)\r                                                                               \rHit:5 https://developer.download.nvidia.com/compute/machine-learning/repos/ubuntu1804/x86_64  Release\n",
            "\r0% [2 InRelease gpgv 3,626 B] [Waiting for headers] [Waiting for headers] [Wait\r                                                                               \rHit:6 http://security.ubuntu.com/ubuntu bionic-security InRelease\n",
            "\r                                                                               \r0% [2 InRelease gpgv 3,626 B] [Waiting for headers] [Waiting for headers]\r                                                                         \rHit:7 http://archive.ubuntu.com/ubuntu bionic InRelease\n",
            "Hit:8 http://ppa.launchpad.net/c2d4u.team/c2d4u4.0+/ubuntu bionic InRelease\n",
            "Hit:9 http://archive.ubuntu.com/ubuntu bionic-updates InRelease\n",
            "Hit:11 http://archive.ubuntu.com/ubuntu bionic-backports InRelease\n",
            "Hit:12 http://ppa.launchpad.net/cran/libgit2/ubuntu bionic InRelease\n",
            "Hit:14 http://ppa.launchpad.net/deadsnakes/ppa/ubuntu bionic InRelease\n",
            "Hit:15 http://ppa.launchpad.net/graphics-drivers/ppa/ubuntu bionic InRelease\n",
            "Reading package lists... Done\n"
          ],
          "name": "stdout"
        }
      ]
    },
    {
      "cell_type": "code",
      "metadata": {
        "colab": {
          "base_uri": "https://localhost:8080/"
        },
        "id": "REqKI1JSL1DS",
        "outputId": "82820ad3-efc5-4a3a-e895-b3b1f691951b"
      },
      "source": [
        "!ls /usr/lib/jvm/"
      ],
      "execution_count": 12,
      "outputs": [
        {
          "output_type": "stream",
          "text": [
            "default-java\t\t   java-11-openjdk-amd64     java-8-openjdk-amd64\n",
            "java-1.11.0-openjdk-amd64  java-1.8.0-openjdk-amd64\n"
          ],
          "name": "stdout"
        }
      ]
    },
    {
      "cell_type": "code",
      "metadata": {
        "id": "AGG9wqsyQP9p"
      },
      "source": [
        "import os\n",
        "os.environ[\"JAVA_HOME\"] = \"/usr/lib/jvm/java-8-openjdk-amd64\"\n",
        "os.environ[\"SPARK_HOME\"] = \"/content/spark-3.0.0-bin-hadoop2.7\""
      ],
      "execution_count": 13,
      "outputs": []
    },
    {
      "cell_type": "code",
      "metadata": {
        "colab": {
          "base_uri": "https://localhost:8080/",
          "height": 193
        },
        "id": "gI7IWYGzIhd5",
        "outputId": "6d1df9f9-60ce-493f-8791-45f9cb3894be"
      },
      "source": [
        "import findspark\n",
        "findspark.init()\n",
        "from pyspark import SparkContext\n",
        "\n",
        "sc = SparkContext.getOrCreate()\n",
        "sc\n"
      ],
      "execution_count": 15,
      "outputs": [
        {
          "output_type": "execute_result",
          "data": {
            "text/html": [
              "\n",
              "        <div>\n",
              "            <p><b>SparkContext</b></p>\n",
              "\n",
              "            <p><a href=\"http://f35098dd5be8:4040\">Spark UI</a></p>\n",
              "\n",
              "            <dl>\n",
              "              <dt>Version</dt>\n",
              "                <dd><code>v3.0.0</code></dd>\n",
              "              <dt>Master</dt>\n",
              "                <dd><code>local[*]</code></dd>\n",
              "              <dt>AppName</dt>\n",
              "                <dd><code>pyspark-shell</code></dd>\n",
              "            </dl>\n",
              "        </div>\n",
              "        "
            ],
            "text/plain": [
              "<SparkContext master=local[*] appName=pyspark-shell>"
            ]
          },
          "metadata": {
            "tags": []
          },
          "execution_count": 15
        }
      ]
    },
    {
      "cell_type": "code",
      "metadata": {
        "colab": {
          "base_uri": "https://localhost:8080/",
          "height": 216
        },
        "id": "BfYEZSn4QUvN",
        "outputId": "f5b2b1d0-89d1-46a7-856b-6b42afdffdc2"
      },
      "source": [
        "import pyspark\n",
        "import findspark\n",
        "findspark.init()\n",
        "from pyspark.sql import SparkSession\n",
        "spark = SparkSession.builder.master(\"local[*]\").getOrCreate()\n",
        "spark"
      ],
      "execution_count": 16,
      "outputs": [
        {
          "output_type": "execute_result",
          "data": {
            "text/html": [
              "\n",
              "            <div>\n",
              "                <p><b>SparkSession - in-memory</b></p>\n",
              "                \n",
              "        <div>\n",
              "            <p><b>SparkContext</b></p>\n",
              "\n",
              "            <p><a href=\"http://f35098dd5be8:4040\">Spark UI</a></p>\n",
              "\n",
              "            <dl>\n",
              "              <dt>Version</dt>\n",
              "                <dd><code>v3.0.0</code></dd>\n",
              "              <dt>Master</dt>\n",
              "                <dd><code>local[*]</code></dd>\n",
              "              <dt>AppName</dt>\n",
              "                <dd><code>pyspark-shell</code></dd>\n",
              "            </dl>\n",
              "        </div>\n",
              "        \n",
              "            </div>\n",
              "        "
            ],
            "text/plain": [
              "<pyspark.sql.session.SparkSession at 0x7fa146d679d0>"
            ]
          },
          "metadata": {
            "tags": []
          },
          "execution_count": 16
        }
      ]
    },
    {
      "cell_type": "code",
      "metadata": {
        "id": "uguOjeUGQkzu"
      },
      "source": [
        "import sys, tempfile, urllib \n",
        "from pyspark.sql.functions import *"
      ],
      "execution_count": 17,
      "outputs": []
    },
    {
      "cell_type": "code",
      "metadata": {
        "id": "9FeS6aDNSp21"
      },
      "source": [
        "#setting up the base directory \n",
        "\n",
        "BASE_DIR = '/tmp'\n",
        "CORONA_DATA_FILE = os.path.join(BASE_DIR, 'corona_data.csv')"
      ],
      "execution_count": 18,
      "outputs": []
    },
    {
      "cell_type": "code",
      "metadata": {
        "id": "glS-FLReT1h6"
      },
      "source": [
        "import urllib.request\n",
        "corona_data = urllib.request.urlretrieve('https://raw.githubusercontent.com/srivatsan88/YouTubeLI/master/dataset/coronavirus/corona_dataset_latest.csv', CORONA_DATA_FILE)"
      ],
      "execution_count": 19,
      "outputs": []
    },
    {
      "cell_type": "code",
      "metadata": {
        "id": "r8zSG8_YUVip"
      },
      "source": [
        "BASE_DIR = '/tmp'\n",
        "TWITTER_DATA_FILE = os.path.join(BASE_DIR, 'twitter_data.csv')"
      ],
      "execution_count": 20,
      "outputs": []
    },
    {
      "cell_type": "code",
      "metadata": {
        "id": "_-nywHlQU1nM"
      },
      "source": [
        "tweet_data = urllib.request.urlretrieve('https://raw.githubusercontent.com/srivatsan88/YouTubeLI/master/dataset/coronavirus/tweets.csv', TWITTER_DATA_FILE)"
      ],
      "execution_count": 21,
      "outputs": []
    },
    {
      "cell_type": "code",
      "metadata": {
        "colab": {
          "base_uri": "https://localhost:8080/"
        },
        "id": "E8Dld5OQVRIA",
        "outputId": "4fd7934a-3b37-4523-d18d-1e3bec08f11b"
      },
      "source": [
        "!ls /tmp"
      ],
      "execution_count": 22,
      "outputs": [
        {
          "output_type": "stream",
          "text": [
            "blockmgr-27545475-8797-43ab-92d7-052a36ea3e27\n",
            "corona_data.csv\n",
            "dap_multiplexer.f35098dd5be8.root.log.INFO.20210316-033839.47\n",
            "dap_multiplexer.INFO\n",
            "debugger_2qh9vzw9kd\n",
            "drivefs_ipc.0\n",
            "drivefs_ipc.0_shell\n",
            "hsperfdata_root\n",
            "initgoogle_syslog_dir.0\n",
            "spark-651cdfa4-c21b-42be-b1d4-0bafd604bbff\n",
            "spark-ae2db41d-5266-457a-9601-6d6c66743572\n",
            "tmpx4qlsvjw\n",
            "twitter_data.csv\n"
          ],
          "name": "stdout"
        }
      ]
    },
    {
      "cell_type": "code",
      "metadata": {
        "id": "N7QVwzlSVbtC"
      },
      "source": [
        "corona_df = spark.read.option(\"inferSchema\", \"true\").csv(\"/tmp/corona_data.csv\", header=True)"
      ],
      "execution_count": 23,
      "outputs": []
    },
    {
      "cell_type": "code",
      "metadata": {
        "colab": {
          "base_uri": "https://localhost:8080/"
        },
        "id": "hT0rZOtjV8tN",
        "outputId": "77897f50-fd93-4a50-bf0f-4446b2d946ad"
      },
      "source": [
        "corona_df.show()"
      ],
      "execution_count": 24,
      "outputs": [
        {
          "output_type": "stream",
          "text": [
            "+---+----------------+--------------------+--------+---------+----------+---------+-----+---------+--------------------+----+\n",
            "|_c0|           State|             Country|     Lat|     Long|      Date|Confirmed|Death|Recovered|       state_cleaned|City|\n",
            "+---+----------------+--------------------+--------+---------+----------+---------+-----+---------+--------------------+----+\n",
            "|  0|            null|            Thailand|    15.0|    101.0|2020-01-22|        2|    0|        0|             Bangkok|null|\n",
            "|  1|            null|               Japan|    36.0|    138.0|2020-01-22|        2|    0|        0|             Hiraide|null|\n",
            "|  2|            null|           Singapore|  1.2833| 103.8333|2020-01-22|        0|    0|        0|           Singapore|null|\n",
            "|  3|            null|               Nepal| 28.1667|    84.25|2020-01-22|        0|    0|        0|           Kathmandu|null|\n",
            "|  4|            null|            Malaysia|     2.5|    112.5|2020-01-22|        0|    0|        0|             Sarawak|null|\n",
            "|  5|British Columbia|              Canada| 49.2827|-123.1207|2020-01-22|        0|    0|        0|    British Columbia|null|\n",
            "|  6| New South Wales|           Australia|-33.8688| 151.2093|2020-01-22|        0|    0|        0|     New South Wales|null|\n",
            "|  7|        Victoria|           Australia|-37.8136| 144.9631|2020-01-22|        0|    0|        0|            Victoria|null|\n",
            "|  8|      Queensland|           Australia|-28.0167|    153.4|2020-01-22|        0|    0|        0|          Queensland|null|\n",
            "|  9|            null|            Cambodia|   11.55| 104.9167|2020-01-22|        0|    0|        0|          Phnom Penh|null|\n",
            "| 10|            null|           Sri Lanka|     7.0|     81.0|2020-01-22|        0|    0|        0|Sri Jayawardenapu...|null|\n",
            "| 11|            null|             Germany|    51.0|      9.0|2020-01-22|        0|    0|        0|              Berlin|null|\n",
            "| 12|            null|             Finland|    64.0|     26.0|2020-01-22|        0|    0|        0|            Helsinki|null|\n",
            "| 13|            null|United Arab Emirates|    24.0|     54.0|2020-01-22|        0|    0|        0|           Abu Dhabi|null|\n",
            "| 14|            null|         Philippines|    13.0|    122.0|2020-01-22|        0|    0|        0|              Manila|null|\n",
            "| 15|            null|               India|    21.0|     78.0|2020-01-22|        0|    0|        0|           New Delhi|null|\n",
            "| 16|            null|               Italy|    43.0|     12.0|2020-01-22|        0|    0|        0|                Rome|null|\n",
            "| 17|            null|              Sweden|    63.0|     16.0|2020-01-22|        0|    0|        0|           Stockholm|null|\n",
            "| 18|            null|               Spain|    40.0|     -4.0|2020-01-22|        0|    0|        0|              Toledo|null|\n",
            "| 19| South Australia|           Australia|-34.9285| 138.6007|2020-01-22|        0|    0|        0|     South Australia|null|\n",
            "+---+----------------+--------------------+--------+---------+----------+---------+-----+---------+--------------------+----+\n",
            "only showing top 20 rows\n",
            "\n"
          ],
          "name": "stdout"
        }
      ]
    },
    {
      "cell_type": "code",
      "metadata": {
        "colab": {
          "base_uri": "https://localhost:8080/"
        },
        "id": "6apYbijJV_-X",
        "outputId": "3b699243-a8fc-44cd-f38b-952c3dd24f05"
      },
      "source": [
        "corona_df.count()"
      ],
      "execution_count": 25,
      "outputs": [
        {
          "output_type": "execute_result",
          "data": {
            "text/plain": [
              "28143"
            ]
          },
          "metadata": {
            "tags": []
          },
          "execution_count": 25
        }
      ]
    },
    {
      "cell_type": "code",
      "metadata": {
        "id": "GuMXc7k8WjMu"
      },
      "source": [
        "# importing tweeter data \n",
        "\n",
        "twitter_df = spark.read.option(\"inferSchema\", \"true\").csv(\"/tmp/twitter_data.csv\", header=True)"
      ],
      "execution_count": 26,
      "outputs": []
    },
    {
      "cell_type": "code",
      "metadata": {
        "colab": {
          "base_uri": "https://localhost:8080/"
        },
        "id": "lRRIeR6eWz8-",
        "outputId": "07092c8b-a2cb-4bb9-c09b-13016d580a2b"
      },
      "source": [
        "twitter_df.show()"
      ],
      "execution_count": 27,
      "outputs": [
        {
          "output_type": "stream",
          "text": [
            "+---+----+--------------------+--------------------+--------------------+--------------------+--------------------+--------------------+\n",
            "|_c0| geo|                text|                user|            location|            entities|           sentiment|             country|\n",
            "+---+----+--------------------+--------------------+--------------------+--------------------+--------------------+--------------------+\n",
            "|  0|null|What is God sayin...|          petodinice|               Lagos|[('about #', 'CAR...|{'neg': 0.0, 'neu...|             Nigeria|\n",
            "|  1|null|\"BREAKING: \"\"this...| but i took the t...|                -… \"|     JerryfranksonJF|      Abuja, Nigeria|\"[(\"\"Arsenal's Mi...|\n",
            "|  2|null| #Coronavirus tes...|              cek422|   Pennsylvania, USA|                  []|{'neg': 0.173, 'n...|                 USA|\n",
            "|  3|null| Get ready for ma...|        InfectiousDz|                 NYC|[('World', 'ORG')...|{'neg': 0.085, 'n...|                 USA|\n",
            "|  4|null| The #coronavirus...|          vic_gibson|                null|                ['']|{'neg': 0.0, 'neu...|                null|\n",
            "|  5|null| COVID-19 update ...|      StewartNgilana|Durban | Port Eli...|[('Italy', 'GPE')...|{'neg': 0.178, 'n...|                 USA|\n",
            "|  6|null| It’s painful to ...|           BWheatnyc|             Florida|                  []|{'neg': 0.098, 'n...|                 USA|\n",
            "|  7|null| 📽️Friends, I wi...|             LorseaR|New South Wales, ...|[('Twitter', 'GPE...|{'neg': 0.123, 'n...|           Australia|\n",
            "|  8|null| Questions about ...|         straightj23|        Columbus, OH|[('NAfME', 'CARDI...|{'neg': 0.0, 'neu...|                 USA|\n",
            "|  9|null|How they’re deali...|       _______coolio| South East, England|['', ('Portsmouth...|{'neg': 0.126, 'n...|                  UK|\n",
            "| 10|null| BREAKING: Democr...|      champagneaylin|                null|[('Democrats', 'N...|{'neg': 0.221, 'n...|                null|\n",
            "| 11|null| “If we close dow...|       YorkLawLondon|                  UK|                  []|{'neg': 0.0, 'neu...|      United Kingdom|\n",
            "| 12|null| I pity the poor ...|      BeesonMargaret|                null|                ['']|{'neg': 0.227, 'n...|                null|\n",
            "| 13|null| We’re the heck w...|      harrytiffanyiv| Fort Washington, PA|[('the last 6 wee...|{'neg': 0.0, 'neu...|                 USA|\n",
            "| 14|null| I don't think sh...|         grammyheath|                null|[('Joy', 'PERSON'...|{'neg': 0.0, 'neu...|                null|\n",
            "| 15|null| Well written, so...|      barbara_ellena|Christchurch City...|                  []|{'neg': 0.0, 'neu...|         New Zealand|\n",
            "| 16|null| 1/2 CDC Director...|               fatal|                 USA|[('1/2', 'CARDINA...|{'neg': 0.139, 'n...|       United States|\n",
            "| 17|null| In all seriousne...|          pwjkmiller|                null|                ['']|{'neg': 0.218, 'n...|                null|\n",
            "| 18|null| Wash your hands....|        Mrrandy123RP|          Texas, USA|            ['', '']|{'neg': 0.0, 'neu...|                 USA|\n",
            "| 19|null| #CoronaVirusCana...|           aliensky0|           Worldwide|['', ('CoronaViru...|{'neg': 0.0, 'neu...|                 USA|\n",
            "+---+----+--------------------+--------------------+--------------------+--------------------+--------------------+--------------------+\n",
            "only showing top 20 rows\n",
            "\n"
          ],
          "name": "stdout"
        }
      ]
    },
    {
      "cell_type": "markdown",
      "metadata": {
        "id": "xIBOEd5WZU0f"
      },
      "source": [
        "### *Transformations and Actions*"
      ]
    },
    {
      "cell_type": "code",
      "metadata": {
        "colab": {
          "base_uri": "https://localhost:8080/"
        },
        "id": "QXiL2z1mXAnn",
        "outputId": "4c3baca3-25f3-49f8-fa86-78505d89a8cf"
      },
      "source": [
        "# Transformation creates an execution plan --> outputs a dataframe \n",
        "\n",
        "twitter_df.filter(\"country='USA'\")"
      ],
      "execution_count": 28,
      "outputs": [
        {
          "output_type": "execute_result",
          "data": {
            "text/plain": [
              "DataFrame[_c0: int, geo: string, text: string, user: string, location: string, entities: string, sentiment: string, country: string]"
            ]
          },
          "metadata": {
            "tags": []
          },
          "execution_count": 28
        }
      ]
    },
    {
      "cell_type": "code",
      "metadata": {
        "colab": {
          "base_uri": "https://localhost:8080/"
        },
        "id": "aIQTBnopZjcv",
        "outputId": "f0e3bbe6-9c41-4ef4-a5e7-9a7ae6f0568f"
      },
      "source": [
        "twitter_df.filter('country=\"USA\"').show()"
      ],
      "execution_count": 29,
      "outputs": [
        {
          "output_type": "stream",
          "text": [
            "+---+----+--------------------+---------------+--------------------+--------------------+--------------------+-------+\n",
            "|_c0| geo|                text|           user|            location|            entities|           sentiment|country|\n",
            "+---+----+--------------------+---------------+--------------------+--------------------+--------------------+-------+\n",
            "|  2|null| #Coronavirus tes...|         cek422|   Pennsylvania, USA|                  []|{'neg': 0.173, 'n...|    USA|\n",
            "|  3|null| Get ready for ma...|   InfectiousDz|                 NYC|[('World', 'ORG')...|{'neg': 0.085, 'n...|    USA|\n",
            "|  5|null| COVID-19 update ...| StewartNgilana|Durban | Port Eli...|[('Italy', 'GPE')...|{'neg': 0.178, 'n...|    USA|\n",
            "|  6|null| It’s painful to ...|      BWheatnyc|             Florida|                  []|{'neg': 0.098, 'n...|    USA|\n",
            "|  8|null| Questions about ...|    straightj23|        Columbus, OH|[('NAfME', 'CARDI...|{'neg': 0.0, 'neu...|    USA|\n",
            "| 13|null| We’re the heck w...| harrytiffanyiv| Fort Washington, PA|[('the last 6 wee...|{'neg': 0.0, 'neu...|    USA|\n",
            "| 18|null| Wash your hands....|   Mrrandy123RP|          Texas, USA|            ['', '']|{'neg': 0.0, 'neu...|    USA|\n",
            "| 19|null| #CoronaVirusCana...|      aliensky0|           Worldwide|['', ('CoronaViru...|{'neg': 0.0, 'neu...|    USA|\n",
            "| 24|null| Dr. Dena Grayson...|billymocolorad2|         Denver area|[('Dena Grayson',...|{'neg': 0.0, 'neu...|    USA|\n",
            "| 29|null| #BREAKING Univer...|  _pulido_nenaa|         Fontana, CA|['', ('BREAKING U...|{'neg': 0.0, 'neu...|    USA|\n",
            "| 31|null| I ordered Alex J...|       rcgillan|       New York, USA|[('Alex Jones', '...|{'neg': 0.109, 'n...|    USA|\n",
            "| 32|null| #CoronavirusExpe...|        AD1968F|California / Florida|['', ('Coronaviru...|{'neg': 0.0, 'neu...|    USA|\n",
            "| 34|null| There is no obje...|       SFAuGrrl|   San Francisco, CA|['', ('FamiliesFi...|{'neg': 0.224, 'n...|    USA|\n",
            "| 36|null| Before #coronavi...|   Frankapistan|       Nashville, TN|[('China', 'GPE')...|{'neg': 0.144, 'n...|    USA|\n",
            "| 40|null|  When it's actua...|      Happyjam5|     Los Angeles, Ca|[('GOP', 'ORG'), ...|{'neg': 0.215, 'n...|    USA|\n",
            "| 41|null|#Coronavirus in #...|   GregoryGLake|              Global|['', ('5', 'CARDI...|{'neg': 0.318, 'n...|    USA|\n",
            "| 49|null| This week we are...|  JamesWithers3|  New York, New York|[('This week', 'D...|{'neg': 0.0, 'neu...|    USA|\n",
            "| 50|null| Trump is now doi...|      NewNewsey|          everywhere|[('Trump', 'ORG')...|{'neg': 0.0, 'neu...|    USA|\n",
            "| 55|null| The last patient...|   Khattarperla|          Highgarden|  [('Wuhan', 'GPE')]|{'neg': 0.0, 'neu...|    USA|\n",
            "| 56|null|...Hope y’all sta...|  Brandon4Brody|          Pueblo, CO|[('CDC', 'ORG'), ...|{'neg': 0.0, 'neu...|    USA|\n",
            "+---+----+--------------------+---------------+--------------------+--------------------+--------------------+-------+\n",
            "only showing top 20 rows\n",
            "\n"
          ],
          "name": "stdout"
        }
      ]
    },
    {
      "cell_type": "code",
      "metadata": {
        "colab": {
          "base_uri": "https://localhost:8080/"
        },
        "id": "nk1SpD90Z_eA",
        "outputId": "8ed24787-e074-42ce-8b0d-428daa34bc19"
      },
      "source": [
        "twitter_df.filter(\"country='USA' and location like '%New%'\").show()"
      ],
      "execution_count": 30,
      "outputs": [
        {
          "output_type": "stream",
          "text": [
            "+---+----+--------------------+---------------+--------------------+--------------------+--------------------+-------+\n",
            "|_c0| geo|                text|           user|            location|            entities|           sentiment|country|\n",
            "+---+----+--------------------+---------------+--------------------+--------------------+--------------------+-------+\n",
            "| 31|null| I ordered Alex J...|       rcgillan|       New York, USA|[('Alex Jones', '...|{'neg': 0.109, 'n...|    USA|\n",
            "| 49|null| This week we are...|  JamesWithers3|  New York, New York|[('This week', 'D...|{'neg': 0.0, 'neu...|    USA|\n",
            "| 62|null|Fear will kill #C...| RobertPPurcell|norther New Jerse...|                ['']|{'neg': 0.798, 'n...|    USA|\n",
            "|228|null|This is a very co...|baskingntheGlow|       New York City|[('hourly', 'TIME')]|{'neg': 0.12, 'ne...|    USA|\n",
            "|238|null|I’m reposting thi...|   Veronicaromm|     New Jersey, USA|[('English', 'LAN...|{'neg': 0.0, 'neu...|    USA|\n",
            "|261|null|Too early ...?  #...|      HJeppesen|        New York, NY|                ['']|{'neg': 0.0, 'neu...|    USA|\n",
            "|275|null|  The Republican ...|  GenetBataiile|  New Hampshire, USA|[('Republican', '...|{'neg': 0.0, 'neu...|    USA|\n",
            "|369|null| I still look to ...|   SusanSeaside|         New England|[('SouthKorea', '...|{'neg': 0.0, 'neu...|    USA|\n",
            "|438|null|Can we call the #...|       nilchaks|     New Jersey, USA|                ['']|{'neg': 0.194, 'n...|    USA|\n",
            "|458|null| New deadly #coro...| ssummersabrina|     New Jersey, USA|                ['']|{'neg': 0.236, 'n...|    USA|\n",
            "|471|null|What the Caged Bi...|    AaronNetsky|        New York, NY|                  []|{'neg': 0.0, 'neu...|    USA|\n",
            "|553|null|Me: Tired of hear...|     AmandaB_B8|  New Hampshire, USA|['', ('tonight', ...|{'neg': 0.252, 'n...|    USA|\n",
            "|611|null| Apparently the #...|  BuffaloInABox|   Buffalo, New York|['', ('CoronaViru...|{'neg': 0.171, 'n...|    USA|\n",
            "|612|null| New deadly #coro...|       klazimi1|       New York, USA|                ['']|{'neg': 0.236, 'n...|    USA|\n",
            "|622|null|Can someone pleas...|         pitaru|            New York|                ['']|{'neg': 0.168, 'n...|    USA|\n",
            "|624|null| Trump is now doi...| swirlysunburst|Northwest, New Je...|[('Trump', 'ORG')...|{'neg': 0.0, 'neu...|    USA|\n",
            "|664|null|Marriage in 2020 ...|           sciz|        New York, NY|[('2020', 'DATE')...|{'neg': 0.111, 'n...|    USA|\n",
            "|679|null|ALL MY MONEY ON E...|  misterauyeung|        New York, NY|[('ETF', 'ORG'), '']|{'neg': 0.148, 'n...|    USA|\n",
            "|724|null|#UniversalStudios...| cosmicbooknews|       New York, USA|['', ('UniversalS...|{'neg': 0.0, 'neu...|    USA|\n",
            "|850|null| There is no obje...|         rm1268|       New York, USA|['', ('FamiliesFi...|{'neg': 0.224, 'n...|    USA|\n",
            "+---+----+--------------------+---------------+--------------------+--------------------+--------------------+-------+\n",
            "only showing top 20 rows\n",
            "\n"
          ],
          "name": "stdout"
        }
      ]
    },
    {
      "cell_type": "code",
      "metadata": {
        "id": "qg6zeAFPaZ6L"
      },
      "source": [
        "tw_filter_df = twitter_df.filter(\"country='USA'\")"
      ],
      "execution_count": 31,
      "outputs": []
    },
    {
      "cell_type": "code",
      "metadata": {
        "colab": {
          "base_uri": "https://localhost:8080/"
        },
        "id": "wvMMyUMOauPW",
        "outputId": "5d274b72-4f66-4ff2-b884-8831aa502f2e"
      },
      "source": [
        "tw_filter_df.explain()"
      ],
      "execution_count": 32,
      "outputs": [
        {
          "output_type": "stream",
          "text": [
            "== Physical Plan ==\n",
            "*(1) Project [_c0#126, geo#127, text#128, user#129, location#130, entities#131, sentiment#132, country#133]\n",
            "+- *(1) Filter (isnotnull(country#133) AND (country#133 = USA))\n",
            "   +- FileScan csv [_c0#126,geo#127,text#128,user#129,location#130,entities#131,sentiment#132,country#133] Batched: false, DataFilters: [isnotnull(country#133), (country#133 = USA)], Format: CSV, Location: InMemoryFileIndex[file:/tmp/twitter_data.csv], PartitionFilters: [], PushedFilters: [IsNotNull(country), EqualTo(country,USA)], ReadSchema: struct<_c0:int,geo:string,text:string,user:string,location:string,entities:string,sentiment:strin...\n",
            "\n",
            "\n"
          ],
          "name": "stdout"
        }
      ]
    },
    {
      "cell_type": "code",
      "metadata": {
        "id": "2gI1ycP0ax29"
      },
      "source": [
        "tw_filter_df = twitter_df.filter(\"country='USA' and location like '%New%'\")"
      ],
      "execution_count": 33,
      "outputs": []
    },
    {
      "cell_type": "code",
      "metadata": {
        "colab": {
          "base_uri": "https://localhost:8080/"
        },
        "id": "msBNZ-hPbGgg",
        "outputId": "41ed9742-e8ad-49ef-f703-05fe96768578"
      },
      "source": [
        "tw_filter_df.explain()"
      ],
      "execution_count": 34,
      "outputs": [
        {
          "output_type": "stream",
          "text": [
            "== Physical Plan ==\n",
            "*(1) Project [_c0#126, geo#127, text#128, user#129, location#130, entities#131, sentiment#132, country#133]\n",
            "+- *(1) Filter (((isnotnull(country#133) AND isnotnull(location#130)) AND (country#133 = USA)) AND Contains(location#130, New))\n",
            "   +- FileScan csv [_c0#126,geo#127,text#128,user#129,location#130,entities#131,sentiment#132,country#133] Batched: false, DataFilters: [isnotnull(country#133), isnotnull(location#130), (country#133 = USA), Contains(location#130, New)], Format: CSV, Location: InMemoryFileIndex[file:/tmp/twitter_data.csv], PartitionFilters: [], PushedFilters: [IsNotNull(country), IsNotNull(location), EqualTo(country,USA), StringContains(location,New)], ReadSchema: struct<_c0:int,geo:string,text:string,user:string,location:string,entities:string,sentiment:strin...\n",
            "\n",
            "\n"
          ],
          "name": "stdout"
        }
      ]
    },
    {
      "cell_type": "code",
      "metadata": {
        "colab": {
          "base_uri": "https://localhost:8080/"
        },
        "id": "u7SzlNTtbJEw",
        "outputId": "b3985ee5-53a0-4aa7-cfe1-bfbccc92489d"
      },
      "source": [
        "tw_filter_df.show()"
      ],
      "execution_count": 35,
      "outputs": [
        {
          "output_type": "stream",
          "text": [
            "+---+----+--------------------+---------------+--------------------+--------------------+--------------------+-------+\n",
            "|_c0| geo|                text|           user|            location|            entities|           sentiment|country|\n",
            "+---+----+--------------------+---------------+--------------------+--------------------+--------------------+-------+\n",
            "| 31|null| I ordered Alex J...|       rcgillan|       New York, USA|[('Alex Jones', '...|{'neg': 0.109, 'n...|    USA|\n",
            "| 49|null| This week we are...|  JamesWithers3|  New York, New York|[('This week', 'D...|{'neg': 0.0, 'neu...|    USA|\n",
            "| 62|null|Fear will kill #C...| RobertPPurcell|norther New Jerse...|                ['']|{'neg': 0.798, 'n...|    USA|\n",
            "|228|null|This is a very co...|baskingntheGlow|       New York City|[('hourly', 'TIME')]|{'neg': 0.12, 'ne...|    USA|\n",
            "|238|null|I’m reposting thi...|   Veronicaromm|     New Jersey, USA|[('English', 'LAN...|{'neg': 0.0, 'neu...|    USA|\n",
            "|261|null|Too early ...?  #...|      HJeppesen|        New York, NY|                ['']|{'neg': 0.0, 'neu...|    USA|\n",
            "|275|null|  The Republican ...|  GenetBataiile|  New Hampshire, USA|[('Republican', '...|{'neg': 0.0, 'neu...|    USA|\n",
            "|369|null| I still look to ...|   SusanSeaside|         New England|[('SouthKorea', '...|{'neg': 0.0, 'neu...|    USA|\n",
            "|438|null|Can we call the #...|       nilchaks|     New Jersey, USA|                ['']|{'neg': 0.194, 'n...|    USA|\n",
            "|458|null| New deadly #coro...| ssummersabrina|     New Jersey, USA|                ['']|{'neg': 0.236, 'n...|    USA|\n",
            "|471|null|What the Caged Bi...|    AaronNetsky|        New York, NY|                  []|{'neg': 0.0, 'neu...|    USA|\n",
            "|553|null|Me: Tired of hear...|     AmandaB_B8|  New Hampshire, USA|['', ('tonight', ...|{'neg': 0.252, 'n...|    USA|\n",
            "|611|null| Apparently the #...|  BuffaloInABox|   Buffalo, New York|['', ('CoronaViru...|{'neg': 0.171, 'n...|    USA|\n",
            "|612|null| New deadly #coro...|       klazimi1|       New York, USA|                ['']|{'neg': 0.236, 'n...|    USA|\n",
            "|622|null|Can someone pleas...|         pitaru|            New York|                ['']|{'neg': 0.168, 'n...|    USA|\n",
            "|624|null| Trump is now doi...| swirlysunburst|Northwest, New Je...|[('Trump', 'ORG')...|{'neg': 0.0, 'neu...|    USA|\n",
            "|664|null|Marriage in 2020 ...|           sciz|        New York, NY|[('2020', 'DATE')...|{'neg': 0.111, 'n...|    USA|\n",
            "|679|null|ALL MY MONEY ON E...|  misterauyeung|        New York, NY|[('ETF', 'ORG'), '']|{'neg': 0.148, 'n...|    USA|\n",
            "|724|null|#UniversalStudios...| cosmicbooknews|       New York, USA|['', ('UniversalS...|{'neg': 0.0, 'neu...|    USA|\n",
            "|850|null| There is no obje...|         rm1268|       New York, USA|['', ('FamiliesFi...|{'neg': 0.224, 'n...|    USA|\n",
            "+---+----+--------------------+---------------+--------------------+--------------------+--------------------+-------+\n",
            "only showing top 20 rows\n",
            "\n"
          ],
          "name": "stdout"
        }
      ]
    },
    {
      "cell_type": "code",
      "metadata": {
        "id": "J24vgDgobYrN"
      },
      "source": [
        "tw_filter_df = twitter_df.filter(col('location').startswith('N'))"
      ],
      "execution_count": 36,
      "outputs": []
    },
    {
      "cell_type": "code",
      "metadata": {
        "colab": {
          "base_uri": "https://localhost:8080/"
        },
        "id": "zQhaJv6zbkLO",
        "outputId": "1e625942-eed7-4998-9953-1518e4fc09c5"
      },
      "source": [
        "tw_filter_df.explain()"
      ],
      "execution_count": 37,
      "outputs": [
        {
          "output_type": "stream",
          "text": [
            "== Physical Plan ==\n",
            "*(1) Project [_c0#126, geo#127, text#128, user#129, location#130, entities#131, sentiment#132, country#133]\n",
            "+- *(1) Filter (isnotnull(location#130) AND StartsWith(location#130, N))\n",
            "   +- FileScan csv [_c0#126,geo#127,text#128,user#129,location#130,entities#131,sentiment#132,country#133] Batched: false, DataFilters: [isnotnull(location#130), StartsWith(location#130, N)], Format: CSV, Location: InMemoryFileIndex[file:/tmp/twitter_data.csv], PartitionFilters: [], PushedFilters: [IsNotNull(location), StringStartsWith(location,N)], ReadSchema: struct<_c0:int,geo:string,text:string,user:string,location:string,entities:string,sentiment:strin...\n",
            "\n",
            "\n"
          ],
          "name": "stdout"
        }
      ]
    },
    {
      "cell_type": "code",
      "metadata": {
        "colab": {
          "base_uri": "https://localhost:8080/"
        },
        "id": "l2gjiG7dblfK",
        "outputId": "c5402f5f-1bac-4a78-b285-d9068bc07739"
      },
      "source": [
        "tw_filter_df.show()"
      ],
      "execution_count": 38,
      "outputs": [
        {
          "output_type": "stream",
          "text": [
            "+---+----+--------------------+---------------+--------------------+--------------------+--------------------+-------------+\n",
            "|_c0| geo|                text|           user|            location|            entities|           sentiment|      country|\n",
            "+---+----+--------------------+---------------+--------------------+--------------------+--------------------+-------------+\n",
            "|  3|null| Get ready for ma...|   InfectiousDz|                 NYC|[('World', 'ORG')...|{'neg': 0.085, 'n...|          USA|\n",
            "|  7|null| 📽️Friends, I wi...|        LorseaR|New South Wales, ...|[('Twitter', 'GPE...|{'neg': 0.123, 'n...|    Australia|\n",
            "| 31|null| I ordered Alex J...|       rcgillan|       New York, USA|[('Alex Jones', '...|{'neg': 0.109, 'n...|          USA|\n",
            "| 36|null| Before #coronavi...|   Frankapistan|       Nashville, TN|[('China', 'GPE')...|{'neg': 0.144, 'n...|          USA|\n",
            "| 49|null| This week we are...|  JamesWithers3|  New York, New York|[('This week', 'D...|{'neg': 0.0, 'neu...|          USA|\n",
            "| 66|null| I am very surpri...|MariosTsoutsouk| Nottingham, England|[('UK', 'GPE'), (...|{'neg': 0.0, 'neu...|           UK|\n",
            "| 79|null| Mr. Jones has be...|       star1965|                 NYC|[('Jones', 'PERSO...|{'neg': 0.0, 'neu...|          USA|\n",
            "|146|null| . launches rapid...|   JessPerry_NJ|                  NJ|['', ('Center for...|{'neg': 0.0, 'neu...|          USA|\n",
            "|163|null| WATCH: The Serbi...|NTexasRealtor4u|         North Texas|[('Serbian', 'NOR...|{'neg': 0.161, 'n...|          USA|\n",
            "|167|null|I dont think we a...|   PitLanePhoto|   Nantwich, England|[('Motorsport', '...|{'neg': 0.0, 'neu...|           UK|\n",
            "|168|null|But seriously I N...|    kuamiufresh|             Nigeria|[('China', 'GPE')...|{'neg': 0.09, 'ne...|      Nigeria|\n",
            "|198|null| This is how the ...|       WINTUR78|           New Delhi|[('Islamophobia',...|{'neg': 0.0, 'neu...|        India|\n",
            "|228|null|This is a very co...|baskingntheGlow|       New York City|[('hourly', 'TIME')]|{'neg': 0.12, 'ne...|          USA|\n",
            "|238|null|I’m reposting thi...|   Veronicaromm|     New Jersey, USA|[('English', 'LAN...|{'neg': 0.0, 'neu...|          USA|\n",
            "|250|null|  The Republican ...|CoronaVirusCall|       North America|[('Republican', '...|{'neg': 0.0, 'neu...|North America|\n",
            "|259|null| New deadly #coro...|TorqueyLunatico|     Not outer space|                ['']|{'neg': 0.236, 'n...|United States|\n",
            "|261|null|Too early ...?  #...|      HJeppesen|        New York, NY|                ['']|{'neg': 0.0, 'neu...|          USA|\n",
            "|275|null|  The Republican ...|  GenetBataiile|  New Hampshire, USA|[('Republican', '...|{'neg': 0.0, 'neu...|          USA|\n",
            "|284|null|Last beer tonight...| organictech551| Northern hemisphere|[('tonight', 'TIM...|{'neg': 0.0, 'neu...|          USA|\n",
            "|285|null| A question for y...| GlynnAtkinson1| North East, England|[('Boris Johnson'...|{'neg': 0.104, 'n...|        Error|\n",
            "+---+----+--------------------+---------------+--------------------+--------------------+--------------------+-------------+\n",
            "only showing top 20 rows\n",
            "\n"
          ],
          "name": "stdout"
        }
      ]
    },
    {
      "cell_type": "code",
      "metadata": {
        "colab": {
          "base_uri": "https://localhost:8080/"
        },
        "id": "yq7AYtsNborL",
        "outputId": "fa10b998-f68b-4d90-d829-734a284a48df"
      },
      "source": [
        "twitter_df"
      ],
      "execution_count": 39,
      "outputs": [
        {
          "output_type": "execute_result",
          "data": {
            "text/plain": [
              "DataFrame[_c0: int, geo: string, text: string, user: string, location: string, entities: string, sentiment: string, country: string]"
            ]
          },
          "metadata": {
            "tags": []
          },
          "execution_count": 39
        }
      ]
    },
    {
      "cell_type": "code",
      "metadata": {
        "colab": {
          "base_uri": "https://localhost:8080/"
        },
        "id": "iw78AfoobzmW",
        "outputId": "48e36376-80a3-44f0-a682-9e990bfdaf98"
      },
      "source": [
        "twitter_df.first()"
      ],
      "execution_count": 40,
      "outputs": [
        {
          "output_type": "execute_result",
          "data": {
            "text/plain": [
              "Row(_c0=0, geo=None, text='What is God saying to us about #coronavirus ?', user='petodinice', location='Lagos', entities=\"[('about #', 'CARDINAL')]\", sentiment=\"{'neg': 0.0, 'neu': 0.769, 'pos': 0.231, 'compound': 0.2732}\", country='Nigeria')"
            ]
          },
          "metadata": {
            "tags": []
          },
          "execution_count": 40
        }
      ]
    },
    {
      "cell_type": "code",
      "metadata": {
        "colab": {
          "base_uri": "https://localhost:8080/"
        },
        "id": "DiYMqv74b3LQ",
        "outputId": "bebf0f5f-f39d-4563-f2bf-9d7531fe685e"
      },
      "source": [
        "twitter_df.take(5)"
      ],
      "execution_count": 41,
      "outputs": [
        {
          "output_type": "execute_result",
          "data": {
            "text/plain": [
              "[Row(_c0=0, geo=None, text='What is God saying to us about #coronavirus ?', user='petodinice', location='Lagos', entities=\"[('about #', 'CARDINAL')]\", sentiment=\"{'neg': 0.0, 'neu': 0.769, 'pos': 0.231, 'compound': 0.2732}\", country='Nigeria'),\n",
              " Row(_c0=1, geo=None, text='\"BREAKING: \"\"this is disappointing', user=' but i took the test\"\". Arsenal\\'s Mikel Arteta tests positive for #coronavirus', location='  -… \"', entities='JerryfranksonJF', sentiment='Abuja, Nigeria', country='\"[(\"\"Arsenal\\'s Mikel Arteta\"\"'),\n",
              " Row(_c0=2, geo=None, text=' #Coronavirus testing must be made free to the public if we are going to understand the scope of this crisis. Anything le…', user='cek422', location='Pennsylvania, USA', entities='[]', sentiment=\"{'neg': 0.173, 'neu': 0.71, 'pos': 0.117, 'compound': -0.3767}\", country='USA'),\n",
              " Row(_c0=3, geo=None, text=' Get ready for mass event crowd cancellations across the World starting this weekend: cricket in #Australia in empty st…', user='InfectiousDz', location='NYC', entities=\"[('World', 'ORG'), ('this weekend', 'DATE'), '']\", sentiment=\"{'neg': 0.085, 'neu': 0.798, 'pos': 0.117, 'compound': 0.1779}\", country='USA'),\n",
              " Row(_c0=4, geo=None, text=' The #coronavirus pandemic is revealing just how closely we are all bound together...[A thread] ', user='vic_gibson', location=None, entities=\"['']\", sentiment=\"{'neg': 0.0, 'neu': 1.0, 'pos': 0.0, 'compound': 0.0}\", country=None)]"
            ]
          },
          "metadata": {
            "tags": []
          },
          "execution_count": 41
        }
      ]
    },
    {
      "cell_type": "code",
      "metadata": {
        "id": "tfvLrstob6RA"
      },
      "source": [
        "# RDD"
      ],
      "execution_count": 42,
      "outputs": []
    },
    {
      "cell_type": "code",
      "metadata": {
        "colab": {
          "base_uri": "https://localhost:8080/"
        },
        "id": "PXzUCOyOeLTH",
        "outputId": "8842b1f2-88ec-4df9-df10-0f092ec62519"
      },
      "source": [
        "x = spark.sparkContext.parallelize([1,4,8])\n",
        "y = x.map(lambda x: (x, x*x))\n",
        "print(x.collect())\n",
        "print(y.collect())"
      ],
      "execution_count": 43,
      "outputs": [
        {
          "output_type": "stream",
          "text": [
            "[1, 4, 8]\n",
            "[(1, 1), (4, 16), (8, 64)]\n"
          ],
          "name": "stdout"
        }
      ]
    },
    {
      "cell_type": "code",
      "metadata": {
        "colab": {
          "base_uri": "https://localhost:8080/"
        },
        "id": "ghfhGLPredfP",
        "outputId": "dee15f2b-67f5-459f-98be-843779930792"
      },
      "source": [
        "x = spark.sparkContext.parallelize([1,4,8])\n",
        "y = x.flatMap(lambda x: (x, x*x))\n",
        "print(x.collect())\n",
        "print(y.collect())"
      ],
      "execution_count": 44,
      "outputs": [
        {
          "output_type": "stream",
          "text": [
            "[1, 4, 8]\n",
            "[1, 1, 4, 16, 8, 64]\n"
          ],
          "name": "stdout"
        }
      ]
    },
    {
      "cell_type": "code",
      "metadata": {
        "colab": {
          "base_uri": "https://localhost:8080/"
        },
        "id": "-VyhPke5ei3x",
        "outputId": "2753e949-ceed-472a-f07d-b70e3d223908"
      },
      "source": [
        "x"
      ],
      "execution_count": 45,
      "outputs": [
        {
          "output_type": "execute_result",
          "data": {
            "text/plain": [
              "ParallelCollectionRDD[59] at readRDDFromFile at PythonRDD.scala:262"
            ]
          },
          "metadata": {
            "tags": []
          },
          "execution_count": 45
        }
      ]
    },
    {
      "cell_type": "code",
      "metadata": {
        "id": "RTp6qd26eoWO"
      },
      "source": [
        "# TWITTER DATA"
      ],
      "execution_count": 46,
      "outputs": []
    },
    {
      "cell_type": "code",
      "metadata": {
        "colab": {
          "base_uri": "https://localhost:8080/"
        },
        "id": "D56nfA9MetE4",
        "outputId": "3abc3c71-5d4c-4f2a-8640-f0315625afd9"
      },
      "source": [
        "twitter_df.select('text').show(10, False)"
      ],
      "execution_count": 47,
      "outputs": [
        {
          "output_type": "stream",
          "text": [
            "+----------------------------------------------------------------------------------------------------------------------------------+\n",
            "|text                                                                                                                              |\n",
            "+----------------------------------------------------------------------------------------------------------------------------------+\n",
            "|What is God saying to us about #coronavirus ?                                                                                     |\n",
            "|\"BREAKING: \"\"this is disappointing                                                                                                |\n",
            "| #Coronavirus testing must be made free to the public if we are going to understand the scope of this crisis. Anything le…        |\n",
            "| Get ready for mass event crowd cancellations across the World starting this weekend: cricket in #Australia in empty st…          |\n",
            "| The #coronavirus pandemic is revealing just how closely we are all bound together...[A thread]                                   |\n",
            "| COVID-19 update as of this morning:1. Death toll in Italy passes 1,0002. Arsenal's head coach Arteta tests positive3. US…        |\n",
            "| It’s painful to say, but as an ER doc who talked to  about healthcare, I believe he's uniquely unqualified to…                   |\n",
            "| 📽️Friends, I will drop another video on Twitter tonight around 7:30pm to answer your questions about #coronavirus.Plea…         |\n",
            "| Questions about COVID-19? See this resource and info page from NAfME for music educators, including music instrument hygiene: ht…|\n",
            "|How they’re dealing with #coronavirus in a public facility in Portsmouth, Uk. Yes, that’s a coronavirus warning sig…              |\n",
            "+----------------------------------------------------------------------------------------------------------------------------------+\n",
            "only showing top 10 rows\n",
            "\n"
          ],
          "name": "stdout"
        }
      ]
    },
    {
      "cell_type": "code",
      "metadata": {
        "colab": {
          "base_uri": "https://localhost:8080/"
        },
        "id": "AeVVoLloewpj",
        "outputId": "2d67494d-c3b2-4ed7-bfd4-dff971e90d49"
      },
      "source": [
        "twitter_df.select('user', 'text').show(10, False)"
      ],
      "execution_count": 48,
      "outputs": [
        {
          "output_type": "stream",
          "text": [
            "+------------------------------------------------------------------------------+----------------------------------------------------------------------------------------------------------------------------------+\n",
            "|user                                                                          |text                                                                                                                              |\n",
            "+------------------------------------------------------------------------------+----------------------------------------------------------------------------------------------------------------------------------+\n",
            "|petodinice                                                                    |What is God saying to us about #coronavirus ?                                                                                     |\n",
            "| but i took the test\"\". Arsenal's Mikel Arteta tests positive for #coronavirus|\"BREAKING: \"\"this is disappointing                                                                                                |\n",
            "|cek422                                                                        | #Coronavirus testing must be made free to the public if we are going to understand the scope of this crisis. Anything le…        |\n",
            "|InfectiousDz                                                                  | Get ready for mass event crowd cancellations across the World starting this weekend: cricket in #Australia in empty st…          |\n",
            "|vic_gibson                                                                    | The #coronavirus pandemic is revealing just how closely we are all bound together...[A thread]                                   |\n",
            "|StewartNgilana                                                                | COVID-19 update as of this morning:1. Death toll in Italy passes 1,0002. Arsenal's head coach Arteta tests positive3. US…        |\n",
            "|BWheatnyc                                                                     | It’s painful to say, but as an ER doc who talked to  about healthcare, I believe he's uniquely unqualified to…                   |\n",
            "|LorseaR                                                                       | 📽️Friends, I will drop another video on Twitter tonight around 7:30pm to answer your questions about #coronavirus.Plea…         |\n",
            "|straightj23                                                                   | Questions about COVID-19? See this resource and info page from NAfME for music educators, including music instrument hygiene: ht…|\n",
            "|_______coolio                                                                 |How they’re dealing with #coronavirus in a public facility in Portsmouth, Uk. Yes, that’s a coronavirus warning sig…              |\n",
            "+------------------------------------------------------------------------------+----------------------------------------------------------------------------------------------------------------------------------+\n",
            "only showing top 10 rows\n",
            "\n"
          ],
          "name": "stdout"
        }
      ]
    },
    {
      "cell_type": "code",
      "metadata": {
        "id": "7GrDUrMwgIrF"
      },
      "source": [
        "# map and flatmap "
      ],
      "execution_count": 49,
      "outputs": []
    },
    {
      "cell_type": "code",
      "metadata": {
        "colab": {
          "base_uri": "https://localhost:8080/"
        },
        "id": "fFy8jXZdfRle",
        "outputId": "b25dd87c-af4a-4e74-f44f-0b1e2b2eb4ee"
      },
      "source": [
        "twitter_df.rdd.map(lambda line: line.text.split(\" \")).take(5)"
      ],
      "execution_count": 50,
      "outputs": [
        {
          "output_type": "execute_result",
          "data": {
            "text/plain": [
              "[['What', 'is', 'God', 'saying', 'to', 'us', 'about', '#coronavirus', '?'],\n",
              " ['\"BREAKING:', '\"\"this', 'is', 'disappointing'],\n",
              " ['',\n",
              "  '#Coronavirus',\n",
              "  'testing',\n",
              "  'must',\n",
              "  'be',\n",
              "  'made',\n",
              "  'free',\n",
              "  'to',\n",
              "  'the',\n",
              "  'public',\n",
              "  'if',\n",
              "  'we',\n",
              "  'are',\n",
              "  'going',\n",
              "  'to',\n",
              "  'understand',\n",
              "  'the',\n",
              "  'scope',\n",
              "  'of',\n",
              "  'this',\n",
              "  'crisis.',\n",
              "  'Anything',\n",
              "  'le…'],\n",
              " ['',\n",
              "  'Get',\n",
              "  'ready',\n",
              "  'for',\n",
              "  'mass',\n",
              "  'event',\n",
              "  'crowd',\n",
              "  'cancellations',\n",
              "  'across',\n",
              "  'the',\n",
              "  'World',\n",
              "  'starting',\n",
              "  'this',\n",
              "  'weekend:',\n",
              "  'cricket',\n",
              "  'in',\n",
              "  '#Australia',\n",
              "  'in',\n",
              "  'empty',\n",
              "  'st…'],\n",
              " ['',\n",
              "  'The',\n",
              "  '#coronavirus',\n",
              "  'pandemic',\n",
              "  'is',\n",
              "  'revealing',\n",
              "  'just',\n",
              "  'how',\n",
              "  'closely',\n",
              "  'we',\n",
              "  'are',\n",
              "  'all',\n",
              "  'bound',\n",
              "  'together...[A',\n",
              "  'thread]',\n",
              "  '']]"
            ]
          },
          "metadata": {
            "tags": []
          },
          "execution_count": 50
        }
      ]
    },
    {
      "cell_type": "code",
      "metadata": {
        "colab": {
          "base_uri": "https://localhost:8080/"
        },
        "id": "9TtgRmssfqKK",
        "outputId": "c7bdbb2a-8791-402f-ac42-168570b6fae5"
      },
      "source": [
        "twitter_df.rdd.flatMap(lambda line: line.text.split(\" \")).take(100)"
      ],
      "execution_count": 51,
      "outputs": [
        {
          "output_type": "execute_result",
          "data": {
            "text/plain": [
              "['What',\n",
              " 'is',\n",
              " 'God',\n",
              " 'saying',\n",
              " 'to',\n",
              " 'us',\n",
              " 'about',\n",
              " '#coronavirus',\n",
              " '?',\n",
              " '\"BREAKING:',\n",
              " '\"\"this',\n",
              " 'is',\n",
              " 'disappointing',\n",
              " '',\n",
              " '#Coronavirus',\n",
              " 'testing',\n",
              " 'must',\n",
              " 'be',\n",
              " 'made',\n",
              " 'free',\n",
              " 'to',\n",
              " 'the',\n",
              " 'public',\n",
              " 'if',\n",
              " 'we',\n",
              " 'are',\n",
              " 'going',\n",
              " 'to',\n",
              " 'understand',\n",
              " 'the',\n",
              " 'scope',\n",
              " 'of',\n",
              " 'this',\n",
              " 'crisis.',\n",
              " 'Anything',\n",
              " 'le…',\n",
              " '',\n",
              " 'Get',\n",
              " 'ready',\n",
              " 'for',\n",
              " 'mass',\n",
              " 'event',\n",
              " 'crowd',\n",
              " 'cancellations',\n",
              " 'across',\n",
              " 'the',\n",
              " 'World',\n",
              " 'starting',\n",
              " 'this',\n",
              " 'weekend:',\n",
              " 'cricket',\n",
              " 'in',\n",
              " '#Australia',\n",
              " 'in',\n",
              " 'empty',\n",
              " 'st…',\n",
              " '',\n",
              " 'The',\n",
              " '#coronavirus',\n",
              " 'pandemic',\n",
              " 'is',\n",
              " 'revealing',\n",
              " 'just',\n",
              " 'how',\n",
              " 'closely',\n",
              " 'we',\n",
              " 'are',\n",
              " 'all',\n",
              " 'bound',\n",
              " 'together...[A',\n",
              " 'thread]',\n",
              " '',\n",
              " '',\n",
              " 'COVID-19',\n",
              " 'update',\n",
              " 'as',\n",
              " 'of',\n",
              " 'this',\n",
              " 'morning:1.',\n",
              " 'Death',\n",
              " 'toll',\n",
              " 'in',\n",
              " 'Italy',\n",
              " 'passes',\n",
              " '1,0002.',\n",
              " \"Arsenal's\",\n",
              " 'head',\n",
              " 'coach',\n",
              " 'Arteta',\n",
              " 'tests',\n",
              " 'positive3.',\n",
              " 'US…',\n",
              " '',\n",
              " 'It’s',\n",
              " 'painful',\n",
              " 'to',\n",
              " 'say,',\n",
              " 'but',\n",
              " 'as',\n",
              " 'an']"
            ]
          },
          "metadata": {
            "tags": []
          },
          "execution_count": 51
        }
      ]
    },
    {
      "cell_type": "code",
      "metadata": {
        "colab": {
          "base_uri": "https://localhost:8080/"
        },
        "id": "5qAfVD4yf5yp",
        "outputId": "39340d26-1d36-460d-887e-2d5878f1589d"
      },
      "source": [
        "corona_df.filter(\"country='US'\").show()"
      ],
      "execution_count": 52,
      "outputs": [
        {
          "output_type": "stream",
          "text": [
            "+---+----------------+-------+------------------+---------+----------+---------+-----+---------+----------------+----------------+\n",
            "|_c0|           State|Country|               Lat|     Long|      Date|Confirmed|Death|Recovered|   state_cleaned|            City|\n",
            "+---+----------------+-------+------------------+---------+----------+---------+-----+---------+----------------+----------------+\n",
            "| 98|      Washington|     US|           47.4009|-121.4905|2020-01-22|        0|    0|        0|      Washington|      Washington|\n",
            "| 99|        New York|     US|           42.1657| -74.9481|2020-01-22|        0|    0|        0|        New York|        New York|\n",
            "|100|      California|     US|           36.1162|-119.6816|2020-01-22|        0|    0|        0|      California|      California|\n",
            "|101|   Massachusetts|     US|           42.2302| -71.5301|2020-01-22|        0|    0|        0|   Massachusetts|   Massachusetts|\n",
            "|102|Diamond Princess|     US|           35.4437|  139.638|2020-01-22|        0|    0|        0|Diamond Princess|Diamond Princess|\n",
            "|103|  Grand Princess|     US|           37.6489|-122.6655|2020-01-22|        0|    0|        0|  Grand Princess|  Grand Princess|\n",
            "|104|         Georgia|     US|           33.0406| -83.6431|2020-01-22|        0|    0|        0|         Georgia|         Georgia|\n",
            "|105|        Colorado|     US|           39.0598|-105.3111|2020-01-22|        0|    0|        0|        Colorado|        Colorado|\n",
            "|106|         Florida|     US|           27.7663| -81.6868|2020-01-22|        0|    0|        0|         Florida|         Florida|\n",
            "|107|      New Jersey|     US|           40.2989|  -74.521|2020-01-22|        0|    0|        0|      New Jersey|      New Jersey|\n",
            "|108|          Oregon|     US|44.571999999999996|-122.0709|2020-01-22|        0|    0|        0|          Oregon|          Oregon|\n",
            "|109|           Texas|     US|           31.0545| -97.5635|2020-01-22|        0|    0|        0|           Texas|           Texas|\n",
            "|110|        Illinois|     US|           40.3495| -88.9861|2020-01-22|        0|    0|        0|        Illinois|        Illinois|\n",
            "|111|    Pennsylvania|     US|           40.5908| -77.2098|2020-01-22|        0|    0|        0|    Pennsylvania|    Pennsylvania|\n",
            "|112|            Iowa|     US|           42.0115| -93.2105|2020-01-22|        0|    0|        0|            Iowa|            Iowa|\n",
            "|113|        Maryland|     US|           39.0639| -76.8021|2020-01-22|        0|    0|        0|        Maryland|        Maryland|\n",
            "|114|  North Carolina|     US|           35.6301| -79.8064|2020-01-22|        0|    0|        0|  North Carolina|  North Carolina|\n",
            "|115|  South Carolina|     US|           33.8569|  -80.945|2020-01-22|        0|    0|        0|  South Carolina|  South Carolina|\n",
            "|116|       Tennessee|     US|           35.7478| -86.6923|2020-01-22|        0|    0|        0|       Tennessee|       Tennessee|\n",
            "|117|        Virginia|     US|           37.7693|   -78.17|2020-01-22|        0|    0|        0|        Virginia|        Virginia|\n",
            "+---+----------------+-------+------------------+---------+----------+---------+-----+---------+----------------+----------------+\n",
            "only showing top 20 rows\n",
            "\n"
          ],
          "name": "stdout"
        }
      ]
    },
    {
      "cell_type": "code",
      "metadata": {
        "id": "Gjj_SlSHhBvD"
      },
      "source": [
        "# Sorting "
      ],
      "execution_count": 53,
      "outputs": []
    },
    {
      "cell_type": "code",
      "metadata": {
        "colab": {
          "base_uri": "https://localhost:8080/"
        },
        "id": "2_rQIEX3gSn1",
        "outputId": "87a0aec7-741b-45a4-8b1e-c53aaccd115d"
      },
      "source": [
        "corona_df.filter(\"country='US'\").sort(col('Date'), ascending=False).show()"
      ],
      "execution_count": 54,
      "outputs": [
        {
          "output_type": "stream",
          "text": [
            "+-----+----------------+-------+------------------+---------+----------+---------+-----+---------+----------------+----------------+\n",
            "|  _c0|           State|Country|               Lat|     Long|      Date|Confirmed|Death|Recovered|   state_cleaned|            City|\n",
            "+-----+----------------+-------+------------------+---------+----------+---------+-----+---------+----------------+----------------+\n",
            "|27764|      Washington|     US|           47.4009|-121.4905|2020-03-20|     1524|   83|        0|      Washington|      Washington|\n",
            "|27784|         Arizona|     US|           33.7298|-111.4312|2020-03-20|       78|    0|        0|         Arizona|         Arizona|\n",
            "|27765|        New York|     US|           42.1657| -74.9481|2020-03-20|     8310|   42|        0|        New York|        New York|\n",
            "|27766|      California|     US|           36.1162|-119.6816|2020-03-20|     1177|   23|        0|      California|      California|\n",
            "|27767|   Massachusetts|     US|           42.2302| -71.5301|2020-03-20|      413|    1|        0|   Massachusetts|   Massachusetts|\n",
            "|27768|Diamond Princess|     US|           35.4437|  139.638|2020-03-20|       49|    0|        0|Diamond Princess|Diamond Princess|\n",
            "|27769|  Grand Princess|     US|           37.6489|-122.6655|2020-03-20|       23|    0|        0|  Grand Princess|  Grand Princess|\n",
            "|27770|         Georgia|     US|           33.0406| -83.6431|2020-03-20|      420|   13|        0|         Georgia|         Georgia|\n",
            "|27771|        Colorado|     US|           39.0598|-105.3111|2020-03-20|      363|    4|        0|        Colorado|        Colorado|\n",
            "|27772|         Florida|     US|           27.7663| -81.6868|2020-03-20|      563|   10|        0|         Florida|         Florida|\n",
            "|27773|      New Jersey|     US|           40.2989|  -74.521|2020-03-20|      890|   11|        0|      New Jersey|      New Jersey|\n",
            "|27774|          Oregon|     US|44.571999999999996|-122.0709|2020-03-20|      114|    3|        0|          Oregon|          Oregon|\n",
            "|27775|           Texas|     US|           31.0545| -97.5635|2020-03-20|      394|    5|        0|           Texas|           Texas|\n",
            "|27776|        Illinois|     US|           40.3495| -88.9861|2020-03-20|      585|    5|        0|        Illinois|        Illinois|\n",
            "|27777|    Pennsylvania|     US|           40.5908| -77.2098|2020-03-20|      303|    1|        0|    Pennsylvania|    Pennsylvania|\n",
            "|27778|            Iowa|     US|           42.0115| -93.2105|2020-03-20|       45|    0|        0|            Iowa|            Iowa|\n",
            "|27779|        Maryland|     US|           39.0639| -76.8021|2020-03-20|      149|    1|        0|        Maryland|        Maryland|\n",
            "|27780|  North Carolina|     US|           35.6301| -79.8064|2020-03-20|      172|    0|        0|  North Carolina|  North Carolina|\n",
            "|27781|  South Carolina|     US|           33.8569|  -80.945|2020-03-20|      126|    1|        0|  South Carolina|  South Carolina|\n",
            "|27782|       Tennessee|     US|           35.7478| -86.6923|2020-03-20|      233|    0|        0|       Tennessee|       Tennessee|\n",
            "+-----+----------------+-------+------------------+---------+----------+---------+-----+---------+----------------+----------------+\n",
            "only showing top 20 rows\n",
            "\n"
          ],
          "name": "stdout"
        }
      ]
    },
    {
      "cell_type": "code",
      "metadata": {
        "colab": {
          "base_uri": "https://localhost:8080/"
        },
        "id": "PUlvbp0Ggrl5",
        "outputId": "bf932e41-f40a-4e1e-c3f7-ee26f0017139"
      },
      "source": [
        "corona_df.filter(\"country='US'\").orderBy(col(\"Date\"), ascending=False).show()"
      ],
      "execution_count": 55,
      "outputs": [
        {
          "output_type": "stream",
          "text": [
            "+-----+----------------+-------+------------------+---------+----------+---------+-----+---------+----------------+----------------+\n",
            "|  _c0|           State|Country|               Lat|     Long|      Date|Confirmed|Death|Recovered|   state_cleaned|            City|\n",
            "+-----+----------------+-------+------------------+---------+----------+---------+-----+---------+----------------+----------------+\n",
            "|27764|      Washington|     US|           47.4009|-121.4905|2020-03-20|     1524|   83|        0|      Washington|      Washington|\n",
            "|27784|         Arizona|     US|           33.7298|-111.4312|2020-03-20|       78|    0|        0|         Arizona|         Arizona|\n",
            "|27765|        New York|     US|           42.1657| -74.9481|2020-03-20|     8310|   42|        0|        New York|        New York|\n",
            "|27766|      California|     US|           36.1162|-119.6816|2020-03-20|     1177|   23|        0|      California|      California|\n",
            "|27767|   Massachusetts|     US|           42.2302| -71.5301|2020-03-20|      413|    1|        0|   Massachusetts|   Massachusetts|\n",
            "|27768|Diamond Princess|     US|           35.4437|  139.638|2020-03-20|       49|    0|        0|Diamond Princess|Diamond Princess|\n",
            "|27769|  Grand Princess|     US|           37.6489|-122.6655|2020-03-20|       23|    0|        0|  Grand Princess|  Grand Princess|\n",
            "|27770|         Georgia|     US|           33.0406| -83.6431|2020-03-20|      420|   13|        0|         Georgia|         Georgia|\n",
            "|27771|        Colorado|     US|           39.0598|-105.3111|2020-03-20|      363|    4|        0|        Colorado|        Colorado|\n",
            "|27772|         Florida|     US|           27.7663| -81.6868|2020-03-20|      563|   10|        0|         Florida|         Florida|\n",
            "|27773|      New Jersey|     US|           40.2989|  -74.521|2020-03-20|      890|   11|        0|      New Jersey|      New Jersey|\n",
            "|27774|          Oregon|     US|44.571999999999996|-122.0709|2020-03-20|      114|    3|        0|          Oregon|          Oregon|\n",
            "|27775|           Texas|     US|           31.0545| -97.5635|2020-03-20|      394|    5|        0|           Texas|           Texas|\n",
            "|27776|        Illinois|     US|           40.3495| -88.9861|2020-03-20|      585|    5|        0|        Illinois|        Illinois|\n",
            "|27777|    Pennsylvania|     US|           40.5908| -77.2098|2020-03-20|      303|    1|        0|    Pennsylvania|    Pennsylvania|\n",
            "|27778|            Iowa|     US|           42.0115| -93.2105|2020-03-20|       45|    0|        0|            Iowa|            Iowa|\n",
            "|27779|        Maryland|     US|           39.0639| -76.8021|2020-03-20|      149|    1|        0|        Maryland|        Maryland|\n",
            "|27780|  North Carolina|     US|           35.6301| -79.8064|2020-03-20|      172|    0|        0|  North Carolina|  North Carolina|\n",
            "|27781|  South Carolina|     US|           33.8569|  -80.945|2020-03-20|      126|    1|        0|  South Carolina|  South Carolina|\n",
            "|27782|       Tennessee|     US|           35.7478| -86.6923|2020-03-20|      233|    0|        0|       Tennessee|       Tennessee|\n",
            "+-----+----------------+-------+------------------+---------+----------+---------+-----+---------+----------------+----------------+\n",
            "only showing top 20 rows\n",
            "\n"
          ],
          "name": "stdout"
        }
      ]
    },
    {
      "cell_type": "code",
      "metadata": {
        "colab": {
          "base_uri": "https://localhost:8080/"
        },
        "id": "8OVAQSPcg7BV",
        "outputId": "3525e408-6c76-4ae9-c3fe-3964b2f66f32"
      },
      "source": [
        "# LIMITING DATA MOVEMENT --> AVOIDING WIDE TRANSFORMATION \n",
        "\n",
        "corona_df.filter(\"country='US'\").sortWithinPartitions([col(\"Date\"), col(\"Confirmed\")], ascending=False).show()"
      ],
      "execution_count": 56,
      "outputs": [
        {
          "output_type": "stream",
          "text": [
            "+-----+--------------+-------+-------+---------+----------+---------+-----+---------+--------------+--------------+\n",
            "|  _c0|         State|Country|    Lat|     Long|      Date|Confirmed|Death|Recovered| state_cleaned|          City|\n",
            "+-----+--------------+-------+-------+---------+----------+---------+-----+---------+--------------+--------------+\n",
            "|27765|      New York|     US|42.1657| -74.9481|2020-03-20|     8310|   42|        0|      New York|      New York|\n",
            "|27764|    Washington|     US|47.4009|-121.4905|2020-03-20|     1524|   83|        0|    Washington|    Washington|\n",
            "|27766|    California|     US|36.1162|-119.6816|2020-03-20|     1177|   23|        0|    California|    California|\n",
            "|27773|    New Jersey|     US|40.2989|  -74.521|2020-03-20|      890|   11|        0|    New Jersey|    New Jersey|\n",
            "|27776|      Illinois|     US|40.3495| -88.9861|2020-03-20|      585|    5|        0|      Illinois|      Illinois|\n",
            "|27772|       Florida|     US|27.7663| -81.6868|2020-03-20|      563|   10|        0|       Florida|       Florida|\n",
            "|27812|      Michigan|     US|43.3266| -84.5361|2020-03-20|      552|    3|        0|      Michigan|      Michigan|\n",
            "|27804|     Louisiana|     US|31.1695| -91.8678|2020-03-20|      538|   14|        0|     Louisiana|     Louisiana|\n",
            "|27770|       Georgia|     US|33.0406| -83.6431|2020-03-20|      420|   13|        0|       Georgia|       Georgia|\n",
            "|27767| Massachusetts|     US|42.2302| -71.5301|2020-03-20|      413|    1|        0| Massachusetts| Massachusetts|\n",
            "|27775|         Texas|     US|31.0545| -97.5635|2020-03-20|      394|    5|        0|         Texas|         Texas|\n",
            "|27771|      Colorado|     US|39.0598|-105.3111|2020-03-20|      363|    4|        0|      Colorado|      Colorado|\n",
            "|27777|  Pennsylvania|     US|40.5908| -77.2098|2020-03-20|      303|    1|        0|  Pennsylvania|  Pennsylvania|\n",
            "|27782|     Tennessee|     US|35.7478| -86.6923|2020-03-20|      233|    0|        0|     Tennessee|     Tennessee|\n",
            "|27794|     Wisconsin|     US|44.2685| -89.6165|2020-03-20|      207|    3|        0|     Wisconsin|     Wisconsin|\n",
            "|27795|   Connecticut|     US|41.5978| -72.7554|2020-03-20|      194|    3|        0|   Connecticut|   Connecticut|\n",
            "|27792|          Ohio|     US|40.3888| -82.7649|2020-03-20|      173|    2|        0|          Ohio|          Ohio|\n",
            "|27780|North Carolina|     US|35.6301| -79.8064|2020-03-20|      172|    0|        0|North Carolina|North Carolina|\n",
            "|27779|      Maryland|     US|39.0639| -76.8021|2020-03-20|      149|    1|        0|      Maryland|      Maryland|\n",
            "|27781|South Carolina|     US|33.8569|  -80.945|2020-03-20|      126|    1|        0|South Carolina|South Carolina|\n",
            "+-----+--------------+-------+-------+---------+----------+---------+-----+---------+--------------+--------------+\n",
            "only showing top 20 rows\n",
            "\n"
          ],
          "name": "stdout"
        }
      ]
    },
    {
      "cell_type": "code",
      "metadata": {
        "colab": {
          "base_uri": "https://localhost:8080/"
        },
        "id": "gaZuWsQ7htYZ",
        "outputId": "3dda24c0-5457-48ad-c727-0f4581ddf0e2"
      },
      "source": [
        "corona_df.describe().show()"
      ],
      "execution_count": 57,
      "outputs": [
        {
          "output_type": "stream",
          "text": [
            "+-------+-----------------+---------+-----------+------------------+------------------+----------+------------------+------------------+------------------+-------------+-----------+\n",
            "|summary|              _c0|    State|    Country|               Lat|              Long|      Date|         Confirmed|             Death|         Recovered|state_cleaned|       City|\n",
            "+-------+-----------------+---------+-----------+------------------+------------------+----------+------------------+------------------+------------------+-------------+-----------+\n",
            "|  count|            28143|    19116|      28143|             28143|             28143|     28143|             28143|             28143|             28143|        28143|      14573|\n",
            "|   mean|          14071.0|     null|       null|30.965553459118834|-34.57031257861667|      null|161.88245744945456| 5.494368048893153| 60.17290267562094|         null|       null|\n",
            "| stddev|8124.328649186959|     null|       null|19.365472826597646| 80.78375872452575|      null| 2519.847217725942|109.29475709869875|1346.6597829124426|         null|       null|\n",
            "|    min|                0|Adams, IN|Afghanistan|          -41.4545|         -157.8584|2020-01-22|                 0|                 0|                 0|    Abu Dhabi|      Adams|\n",
            "|    max|            28142| Zhejiang|   Zimbabwe|           71.7069|           178.065|2020-03-20|             67800|              4032|             58382|     erdészet|Yolo County|\n",
            "+-------+-----------------+---------+-----------+------------------+------------------+----------+------------------+------------------+------------------+-------------+-----------+\n",
            "\n"
          ],
          "name": "stdout"
        }
      ]
    },
    {
      "cell_type": "code",
      "metadata": {
        "colab": {
          "base_uri": "https://localhost:8080/"
        },
        "id": "Hcvp43KBib99",
        "outputId": "8503a365-a849-43bc-d1e3-2ba8d7e82ddf"
      },
      "source": [
        "corona_df.printSchema()"
      ],
      "execution_count": 58,
      "outputs": [
        {
          "output_type": "stream",
          "text": [
            "root\n",
            " |-- _c0: integer (nullable = true)\n",
            " |-- State: string (nullable = true)\n",
            " |-- Country: string (nullable = true)\n",
            " |-- Lat: double (nullable = true)\n",
            " |-- Long: double (nullable = true)\n",
            " |-- Date: string (nullable = true)\n",
            " |-- Confirmed: integer (nullable = true)\n",
            " |-- Death: integer (nullable = true)\n",
            " |-- Recovered: integer (nullable = true)\n",
            " |-- state_cleaned: string (nullable = true)\n",
            " |-- City: string (nullable = true)\n",
            "\n"
          ],
          "name": "stdout"
        }
      ]
    },
    {
      "cell_type": "code",
      "metadata": {
        "colab": {
          "base_uri": "https://localhost:8080/"
        },
        "id": "c7xK5l3GimLx",
        "outputId": "7290701a-bb99-4fc3-dbb8-dbcc9bc51089"
      },
      "source": [
        "corona_df.filter('Confirmed>10000').sort(col('Confirmed'), ascending=False).show()"
      ],
      "execution_count": 59,
      "outputs": [
        {
          "output_type": "stream",
          "text": [
            "+-----+-----+-------+-------+--------+----------+---------+-----+---------+-------------+----+\n",
            "|  _c0|State|Country|    Lat|    Long|      Date|Confirmed|Death|Recovered|state_cleaned|City|\n",
            "+-----+-----+-------+-------+--------+----------+---------+-----+---------+-------------+----+\n",
            "|27820|Hubei|  China|30.9756|112.2707|2020-03-20|    67800| 3133|    58382|        Hubei|null|\n",
            "|27343|Hubei|  China|30.9756|112.2707|2020-03-19|    67800| 3130|    57682|        Hubei|null|\n",
            "|26866|Hubei|  China|30.9756|112.2707|2020-03-18|    67800| 3122|    56927|        Hubei|null|\n",
            "|26389|Hubei|  China|30.9756|112.2707|2020-03-17|    67799| 3111|    56003|        Hubei|null|\n",
            "|25912|Hubei|  China|30.9756|112.2707|2020-03-16|    67798| 3099|    55142|        Hubei|null|\n",
            "|25435|Hubei|  China|30.9756|112.2707|2020-03-15|    67794| 3085|    54288|        Hubei|null|\n",
            "|24958|Hubei|  China|30.9756|112.2707|2020-03-14|    67790| 3075|    52960|        Hubei|null|\n",
            "|24481|Hubei|  China|30.9756|112.2707|2020-03-13|    67786| 3062|    51553|        Hubei|null|\n",
            "|24004|Hubei|  China|30.9756|112.2707|2020-03-12|    67781| 3056|    50318|        Hubei|null|\n",
            "|23527|Hubei|  China|30.9756|112.2707|2020-03-11|    67773| 3046|    49134|        Hubei|null|\n",
            "|23050|Hubei|  China|30.9756|112.2707|2020-03-10|    67760| 3024|    47743|        Hubei|null|\n",
            "|22573|Hubei|  China|30.9756|112.2707|2020-03-09|    67743| 3008|    46488|        Hubei|null|\n",
            "|22096|Hubei|  China|30.9756|112.2707|2020-03-08|    67707| 2986|    45235|        Hubei|null|\n",
            "|21619|Hubei|  China|30.9756|112.2707|2020-03-07|    67666| 2959|    43500|        Hubei|null|\n",
            "|21142|Hubei|  China|30.9756|112.2707|2020-03-06|    67592| 2931|    42033|        Hubei|null|\n",
            "|20665|Hubei|  China|30.9756|112.2707|2020-03-05|    67466| 2902|    40592|        Hubei|null|\n",
            "|20188|Hubei|  China|30.9756|112.2707|2020-03-04|    67332| 2871|    38557|        Hubei|null|\n",
            "|19711|Hubei|  China|30.9756|112.2707|2020-03-03|    67217| 2835|    36208|        Hubei|null|\n",
            "|19234|Hubei|  China|30.9756|112.2707|2020-03-02|    67103| 2803|    33934|        Hubei|null|\n",
            "|18757|Hubei|  China|30.9756|112.2707|2020-03-01|    66907| 2761|    31536|        Hubei|null|\n",
            "+-----+-----+-------+-------+--------+----------+---------+-----+---------+-------------+----+\n",
            "only showing top 20 rows\n",
            "\n"
          ],
          "name": "stdout"
        }
      ]
    },
    {
      "cell_type": "code",
      "metadata": {
        "colab": {
          "base_uri": "https://localhost:8080/"
        },
        "id": "9s2jPmuni1cJ",
        "outputId": "f1b62fea-ce8d-46bd-97d3-48c9f859c392"
      },
      "source": [
        "corona_df.filter('Confirmed>10000').approxQuantile('Confirmed', [0.25, 0.5, 0.75, 0.9, 0.95], 0.9)"
      ],
      "execution_count": 60,
      "outputs": [
        {
          "output_type": "execute_result",
          "data": {
            "text/plain": [
              "[10075.0, 10075.0, 10075.0, 10075.0, 67800.0]"
            ]
          },
          "metadata": {
            "tags": []
          },
          "execution_count": 60
        }
      ]
    },
    {
      "cell_type": "code",
      "metadata": {
        "id": "T1Sx-AC2jbMl"
      },
      "source": [
        "# aggrigation function "
      ],
      "execution_count": 61,
      "outputs": []
    },
    {
      "cell_type": "code",
      "metadata": {
        "colab": {
          "base_uri": "https://localhost:8080/"
        },
        "id": "n0RkqKa7joPd",
        "outputId": "0ab5da49-0788-4f31-a20c-1718c7da427c"
      },
      "source": [
        "corona_df.agg({\"Date\":\"max\"}).collect()"
      ],
      "execution_count": 62,
      "outputs": [
        {
          "output_type": "execute_result",
          "data": {
            "text/plain": [
              "[Row(max(Date)='2020-03-20')]"
            ]
          },
          "metadata": {
            "tags": []
          },
          "execution_count": 62
        }
      ]
    },
    {
      "cell_type": "code",
      "metadata": {
        "colab": {
          "base_uri": "https://localhost:8080/"
        },
        "id": "1mIYgI0fjxav",
        "outputId": "7fb59080-0764-417a-8fca-e02a73d1dd1f"
      },
      "source": [
        "corona_df.agg({\"Date\":\"max\", \"Confirmed\":\"max\"}).collect()"
      ],
      "execution_count": 63,
      "outputs": [
        {
          "output_type": "execute_result",
          "data": {
            "text/plain": [
              "[Row(max(Confirmed)=67800, max(Date)='2020-03-20')]"
            ]
          },
          "metadata": {
            "tags": []
          },
          "execution_count": 63
        }
      ]
    },
    {
      "cell_type": "code",
      "metadata": {
        "id": "NTabhSuGj-0z"
      },
      "source": [
        "max_date = corona_df.agg({\"Date\":\"max\"})"
      ],
      "execution_count": 64,
      "outputs": []
    },
    {
      "cell_type": "code",
      "metadata": {
        "colab": {
          "base_uri": "https://localhost:8080/"
        },
        "id": "VUpBR4-tkQbB",
        "outputId": "2cb67bd6-ea2c-43e4-f5b7-a5b1444be6da"
      },
      "source": [
        "max_date.show()"
      ],
      "execution_count": 65,
      "outputs": [
        {
          "output_type": "stream",
          "text": [
            "+----------+\n",
            "| max(Date)|\n",
            "+----------+\n",
            "|2020-03-20|\n",
            "+----------+\n",
            "\n"
          ],
          "name": "stdout"
        }
      ]
    },
    {
      "cell_type": "code",
      "metadata": {
        "colab": {
          "base_uri": "https://localhost:8080/"
        },
        "id": "xAeieon-kR1R",
        "outputId": "a8578870-a835-4fe3-81eb-1b90cbccfbde"
      },
      "source": [
        "# Check the latest collected date \n",
        "import pyspark.sql.functions as F\n",
        "\n",
        "corona_df.groupBy(\"Country\", \"State_cleaned\").agg(F.max(\"Date\").alias(\"Date\")).show()"
      ],
      "execution_count": 66,
      "outputs": [
        {
          "output_type": "stream",
          "text": [
            "+--------------+--------------------+----------+\n",
            "|       Country|       State_cleaned|      Date|\n",
            "+--------------+--------------------+----------+\n",
            "|      Cameroon|             Yaounde|2020-03-20|\n",
            "|         China|             Qinghai|2020-03-20|\n",
            "|        Cyprus|             Nicosia|2020-03-20|\n",
            "|            US|            Michigan|2020-03-20|\n",
            "|      Portugal|              Lisbon|2020-03-20|\n",
            "|            US|            Colorado|2020-03-20|\n",
            "|United Kingdom|      Cayman Islands|2020-03-20|\n",
            "|         China|              Hainan|2020-03-20|\n",
            "|            US|            Missouri|2020-03-20|\n",
            "|     Australia|Australian Capita...|2020-03-20|\n",
            "|            US|                Guam|2020-03-20|\n",
            "|        France|             Reunion|2020-03-20|\n",
            "|      Colombia|        Cundinamarca|2020-03-20|\n",
            "|          Cuba|              Havana|2020-03-20|\n",
            "|     Mauritius|          Port Louis|2020-03-20|\n",
            "|       Ukraine|                Kiev|2020-03-20|\n",
            "|         Benin|          Porto-Novo|2020-03-20|\n",
            "|   Switzerland|                Bern|2020-03-20|\n",
            "|         Malta|               Mgarr|2020-03-20|\n",
            "|United Kingdom|         Isle of Man|2020-03-20|\n",
            "+--------------+--------------------+----------+\n",
            "only showing top 20 rows\n",
            "\n"
          ],
          "name": "stdout"
        }
      ]
    },
    {
      "cell_type": "code",
      "metadata": {
        "colab": {
          "base_uri": "https://localhost:8080/"
        },
        "id": "Wcb1HoPAlK3_",
        "outputId": "feee1bcc-f7d1-4288-fcc3-a7e3eac93d60"
      },
      "source": [
        "corona_df.join(corona_df.groupBy(\"Country\", \"State_cleaned\").agg(F.max(\"Date\").alias(\"Date\")), on=['Country', 'State_cleaned', 'Date'], how='inner').show()"
      ],
      "execution_count": 67,
      "outputs": [
        {
          "output_type": "stream",
          "text": [
            "+--------------------+--------------------+----------+-----+----------------+--------+---------+---------+-----+---------+----+\n",
            "|             Country|       state_cleaned|      Date|  _c0|           State|     Lat|     Long|Confirmed|Death|Recovered|City|\n",
            "+--------------------+--------------------+----------+-----+----------------+--------+---------+---------+-----+---------+----+\n",
            "|            Thailand|             Bangkok|2020-03-20|27666|            null|    15.0|    101.0|      322|    1|       42|null|\n",
            "|               Japan|             Hiraide|2020-03-20|27667|            null|    36.0|    138.0|      963|   33|      191|null|\n",
            "|           Singapore|           Singapore|2020-03-20|27668|            null|  1.2833| 103.8333|      385|    0|      124|null|\n",
            "|               Nepal|           Kathmandu|2020-03-20|27669|            null| 28.1667|    84.25|        1|    0|        1|null|\n",
            "|            Malaysia|             Sarawak|2020-03-20|27670|            null|     2.5|    112.5|     1030|    3|       87|null|\n",
            "|              Canada|    British Columbia|2020-03-20|27671|British Columbia| 49.2827|-123.1207|      271|    8|        4|null|\n",
            "|           Australia|     New South Wales|2020-03-20|27672| New South Wales|-33.8688| 151.2093|      353|    6|        4|null|\n",
            "|           Australia|            Victoria|2020-03-20|27673|        Victoria|-37.8136| 144.9631|      121|    0|        8|null|\n",
            "|           Australia|          Queensland|2020-03-20|27674|      Queensland|-28.0167|    153.4|      184|    0|        8|null|\n",
            "|            Cambodia|          Phnom Penh|2020-03-20|27675|            null|   11.55| 104.9167|       51|    0|        1|null|\n",
            "|           Sri Lanka|Sri Jayawardenapu...|2020-03-20|27676|            null|     7.0|     81.0|       73|    0|        3|null|\n",
            "|             Germany|              Berlin|2020-03-20|27677|            null|    51.0|      9.0|    19848|   67|      180|null|\n",
            "|             Finland|            Helsinki|2020-03-20|27678|            null|    64.0|     26.0|      450|    0|       10|null|\n",
            "|United Arab Emirates|           Abu Dhabi|2020-03-20|27679|            null|    24.0|     54.0|      140|    2|       31|null|\n",
            "|         Philippines|              Manila|2020-03-20|27680|            null|    13.0|    122.0|      230|   18|        8|null|\n",
            "|               India|           New Delhi|2020-03-20|27681|            null|    21.0|     78.0|      244|    5|       20|null|\n",
            "|               Italy|                Rome|2020-03-20|27682|            null|    43.0|     12.0|    47021| 4032|     4440|null|\n",
            "|              Sweden|           Stockholm|2020-03-20|27683|            null|    63.0|     16.0|     1639|   16|       16|null|\n",
            "|               Spain|              Toledo|2020-03-20|27684|            null|    40.0|     -4.0|    20410| 1043|     1588|null|\n",
            "|           Australia|     South Australia|2020-03-20|27685| South Australia|-34.9285| 138.6007|       50|    0|        3|null|\n",
            "+--------------------+--------------------+----------+-----+----------------+--------+---------+---------+-----+---------+----+\n",
            "only showing top 20 rows\n",
            "\n"
          ],
          "name": "stdout"
        }
      ]
    },
    {
      "cell_type": "code",
      "metadata": {
        "colab": {
          "base_uri": "https://localhost:8080/"
        },
        "id": "DiM5F1WKmEBv",
        "outputId": "02868256-13f5-40fd-cea0-b884da7f119d"
      },
      "source": [
        "# Aggregate, join and sort \n",
        "\n",
        "corona_df.join(corona_df.groupBy(\"Country\", \"State_cleaned\").agg(F.max(\"Date\").alias(\"Date\")), on=['Country', 'State_cleaned', 'Date'], how='inner').sort(\"Confirmed\", ascending=False).show()"
      ],
      "execution_count": 68,
      "outputs": [
        {
          "output_type": "stream",
          "text": [
            "+--------------+----------------+----------+-----+--------------+-------+-------------------+---------+-----+---------+----------+\n",
            "|       Country|   state_cleaned|      Date|  _c0|         State|    Lat|               Long|Confirmed|Death|Recovered|      City|\n",
            "+--------------+----------------+----------+-----+--------------+-------+-------------------+---------+-----+---------+----------+\n",
            "|         China|           Hubei|2020-03-20|27820|         Hubei|30.9756|           112.2707|    67800| 3133|    58382|      null|\n",
            "|         Italy|            Rome|2020-03-20|27682|          null|   43.0|               12.0|    47021| 4032|     4440|      null|\n",
            "|         Spain|          Toledo|2020-03-20|27684|          null|   40.0|               -4.0|    20410| 1043|     1588|      null|\n",
            "|       Germany|          Berlin|2020-03-20|27677|          null|   51.0|                9.0|    19848|   67|      180|      null|\n",
            "|          Iran|          Tehran|2020-03-20|27821|          null|   32.0|               53.0|    19644| 1433|     6745|      null|\n",
            "|        France|          France|2020-03-20|27823|        France|46.2276|             2.2137|    12612|  450|       12|      null|\n",
            "|  Korea, South|Gyeongsangbuk-do|2020-03-20|27822|          null|   36.0|              128.0|     8652|   94|     1540|      null|\n",
            "|            US|        New York|2020-03-20|27765|      New York|42.1657|           -74.9481|     8310|   42|        0|  New York|\n",
            "|   Switzerland|            Bern|2020-03-20|27697|          null|46.8182|             8.2275|     5294|   54|       15|      null|\n",
            "|United Kingdom|  United Kingdom|2020-03-20|28069|United Kingdom|55.3781|-3.4360000000000004|     3983|  177|       65|      null|\n",
            "|   Netherlands|     Netherlands|2020-03-20|28106|   Netherlands|52.1326|             5.2913|     2994|  106|        2|      null|\n",
            "|       Austria|          Vienna|2020-03-20|27698|          null|47.5162|            14.5501|     2388|    6|        9|      null|\n",
            "|       Belgium|        Brussels|2020-03-20|27686|          null|50.8333|                4.0|     2257|   37|        1|      null|\n",
            "|        Norway|             Hol|2020-03-20|27705|          null| 60.472|             8.4689|     1914|    7|        1|      null|\n",
            "|        Sweden|       Stockholm|2020-03-20|27683|          null|   63.0|               16.0|     1639|   16|       16|      null|\n",
            "|            US|      Washington|2020-03-20|27764|    Washington|47.4009|          -121.4905|     1524|   83|        0|Washington|\n",
            "|         China|       Guangdong|2020-03-20|27824|     Guangdong|23.3417|           113.4244|     1395|    8|     1323|      null|\n",
            "|         China|           Henan|2020-03-20|27825|         Henan| 33.882| 113.61399999999999|     1273|   22|     1250|      null|\n",
            "|       Denmark|         Denmark|2020-03-20|27836|       Denmark|56.2639|             9.5018|     1255|    9|        1|      null|\n",
            "|         China|        Zhejiang|2020-03-20|27826|      Zhejiang|29.1832|           120.0934|     1234|    1|     1219|      null|\n",
            "+--------------+----------------+----------+-----+--------------+-------+-------------------+---------+-----+---------+----------+\n",
            "only showing top 20 rows\n",
            "\n"
          ],
          "name": "stdout"
        }
      ]
    },
    {
      "cell_type": "code",
      "metadata": {
        "colab": {
          "base_uri": "https://localhost:8080/"
        },
        "id": "EPPQbKF7mryW",
        "outputId": "44a1932c-c864-458f-d3df-7eaf0b82e210"
      },
      "source": [
        "corona_df.join(corona_df.groupBy(\"country\", \"state_cleaned\").agg(F.max('Date').alias(\"Date\")), on=['Country', 'state_cleaned', 'Date'], how='inner').sort(\"Confirmed\", ascending=False).show(10)"
      ],
      "execution_count": 73,
      "outputs": [
        {
          "output_type": "stream",
          "text": [
            "+--------------+----------------+----------+-----+--------------+-------+-------------------+---------+-----+---------+--------+\n",
            "|       Country|   state_cleaned|      Date|  _c0|         State|    Lat|               Long|Confirmed|Death|Recovered|    City|\n",
            "+--------------+----------------+----------+-----+--------------+-------+-------------------+---------+-----+---------+--------+\n",
            "|         China|           Hubei|2020-03-20|27820|         Hubei|30.9756|           112.2707|    67800| 3133|    58382|    null|\n",
            "|         Italy|            Rome|2020-03-20|27682|          null|   43.0|               12.0|    47021| 4032|     4440|    null|\n",
            "|         Spain|          Toledo|2020-03-20|27684|          null|   40.0|               -4.0|    20410| 1043|     1588|    null|\n",
            "|       Germany|          Berlin|2020-03-20|27677|          null|   51.0|                9.0|    19848|   67|      180|    null|\n",
            "|          Iran|          Tehran|2020-03-20|27821|          null|   32.0|               53.0|    19644| 1433|     6745|    null|\n",
            "|        France|          France|2020-03-20|27823|        France|46.2276|             2.2137|    12612|  450|       12|    null|\n",
            "|  Korea, South|Gyeongsangbuk-do|2020-03-20|27822|          null|   36.0|              128.0|     8652|   94|     1540|    null|\n",
            "|            US|        New York|2020-03-20|27765|      New York|42.1657|           -74.9481|     8310|   42|        0|New York|\n",
            "|   Switzerland|            Bern|2020-03-20|27697|          null|46.8182|             8.2275|     5294|   54|       15|    null|\n",
            "|United Kingdom|  United Kingdom|2020-03-20|28069|United Kingdom|55.3781|-3.4360000000000004|     3983|  177|       65|    null|\n",
            "+--------------+----------------+----------+-----+--------------+-------+-------------------+---------+-----+---------+--------+\n",
            "only showing top 10 rows\n",
            "\n"
          ],
          "name": "stdout"
        }
      ]
    },
    {
      "cell_type": "code",
      "metadata": {
        "id": "pf2mhVUfLe-X"
      },
      "source": [
        "## WINDOW "
      ],
      "execution_count": 75,
      "outputs": []
    },
    {
      "cell_type": "code",
      "metadata": {
        "colab": {
          "base_uri": "https://localhost:8080/"
        },
        "id": "ahV_9n7OJPfI",
        "outputId": "3099fb4b-6df4-461b-a79f-ea38f2b89af9"
      },
      "source": [
        "from pyspark.sql.functions import row_number \n",
        "from pyspark.sql.window import Window \n",
        "\n",
        "ws = Window().partitionBy(\"Country\", \"State_cleaned\").orderBy(col(\"Date\").desc())\n",
        "corona_df.withColumn(\"row_num\", row_number().over(ws)).show()"
      ],
      "execution_count": 76,
      "outputs": [
        {
          "output_type": "stream",
          "text": [
            "+-----+-----+--------+------------------+-------+----------+---------+-----+---------+-------------+----+-------+\n",
            "|  _c0|State| Country|               Lat|   Long|      Date|Confirmed|Death|Recovered|state_cleaned|City|row_num|\n",
            "+-----+-----+--------+------------------+-------+----------+---------+-----+---------+-------------+----+-------+\n",
            "|27745| null|Cameroon|3.8480000000000003|11.5021|2020-03-20|       20|    0|        0|      Yaounde|null|      1|\n",
            "|27268| null|Cameroon|3.8480000000000003|11.5021|2020-03-19|       13|    0|        0|      Yaounde|null|      2|\n",
            "|26791| null|Cameroon|3.8480000000000003|11.5021|2020-03-18|       10|    0|        0|      Yaounde|null|      3|\n",
            "|26314| null|Cameroon|3.8480000000000003|11.5021|2020-03-17|       10|    0|        0|      Yaounde|null|      4|\n",
            "|25837| null|Cameroon|3.8480000000000003|11.5021|2020-03-16|        4|    0|        0|      Yaounde|null|      5|\n",
            "|25360| null|Cameroon|3.8480000000000003|11.5021|2020-03-15|        2|    0|        0|      Yaounde|null|      6|\n",
            "|24883| null|Cameroon|3.8480000000000003|11.5021|2020-03-14|        2|    0|        0|      Yaounde|null|      7|\n",
            "|24406| null|Cameroon|3.8480000000000003|11.5021|2020-03-13|        2|    0|        0|      Yaounde|null|      8|\n",
            "|23929| null|Cameroon|3.8480000000000003|11.5021|2020-03-12|        2|    0|        0|      Yaounde|null|      9|\n",
            "|23452| null|Cameroon|3.8480000000000003|11.5021|2020-03-11|        2|    0|        0|      Yaounde|null|     10|\n",
            "|22975| null|Cameroon|3.8480000000000003|11.5021|2020-03-10|        2|    0|        0|      Yaounde|null|     11|\n",
            "|22498| null|Cameroon|3.8480000000000003|11.5021|2020-03-09|        2|    0|        0|      Yaounde|null|     12|\n",
            "|22021| null|Cameroon|3.8480000000000003|11.5021|2020-03-08|        2|    0|        0|      Yaounde|null|     13|\n",
            "|21544| null|Cameroon|3.8480000000000003|11.5021|2020-03-07|        1|    0|        0|      Yaounde|null|     14|\n",
            "|21067| null|Cameroon|3.8480000000000003|11.5021|2020-03-06|        1|    0|        0|      Yaounde|null|     15|\n",
            "|20590| null|Cameroon|3.8480000000000003|11.5021|2020-03-05|        0|    0|        0|      Yaounde|null|     16|\n",
            "|20113| null|Cameroon|3.8480000000000003|11.5021|2020-03-04|        0|    0|        0|      Yaounde|null|     17|\n",
            "|19636| null|Cameroon|3.8480000000000003|11.5021|2020-03-03|        0|    0|        0|      Yaounde|null|     18|\n",
            "|19159| null|Cameroon|3.8480000000000003|11.5021|2020-03-02|        0|    0|        0|      Yaounde|null|     19|\n",
            "|18682| null|Cameroon|3.8480000000000003|11.5021|2020-03-01|        0|    0|        0|      Yaounde|null|     20|\n",
            "+-----+-----+--------+------------------+-------+----------+---------+-----+---------+-------------+----+-------+\n",
            "only showing top 20 rows\n",
            "\n"
          ],
          "name": "stdout"
        }
      ]
    },
    {
      "cell_type": "code",
      "metadata": {
        "colab": {
          "base_uri": "https://localhost:8080/"
        },
        "id": "xCMYoeBjLeCd",
        "outputId": "5c7f429e-a557-453b-c037-709fbdcdcc22"
      },
      "source": [
        "corona_df.withColumn(\"row_num\", row_number().over(ws)).where(col(\"row_num\")==1).show()"
      ],
      "execution_count": 77,
      "outputs": [
        {
          "output_type": "stream",
          "text": [
            "+-----+--------------------+--------------+------------------+---------+----------+---------+-----+---------+--------------------+--------+-------+\n",
            "|  _c0|               State|       Country|               Lat|     Long|      Date|Confirmed|Death|Recovered|       state_cleaned|    City|row_num|\n",
            "+-----+--------------------+--------------+------------------+---------+----------+---------+-----+---------+--------------------+--------+-------+\n",
            "|27745|                null|      Cameroon|3.8480000000000003|  11.5021|2020-03-20|       20|    0|        0|             Yaounde|    null|      1|\n",
            "|27859|             Qinghai|         China|           35.7452|  95.9956|2020-03-20|       18|    0|       18|             Qinghai|    null|      1|\n",
            "|27762|                null|        Cyprus|           35.1264|  33.4299|2020-03-20|       67|    0|        0|             Nicosia|    null|      1|\n",
            "|27812|            Michigan|            US|           43.3266| -84.5361|2020-03-20|      552|    3|        0|            Michigan|Michigan|      1|\n",
            "|27725|                null|      Portugal|           39.3999|  -8.2245|2020-03-20|     1020|    6|        5|              Lisbon|    null|      1|\n",
            "|27771|            Colorado|            US|           39.0598|-105.3111|2020-03-20|      363|    4|        0|            Colorado|Colorado|      1|\n",
            "|28115|      Cayman Islands|United Kingdom|           19.3133| -81.2546|2020-03-20|        3|    1|        0|      Cayman Islands|    null|      1|\n",
            "|27844|              Hainan|         China|           19.1959| 109.7453|2020-03-20|      168|    6|      161|              Hainan|    null|      1|\n",
            "|27805|            Missouri|            US|           38.4561| -92.2884|2020-03-20|       53|    2|        0|            Missouri|Missouri|      1|\n",
            "|28068|Australian Capita...|     Australia|          -35.4735| 149.0124|2020-03-20|        6|    0|        0|Australian Capita...|    null|      1|\n",
            "|28097|                Guam|            US|           13.4443| 144.7937|2020-03-20|       14|    0|        0|                Guam|    Guam|      1|\n",
            "|28116|             Reunion|        France|          -21.1351|  55.2471|2020-03-20|       28|    0|        0|             Reunion|    null|      1|\n",
            "|27746|                null|      Colombia|            4.5709| -74.2973|2020-03-20|      128|    0|        1|        Cundinamarca|    null|      1|\n",
            "|28066|                null|          Cuba|              22.0|    -80.0|2020-03-20|       16|    1|        0|              Havana|    null|      1|\n",
            "|28120|                null|     Mauritius|             -20.2|     57.5|2020-03-20|       12|    0|        0|          Port Louis|    null|      1|\n",
            "|27735|                null|       Ukraine|           48.3794|  31.1656|2020-03-20|       29|    3|        0|                Kiev|    null|      1|\n",
            "|28109|                null|         Benin|            9.3077|   2.3158|2020-03-20|        2|    0|        0|          Porto-Novo|    null|      1|\n",
            "|27697|                null|   Switzerland|           46.8182|   8.2275|2020-03-20|     5294|   54|       15|                Bern|    null|      1|\n",
            "|27752|                null|         Malta|           35.9375|  14.3754|2020-03-20|       64|    0|        2|               Mgarr|    null|      1|\n",
            "|28141|         Isle of Man|United Kingdom|           54.2361|  -4.5481|2020-03-20|        1|    0|        0|         Isle of Man|    null|      1|\n",
            "+-----+--------------------+--------------+------------------+---------+----------+---------+-----+---------+--------------------+--------+-------+\n",
            "only showing top 20 rows\n",
            "\n"
          ],
          "name": "stdout"
        }
      ]
    },
    {
      "cell_type": "code",
      "metadata": {
        "id": "-cq1ngx2L9eY"
      },
      "source": [
        "corona_max_df = corona_df.join(corona_df.groupBy(\"Country\", \"State_cleaned\").agg(F.max(\"Date\").alias(\"Date\")), on=['Country', 'State_cleaned', \"Date\"], how='inner')"
      ],
      "execution_count": 78,
      "outputs": []
    },
    {
      "cell_type": "code",
      "metadata": {
        "colab": {
          "base_uri": "https://localhost:8080/"
        },
        "id": "HcCpP-nmM2dj",
        "outputId": "672785b3-7ab2-4bd6-f448-bea700d59314"
      },
      "source": [
        "corona_max_df.show()"
      ],
      "execution_count": 79,
      "outputs": [
        {
          "output_type": "stream",
          "text": [
            "+--------------------+--------------------+----------+-----+----------------+--------+---------+---------+-----+---------+----+\n",
            "|             Country|       state_cleaned|      Date|  _c0|           State|     Lat|     Long|Confirmed|Death|Recovered|City|\n",
            "+--------------------+--------------------+----------+-----+----------------+--------+---------+---------+-----+---------+----+\n",
            "|            Thailand|             Bangkok|2020-03-20|27666|            null|    15.0|    101.0|      322|    1|       42|null|\n",
            "|               Japan|             Hiraide|2020-03-20|27667|            null|    36.0|    138.0|      963|   33|      191|null|\n",
            "|           Singapore|           Singapore|2020-03-20|27668|            null|  1.2833| 103.8333|      385|    0|      124|null|\n",
            "|               Nepal|           Kathmandu|2020-03-20|27669|            null| 28.1667|    84.25|        1|    0|        1|null|\n",
            "|            Malaysia|             Sarawak|2020-03-20|27670|            null|     2.5|    112.5|     1030|    3|       87|null|\n",
            "|              Canada|    British Columbia|2020-03-20|27671|British Columbia| 49.2827|-123.1207|      271|    8|        4|null|\n",
            "|           Australia|     New South Wales|2020-03-20|27672| New South Wales|-33.8688| 151.2093|      353|    6|        4|null|\n",
            "|           Australia|            Victoria|2020-03-20|27673|        Victoria|-37.8136| 144.9631|      121|    0|        8|null|\n",
            "|           Australia|          Queensland|2020-03-20|27674|      Queensland|-28.0167|    153.4|      184|    0|        8|null|\n",
            "|            Cambodia|          Phnom Penh|2020-03-20|27675|            null|   11.55| 104.9167|       51|    0|        1|null|\n",
            "|           Sri Lanka|Sri Jayawardenapu...|2020-03-20|27676|            null|     7.0|     81.0|       73|    0|        3|null|\n",
            "|             Germany|              Berlin|2020-03-20|27677|            null|    51.0|      9.0|    19848|   67|      180|null|\n",
            "|             Finland|            Helsinki|2020-03-20|27678|            null|    64.0|     26.0|      450|    0|       10|null|\n",
            "|United Arab Emirates|           Abu Dhabi|2020-03-20|27679|            null|    24.0|     54.0|      140|    2|       31|null|\n",
            "|         Philippines|              Manila|2020-03-20|27680|            null|    13.0|    122.0|      230|   18|        8|null|\n",
            "|               India|           New Delhi|2020-03-20|27681|            null|    21.0|     78.0|      244|    5|       20|null|\n",
            "|               Italy|                Rome|2020-03-20|27682|            null|    43.0|     12.0|    47021| 4032|     4440|null|\n",
            "|              Sweden|           Stockholm|2020-03-20|27683|            null|    63.0|     16.0|     1639|   16|       16|null|\n",
            "|               Spain|              Toledo|2020-03-20|27684|            null|    40.0|     -4.0|    20410| 1043|     1588|null|\n",
            "|           Australia|     South Australia|2020-03-20|27685| South Australia|-34.9285| 138.6007|       50|    0|        3|null|\n",
            "+--------------------+--------------------+----------+-----+----------------+--------+---------+---------+-----+---------+----+\n",
            "only showing top 20 rows\n",
            "\n"
          ],
          "name": "stdout"
        }
      ]
    },
    {
      "cell_type": "code",
      "metadata": {
        "id": "06yqnfu1M4UY"
      },
      "source": [
        "# Pivot "
      ],
      "execution_count": 80,
      "outputs": []
    },
    {
      "cell_type": "code",
      "metadata": {
        "colab": {
          "base_uri": "https://localhost:8080/"
        },
        "id": "NfZhBaulNKXb",
        "outputId": "1db31af4-7b5c-4d15-8ad6-6567cbe85307"
      },
      "source": [
        "corona_df.groupBy(\"Country\").pivot(\"Date\").agg(F.sum(\"Confirmed\")).show()"
      ],
      "execution_count": 81,
      "outputs": [
        {
          "output_type": "stream",
          "text": [
            "+-----------+----------+----------+----------+----------+----------+----------+----------+----------+----------+----------+----------+----------+----------+----------+----------+----------+----------+----------+----------+----------+----------+----------+----------+----------+----------+----------+----------+----------+----------+----------+----------+----------+----------+----------+----------+----------+----------+----------+----------+----------+----------+----------+----------+----------+----------+----------+----------+----------+----------+----------+----------+----------+----------+----------+----------+----------+----------+----------+----------+\n",
            "|    Country|2020-01-22|2020-01-23|2020-01-24|2020-01-25|2020-01-26|2020-01-27|2020-01-28|2020-01-29|2020-01-30|2020-01-31|2020-02-01|2020-02-02|2020-02-03|2020-02-04|2020-02-05|2020-02-06|2020-02-07|2020-02-08|2020-02-09|2020-02-10|2020-02-11|2020-02-12|2020-02-13|2020-02-14|2020-02-15|2020-02-16|2020-02-17|2020-02-18|2020-02-19|2020-02-20|2020-02-21|2020-02-22|2020-02-23|2020-02-24|2020-02-25|2020-02-26|2020-02-27|2020-02-28|2020-02-29|2020-03-01|2020-03-02|2020-03-03|2020-03-04|2020-03-05|2020-03-06|2020-03-07|2020-03-08|2020-03-09|2020-03-10|2020-03-11|2020-03-12|2020-03-13|2020-03-14|2020-03-15|2020-03-16|2020-03-17|2020-03-18|2020-03-19|2020-03-20|\n",
            "+-----------+----------+----------+----------+----------+----------+----------+----------+----------+----------+----------+----------+----------+----------+----------+----------+----------+----------+----------+----------+----------+----------+----------+----------+----------+----------+----------+----------+----------+----------+----------+----------+----------+----------+----------+----------+----------+----------+----------+----------+----------+----------+----------+----------+----------+----------+----------+----------+----------+----------+----------+----------+----------+----------+----------+----------+----------+----------+----------+----------+\n",
            "|       Chad|         0|         0|         0|         0|         0|         0|         0|         0|         0|         0|         0|         0|         0|         0|         0|         0|         0|         0|         0|         0|         0|         0|         0|         0|         0|         0|         0|         0|         0|         0|         0|         0|         0|         0|         0|         0|         0|         0|         0|         0|         0|         0|         0|         0|         0|         0|         0|         0|         0|         0|         0|         0|         0|         0|         0|         0|         0|         1|         1|\n",
            "|     Russia|         0|         0|         0|         0|         0|         0|         0|         0|         0|         2|         2|         2|         2|         2|         2|         2|         2|         2|         2|         2|         2|         2|         2|         2|         2|         2|         2|         2|         2|         2|         2|         2|         2|         2|         2|         2|         2|         2|         2|         2|         3|         3|         3|         4|        13|        13|        17|        17|        20|        20|        28|        45|        59|        63|        90|       114|       147|       199|       253|\n",
            "|   Paraguay|         0|         0|         0|         0|         0|         0|         0|         0|         0|         0|         0|         0|         0|         0|         0|         0|         0|         0|         0|         0|         0|         0|         0|         0|         0|         0|         0|         0|         0|         0|         0|         0|         0|         0|         0|         0|         0|         0|         0|         0|         0|         0|         0|         0|         0|         0|         1|         1|         1|         5|         5|         6|         6|         6|         8|         9|        11|        11|        13|\n",
            "|    Senegal|         0|         0|         0|         0|         0|         0|         0|         0|         0|         0|         0|         0|         0|         0|         0|         0|         0|         0|         0|         0|         0|         0|         0|         0|         0|         0|         0|         0|         0|         0|         0|         0|         0|         0|         0|         0|         0|         0|         0|         0|         1|         2|         4|         4|         4|         4|         4|         4|         4|         4|         4|        10|        10|        24|        24|        26|        31|        31|        38|\n",
            "| Cabo Verde|         0|         0|         0|         0|         0|         0|         0|         0|         0|         0|         0|         0|         0|         0|         0|         0|         0|         0|         0|         0|         0|         0|         0|         0|         0|         0|         0|         0|         0|         0|         0|         0|         0|         0|         0|         0|         0|         0|         0|         0|         0|         0|         0|         0|         0|         0|         0|         0|         0|         0|         0|         0|         0|         0|         0|         0|         0|         0|         1|\n",
            "|     Sweden|         0|         0|         0|         0|         0|         0|         0|         0|         0|         1|         1|         1|         1|         1|         1|         1|         1|         1|         1|         1|         1|         1|         1|         1|         1|         1|         1|         1|         1|         1|         1|         1|         1|         1|         1|         2|         7|         7|        12|        14|        15|        21|        35|        94|       101|       161|       203|       248|       355|       500|       599|       814|       961|      1022|      1103|      1190|      1279|      1439|      1639|\n",
            "|     Guyana|         0|         0|         0|         0|         0|         0|         0|         0|         0|         0|         0|         0|         0|         0|         0|         0|         0|         0|         0|         0|         0|         0|         0|         0|         0|         0|         0|         0|         0|         0|         0|         0|         0|         0|         0|         0|         0|         0|         0|         0|         0|         0|         0|         0|         0|         0|         0|         0|         0|         0|         1|         1|         1|         4|         4|         7|         7|         7|         7|\n",
            "|Philippines|         0|         0|         0|         0|         0|         0|         0|         0|         1|         1|         1|         2|         2|         2|         2|         2|         3|         3|         3|         3|         3|         3|         3|         3|         3|         3|         3|         3|         3|         3|         3|         3|         3|         3|         3|         3|         3|         3|         3|         3|         3|         3|         3|         3|         5|         6|        10|        20|        33|        49|        52|        64|       111|       140|       142|       187|       202|       217|       230|\n",
            "|   Djibouti|         0|         0|         0|         0|         0|         0|         0|         0|         0|         0|         0|         0|         0|         0|         0|         0|         0|         0|         0|         0|         0|         0|         0|         0|         0|         0|         0|         0|         0|         0|         0|         0|         0|         0|         0|         0|         0|         0|         0|         0|         0|         0|         0|         0|         0|         0|         0|         0|         0|         0|         0|         0|         0|         0|         0|         0|         1|         1|         1|\n",
            "|  Singapore|         0|         1|         3|         3|         4|         5|         7|         7|        10|        13|        16|        18|        18|        24|        28|        28|        30|        33|        40|        45|        47|        50|        58|        67|        72|        75|        77|        81|        84|        84|        85|        85|        89|        89|        91|        93|        93|        93|       102|       106|       108|       110|       110|       117|       130|       138|       150|       150|       160|       178|       178|       200|       212|       226|       243|       266|       313|       345|       385|\n",
            "|   Malaysia|         0|         0|         0|         3|         4|         4|         4|         7|         8|         8|         8|         8|         8|        10|        12|        12|        12|        16|        16|        18|        18|        18|        19|        19|        22|        22|        22|        22|        22|        22|        22|        22|        22|        22|        22|        22|        23|        23|        25|        29|        29|        36|        50|        50|        83|        93|        99|       117|       129|       149|       149|       197|       238|       428|       566|       673|       790|       900|      1030|\n",
            "|       Fiji|         0|         0|         0|         0|         0|         0|         0|         0|         0|         0|         0|         0|         0|         0|         0|         0|         0|         0|         0|         0|         0|         0|         0|         0|         0|         0|         0|         0|         0|         0|         0|         0|         0|         0|         0|         0|         0|         0|         0|         0|         0|         0|         0|         0|         0|         0|         0|         0|         0|         0|         0|         0|         0|         0|         0|         0|         0|         1|         1|\n",
            "|     Turkey|         0|         0|         0|         0|         0|         0|         0|         0|         0|         0|         0|         0|         0|         0|         0|         0|         0|         0|         0|         0|         0|         0|         0|         0|         0|         0|         0|         0|         0|         0|         0|         0|         0|         0|         0|         0|         0|         0|         0|         0|         0|         0|         0|         0|         0|         0|         0|         0|         0|         1|         1|         5|         5|         6|        18|        47|        98|       192|       359|\n",
            "|       Iraq|         0|         0|         0|         0|         0|         0|         0|         0|         0|         0|         0|         0|         0|         0|         0|         0|         0|         0|         0|         0|         0|         0|         0|         0|         0|         0|         0|         0|         0|         0|         0|         0|         0|         1|         1|         5|         7|         7|        13|        19|        26|        32|        35|        35|        40|        54|        60|        60|        71|        71|        71|       101|       110|       116|       124|       154|       164|       192|       208|\n",
            "|    Germany|         0|         0|         0|         0|         0|         1|         4|         4|         4|         5|         8|        10|        12|        12|        12|        12|        13|        13|        14|        14|        16|        16|        16|        16|        16|        16|        16|        16|        16|        16|        16|        16|        16|        16|        17|        27|        46|        48|        79|       130|       159|       196|       262|       482|       670|       799|      1040|      1176|      1457|      1908|      2078|      3675|      4585|      5795|      7272|      9257|     12327|     15320|     19848|\n",
            "|   Cambodia|         0|         0|         0|         0|         0|         1|         1|         1|         1|         1|         1|         1|         1|         1|         1|         1|         1|         1|         1|         1|         1|         1|         1|         1|         1|         1|         1|         1|         1|         1|         1|         1|         1|         1|         1|         1|         1|         1|         1|         1|         1|         1|         1|         1|         1|         1|         2|         2|         2|         3|         3|         5|         7|         7|         7|        33|        35|        37|        51|\n",
            "|Afghanistan|         0|         0|         0|         0|         0|         0|         0|         0|         0|         0|         0|         0|         0|         0|         0|         0|         0|         0|         0|         0|         0|         0|         0|         0|         0|         0|         0|         0|         0|         0|         0|         0|         0|         1|         1|         1|         1|         1|         1|         1|         1|         1|         1|         1|         1|         1|         4|         4|         5|         7|         7|         7|        11|        16|        21|        22|        22|        22|        24|\n",
            "|     Jordan|         0|         0|         0|         0|         0|         0|         0|         0|         0|         0|         0|         0|         0|         0|         0|         0|         0|         0|         0|         0|         0|         0|         0|         0|         0|         0|         0|         0|         0|         0|         0|         0|         0|         0|         0|         0|         0|         0|         0|         0|         0|         1|         1|         1|         1|         1|         1|         1|         1|         1|         1|         1|         1|         8|        17|        34|        52|        69|        85|\n",
            "|     Rwanda|         0|         0|         0|         0|         0|         0|         0|         0|         0|         0|         0|         0|         0|         0|         0|         0|         0|         0|         0|         0|         0|         0|         0|         0|         0|         0|         0|         0|         0|         0|         0|         0|         0|         0|         0|         0|         0|         0|         0|         0|         0|         0|         0|         0|         0|         0|         0|         0|         0|         0|         0|         0|         1|         1|         5|         7|         8|         8|        17|\n",
            "|   Maldives|         0|         0|         0|         0|         0|         0|         0|         0|         0|         0|         0|         0|         0|         0|         0|         0|         0|         0|         0|         0|         0|         0|         0|         0|         0|         0|         0|         0|         0|         0|         0|         0|         0|         0|         0|         0|         0|         0|         0|         0|         0|         0|         0|         0|         0|         0|         4|         4|         6|         8|         8|         9|        10|        13|        13|        13|        13|        13|        13|\n",
            "+-----------+----------+----------+----------+----------+----------+----------+----------+----------+----------+----------+----------+----------+----------+----------+----------+----------+----------+----------+----------+----------+----------+----------+----------+----------+----------+----------+----------+----------+----------+----------+----------+----------+----------+----------+----------+----------+----------+----------+----------+----------+----------+----------+----------+----------+----------+----------+----------+----------+----------+----------+----------+----------+----------+----------+----------+----------+----------+----------+----------+\n",
            "only showing top 20 rows\n",
            "\n"
          ],
          "name": "stdout"
        }
      ]
    },
    {
      "cell_type": "code",
      "metadata": {
        "colab": {
          "base_uri": "https://localhost:8080/"
        },
        "id": "22rqgXZBNWxf",
        "outputId": "4de04af8-9738-4e91-e83c-d824aece85f0"
      },
      "source": [
        "corona_df.filter(\"Country=='US'\").crosstab(\"State\", \"Date\").show()"
      ],
      "execution_count": 82,
      "outputs": [
        {
          "output_type": "stream",
          "text": [
            "+-------------------+----------+----------+----------+----------+----------+----------+----------+----------+----------+----------+----------+----------+----------+----------+----------+----------+----------+----------+----------+----------+----------+----------+----------+----------+----------+----------+----------+----------+----------+----------+----------+----------+----------+----------+----------+----------+----------+----------+----------+----------+----------+----------+----------+----------+----------+----------+----------+----------+----------+----------+----------+----------+----------+----------+----------+----------+----------+----------+----------+\n",
            "|         State_Date|2020-01-22|2020-01-23|2020-01-24|2020-01-25|2020-01-26|2020-01-27|2020-01-28|2020-01-29|2020-01-30|2020-01-31|2020-02-01|2020-02-02|2020-02-03|2020-02-04|2020-02-05|2020-02-06|2020-02-07|2020-02-08|2020-02-09|2020-02-10|2020-02-11|2020-02-12|2020-02-13|2020-02-14|2020-02-15|2020-02-16|2020-02-17|2020-02-18|2020-02-19|2020-02-20|2020-02-21|2020-02-22|2020-02-23|2020-02-24|2020-02-25|2020-02-26|2020-02-27|2020-02-28|2020-02-29|2020-03-01|2020-03-02|2020-03-03|2020-03-04|2020-03-05|2020-03-06|2020-03-07|2020-03-08|2020-03-09|2020-03-10|2020-03-11|2020-03-12|2020-03-13|2020-03-14|2020-03-15|2020-03-16|2020-03-17|2020-03-18|2020-03-19|2020-03-20|\n",
            "+-------------------+----------+----------+----------+----------+----------+----------+----------+----------+----------+----------+----------+----------+----------+----------+----------+----------+----------+----------+----------+----------+----------+----------+----------+----------+----------+----------+----------+----------+----------+----------+----------+----------+----------+----------+----------+----------+----------+----------+----------+----------+----------+----------+----------+----------+----------+----------+----------+----------+----------+----------+----------+----------+----------+----------+----------+----------+----------+----------+----------+\n",
            "|         New Mexico|         1|         1|         1|         1|         1|         1|         1|         1|         1|         1|         1|         1|         1|         1|         1|         1|         1|         1|         1|         1|         1|         1|         1|         1|         1|         1|         1|         1|         1|         1|         1|         1|         1|         1|         1|         1|         1|         1|         1|         1|         1|         1|         1|         1|         1|         1|         1|         1|         1|         1|         1|         1|         1|         1|         1|         1|         1|         1|         1|\n",
            "|   Clark County, NV|         1|         1|         1|         1|         1|         1|         1|         1|         1|         1|         1|         1|         1|         1|         1|         1|         1|         1|         1|         1|         1|         1|         1|         1|         1|         1|         1|         1|         1|         1|         1|         1|         1|         1|         1|         1|         1|         1|         1|         1|         1|         1|         1|         1|         1|         1|         1|         1|         1|         1|         1|         1|         1|         1|         1|         1|         1|         1|         1|\n",
            "|         Summit, UT|         1|         1|         1|         1|         1|         1|         1|         1|         1|         1|         1|         1|         1|         1|         1|         1|         1|         1|         1|         1|         1|         1|         1|         1|         1|         1|         1|         1|         1|         1|         1|         1|         1|         1|         1|         1|         1|         1|         1|         1|         1|         1|         1|         1|         1|         1|         1|         1|         1|         1|         1|         1|         1|         1|         1|         1|         1|         1|         1|\n",
            "|     Montgomery, TX|         1|         1|         1|         1|         1|         1|         1|         1|         1|         1|         1|         1|         1|         1|         1|         1|         1|         1|         1|         1|         1|         1|         1|         1|         1|         1|         1|         1|         1|         1|         1|         1|         1|         1|         1|         1|         1|         1|         1|         1|         1|         1|         1|         1|         1|         1|         1|         1|         1|         1|         1|         1|         1|         1|         1|         1|         1|         1|         1|\n",
            "|           Dane, WI|         1|         1|         1|         1|         1|         1|         1|         1|         1|         1|         1|         1|         1|         1|         1|         1|         1|         1|         1|         1|         1|         1|         1|         1|         1|         1|         1|         1|         1|         1|         1|         1|         1|         1|         1|         1|         1|         1|         1|         1|         1|         1|         1|         1|         1|         1|         1|         1|         1|         1|         1|         1|         1|         1|         1|         1|         1|         1|         1|\n",
            "|Prince George's, MD|         1|         1|         1|         1|         1|         1|         1|         1|         1|         1|         1|         1|         1|         1|         1|         1|         1|         1|         1|         1|         1|         1|         1|         1|         1|         1|         1|         1|         1|         1|         1|         1|         1|         1|         1|         1|         1|         1|         1|         1|         1|         1|         1|         1|         1|         1|         1|         1|         1|         1|         1|         1|         1|         1|         1|         1|         1|         1|         1|\n",
            "|Maricopa County, AZ|         1|         1|         1|         1|         1|         1|         1|         1|         1|         1|         1|         1|         1|         1|         1|         1|         1|         1|         1|         1|         1|         1|         1|         1|         1|         1|         1|         1|         1|         1|         1|         1|         1|         1|         1|         1|         1|         1|         1|         1|         1|         1|         1|         1|         1|         1|         1|         1|         1|         1|         1|         1|         1|         1|         1|         1|         1|         1|         1|\n",
            "|  Harris County, TX|         1|         1|         1|         1|         1|         1|         1|         1|         1|         1|         1|         1|         1|         1|         1|         1|         1|         1|         1|         1|         1|         1|         1|         1|         1|         1|         1|         1|         1|         1|         1|         1|         1|         1|         1|         1|         1|         1|         1|         1|         1|         1|         1|         1|         1|         1|         1|         1|         1|         1|         1|         1|         1|         1|         1|         1|         1|         1|         1|\n",
            "|     New Castle, DE|         1|         1|         1|         1|         1|         1|         1|         1|         1|         1|         1|         1|         1|         1|         1|         1|         1|         1|         1|         1|         1|         1|         1|         1|         1|         1|         1|         1|         1|         1|         1|         1|         1|         1|         1|         1|         1|         1|         1|         1|         1|         1|         1|         1|         1|         1|         1|         1|         1|         1|         1|         1|         1|         1|         1|         1|         1|         1|         1|\n",
            "|      Deschutes, OR|         1|         1|         1|         1|         1|         1|         1|         1|         1|         1|         1|         1|         1|         1|         1|         1|         1|         1|         1|         1|         1|         1|         1|         1|         1|         1|         1|         1|         1|         1|         1|         1|         1|         1|         1|         1|         1|         1|         1|         1|         1|         1|         1|         1|         1|         1|         1|         1|         1|         1|         1|         1|         1|         1|         1|         1|         1|         1|         1|\n",
            "|        Connecticut|         1|         1|         1|         1|         1|         1|         1|         1|         1|         1|         1|         1|         1|         1|         1|         1|         1|         1|         1|         1|         1|         1|         1|         1|         1|         1|         1|         1|         1|         1|         1|         1|         1|         1|         1|         1|         1|         1|         1|         1|         1|         1|         1|         1|         1|         1|         1|         1|         1|         1|         1|         1|         1|         1|         1|         1|         1|         1|         1|\n",
            "|          Gregg, TX|         1|         1|         1|         1|         1|         1|         1|         1|         1|         1|         1|         1|         1|         1|         1|         1|         1|         1|         1|         1|         1|         1|         1|         1|         1|         1|         1|         1|         1|         1|         1|         1|         1|         1|         1|         1|         1|         1|         1|         1|         1|         1|         1|         1|         1|         1|         1|         1|         1|         1|         1|         1|         1|         1|         1|         1|         1|         1|         1|\n",
            "|    Wake County, NC|         1|         1|         1|         1|         1|         1|         1|         1|         1|         1|         1|         1|         1|         1|         1|         1|         1|         1|         1|         1|         1|         1|         1|         1|         1|         1|         1|         1|         1|         1|         1|         1|         1|         1|         1|         1|         1|         1|         1|         1|         1|         1|         1|         1|         1|         1|         1|         1|         1|         1|         1|         1|         1|         1|         1|         1|         1|         1|         1|\n",
            "|          Boone, IN|         1|         1|         1|         1|         1|         1|         1|         1|         1|         1|         1|         1|         1|         1|         1|         1|         1|         1|         1|         1|         1|         1|         1|         1|         1|         1|         1|         1|         1|         1|         1|         1|         1|         1|         1|         1|         1|         1|         1|         1|         1|         1|         1|         1|         1|         1|         1|         1|         1|         1|         1|         1|         1|         1|         1|         1|         1|         1|         1|\n",
            "|         Beadle, SD|         1|         1|         1|         1|         1|         1|         1|         1|         1|         1|         1|         1|         1|         1|         1|         1|         1|         1|         1|         1|         1|         1|         1|         1|         1|         1|         1|         1|         1|         1|         1|         1|         1|         1|         1|         1|         1|         1|         1|         1|         1|         1|         1|         1|         1|         1|         1|         1|         1|         1|         1|         1|         1|         1|         1|         1|         1|         1|         1|\n",
            "| Johnson County, IA|         1|         1|         1|         1|         1|         1|         1|         1|         1|         1|         1|         1|         1|         1|         1|         1|         1|         1|         1|         1|         1|         1|         1|         1|         1|         1|         1|         1|         1|         1|         1|         1|         1|         1|         1|         1|         1|         1|         1|         1|         1|         1|         1|         1|         1|         1|         1|         1|         1|         1|         1|         1|         1|         1|         1|         1|         1|         1|         1|\n",
            "|   Tulsa County, OK|         1|         1|         1|         1|         1|         1|         1|         1|         1|         1|         1|         1|         1|         1|         1|         1|         1|         1|         1|         1|         1|         1|         1|         1|         1|         1|         1|         1|         1|         1|         1|         1|         1|         1|         1|         1|         1|         1|         1|         1|         1|         1|         1|         1|         1|         1|         1|         1|         1|         1|         1|         1|         1|         1|         1|         1|         1|         1|         1|\n",
            "|         California|         1|         1|         1|         1|         1|         1|         1|         1|         1|         1|         1|         1|         1|         1|         1|         1|         1|         1|         1|         1|         1|         1|         1|         1|         1|         1|         1|         1|         1|         1|         1|         1|         1|         1|         1|         1|         1|         1|         1|         1|         1|         1|         1|         1|         1|         1|         1|         1|         1|         1|         1|         1|         1|         1|         1|         1|         1|         1|         1|\n",
            "|  Collin County, TX|         1|         1|         1|         1|         1|         1|         1|         1|         1|         1|         1|         1|         1|         1|         1|         1|         1|         1|         1|         1|         1|         1|         1|         1|         1|         1|         1|         1|         1|         1|         1|         1|         1|         1|         1|         1|         1|         1|         1|         1|         1|         1|         1|         1|         1|         1|         1|         1|         1|         1|         1|         1|         1|         1|         1|         1|         1|         1|         1|\n",
            "|       Charlton, GA|         1|         1|         1|         1|         1|         1|         1|         1|         1|         1|         1|         1|         1|         1|         1|         1|         1|         1|         1|         1|         1|         1|         1|         1|         1|         1|         1|         1|         1|         1|         1|         1|         1|         1|         1|         1|         1|         1|         1|         1|         1|         1|         1|         1|         1|         1|         1|         1|         1|         1|         1|         1|         1|         1|         1|         1|         1|         1|         1|\n",
            "+-------------------+----------+----------+----------+----------+----------+----------+----------+----------+----------+----------+----------+----------+----------+----------+----------+----------+----------+----------+----------+----------+----------+----------+----------+----------+----------+----------+----------+----------+----------+----------+----------+----------+----------+----------+----------+----------+----------+----------+----------+----------+----------+----------+----------+----------+----------+----------+----------+----------+----------+----------+----------+----------+----------+----------+----------+----------+----------+----------+----------+\n",
            "only showing top 20 rows\n",
            "\n"
          ],
          "name": "stdout"
        }
      ]
    },
    {
      "cell_type": "code",
      "metadata": {
        "colab": {
          "base_uri": "https://localhost:8080/"
        },
        "id": "Jo7lEQzhNxCe",
        "outputId": "8c46005d-1fd9-4ba2-e5ad-e7ad3402a75d"
      },
      "source": [
        "corona_max_df.groupBy(\"Country\").agg(F.max('Confirmed').alias(\"Confirmed\")).sort(\"Confirmed\", ascending=False).show()"
      ],
      "execution_count": 84,
      "outputs": [
        {
          "output_type": "stream",
          "text": [
            "+--------------+---------+\n",
            "|       Country|Confirmed|\n",
            "+--------------+---------+\n",
            "|         China|    67800|\n",
            "|         Italy|    47021|\n",
            "|         Spain|    20410|\n",
            "|       Germany|    19848|\n",
            "|          Iran|    19644|\n",
            "|        France|    12612|\n",
            "|  Korea, South|     8652|\n",
            "|            US|     8310|\n",
            "|   Switzerland|     5294|\n",
            "|United Kingdom|     3983|\n",
            "|   Netherlands|     2994|\n",
            "|       Austria|     2388|\n",
            "|       Belgium|     2257|\n",
            "|        Norway|     1914|\n",
            "|        Sweden|     1639|\n",
            "|       Denmark|     1255|\n",
            "|      Malaysia|     1030|\n",
            "|      Portugal|     1020|\n",
            "|         Japan|      963|\n",
            "|       Czechia|      833|\n",
            "+--------------+---------+\n",
            "only showing top 20 rows\n",
            "\n"
          ],
          "name": "stdout"
        }
      ]
    },
    {
      "cell_type": "code",
      "metadata": {
        "colab": {
          "base_uri": "https://localhost:8080/"
        },
        "id": "YLjJLwy2OOLr",
        "outputId": "a62952b2-7963-485d-8344-f9334cdcd2c4"
      },
      "source": [
        "corona_df.groupBy(\"Country\").agg(F.sum(\"Confirmed\").alias(\"Confirmed\"), F.sum(\"Recovered\"), F.sum(\"Death\")).orderBy(\"Confirmed\", ascending=False).show()"
      ],
      "execution_count": 86,
      "outputs": [
        {
          "output_type": "stream",
          "text": [
            "+--------------+---------+--------------+----------+\n",
            "|       Country|Confirmed|sum(Recovered)|sum(Death)|\n",
            "+--------------+---------+--------------+----------+\n",
            "|         China|  3287028|       1570179|    109614|\n",
            "|         Italy|   326105|         30834|     23658|\n",
            "|          Iran|   188884|         56432|      9883|\n",
            "|  Korea, South|   155106|         10523|      1233|\n",
            "|         Spain|   103290|          7093|      4198|\n",
            "|       Germany|    89015|          1063|       217|\n",
            "|        France|    71858|           342|      1623|\n",
            "|            US|    67002|           249|      1135|\n",
            "|   Switzerland|    25348|            96|       220|\n",
            "|   Cruise Ship|    24092|          3544|       165|\n",
            "|United Kingdom|    18816|           607|       584|\n",
            "|   Netherlands|    16031|            14|       373|\n",
            "|         Japan|    14471|          2279|       337|\n",
            "|        Norway|    13891|            12|        32|\n",
            "|        Sweden|    11847|            42|        58|\n",
            "|       Belgium|    11707|            93|       104|\n",
            "|       Austria|    11657|            66|        26|\n",
            "|       Denmark|     9694|            15|        29|\n",
            "|      Malaysia|     6402|           920|         9|\n",
            "|     Singapore|     5673|          2554|         0|\n",
            "+--------------+---------+--------------+----------+\n",
            "only showing top 20 rows\n",
            "\n"
          ],
          "name": "stdout"
        }
      ]
    },
    {
      "cell_type": "code",
      "metadata": {
        "colab": {
          "base_uri": "https://localhost:8080/"
        },
        "id": "zPh4D4FTO6j3",
        "outputId": "3a2906de-1e04-4b25-de1f-da7d85ea2d6e"
      },
      "source": [
        "corona_df.filter(\"Country='Italy'\").sort(\"Date\", ascending=False).show()"
      ],
      "execution_count": 88,
      "outputs": [
        {
          "output_type": "stream",
          "text": [
            "+-----+-----+-------+----+----+----------+---------+-----+---------+-------------+----+\n",
            "|  _c0|State|Country| Lat|Long|      Date|Confirmed|Death|Recovered|state_cleaned|City|\n",
            "+-----+-----+-------+----+----+----------+---------+-----+---------+-------------+----+\n",
            "|27682| null|  Italy|43.0|12.0|2020-03-20|    47021| 4032|     4440|         Rome|null|\n",
            "|27205| null|  Italy|43.0|12.0|2020-03-19|    41035| 3405|     4440|         Rome|null|\n",
            "|26728| null|  Italy|43.0|12.0|2020-03-18|    35713| 2978|     4025|         Rome|null|\n",
            "|26251| null|  Italy|43.0|12.0|2020-03-17|    31506| 2503|     2941|         Rome|null|\n",
            "|25774| null|  Italy|43.0|12.0|2020-03-16|    27980| 2158|     2749|         Rome|null|\n",
            "|25297| null|  Italy|43.0|12.0|2020-03-15|    24747| 1809|     2335|         Rome|null|\n",
            "|24820| null|  Italy|43.0|12.0|2020-03-14|    21157| 1441|     1966|         Rome|null|\n",
            "|24343| null|  Italy|43.0|12.0|2020-03-13|    17660| 1266|     1439|         Rome|null|\n",
            "|23866| null|  Italy|43.0|12.0|2020-03-12|    12462|  827|     1045|         Rome|null|\n",
            "|23389| null|  Italy|43.0|12.0|2020-03-11|    12462|  827|     1045|         Rome|null|\n",
            "|22912| null|  Italy|43.0|12.0|2020-03-10|    10149|  631|      724|         Rome|null|\n",
            "|22435| null|  Italy|43.0|12.0|2020-03-09|     9172|  463|      724|         Rome|null|\n",
            "|21958| null|  Italy|43.0|12.0|2020-03-08|     7375|  366|      622|         Rome|null|\n",
            "|21481| null|  Italy|43.0|12.0|2020-03-07|     5883|  233|      589|         Rome|null|\n",
            "|21004| null|  Italy|43.0|12.0|2020-03-06|     4636|  197|      523|         Rome|null|\n",
            "|20527| null|  Italy|43.0|12.0|2020-03-05|     3858|  148|      414|         Rome|null|\n",
            "|20050| null|  Italy|43.0|12.0|2020-03-04|     3089|  107|      276|         Rome|null|\n",
            "|19573| null|  Italy|43.0|12.0|2020-03-03|     2502|   79|      160|         Rome|null|\n",
            "|19096| null|  Italy|43.0|12.0|2020-03-02|     2036|   52|      149|         Rome|null|\n",
            "|18619| null|  Italy|43.0|12.0|2020-03-01|     1694|   34|       83|         Rome|null|\n",
            "+-----+-----+-------+----+----+----------+---------+-----+---------+-------------+----+\n",
            "only showing top 20 rows\n",
            "\n"
          ],
          "name": "stdout"
        }
      ]
    },
    {
      "cell_type": "code",
      "metadata": {
        "colab": {
          "base_uri": "https://localhost:8080/"
        },
        "id": "XwPJFTDuPZWz",
        "outputId": "4dee185c-a52e-4c0a-e208-bc5abb502d2d"
      },
      "source": [
        "corona_max_df.withColumn(\"Active\", corona_max_df.Confirmed - corona_max_df.Recovered - corona_max_df.Death).sort(\"Active\", ascending=False).show()"
      ],
      "execution_count": 89,
      "outputs": [
        {
          "output_type": "stream",
          "text": [
            "+--------------+----------------+----------+-----+--------------+-------+-------------------+---------+-----+---------+----------+------+\n",
            "|       Country|   state_cleaned|      Date|  _c0|         State|    Lat|               Long|Confirmed|Death|Recovered|      City|Active|\n",
            "+--------------+----------------+----------+-----+--------------+-------+-------------------+---------+-----+---------+----------+------+\n",
            "|         Italy|            Rome|2020-03-20|27682|          null|   43.0|               12.0|    47021| 4032|     4440|      null| 38549|\n",
            "|       Germany|          Berlin|2020-03-20|27677|          null|   51.0|                9.0|    19848|   67|      180|      null| 19601|\n",
            "|         Spain|          Toledo|2020-03-20|27684|          null|   40.0|               -4.0|    20410| 1043|     1588|      null| 17779|\n",
            "|        France|          France|2020-03-20|27823|        France|46.2276|             2.2137|    12612|  450|       12|      null| 12150|\n",
            "|          Iran|          Tehran|2020-03-20|27821|          null|   32.0|               53.0|    19644| 1433|     6745|      null| 11466|\n",
            "|            US|        New York|2020-03-20|27765|      New York|42.1657|           -74.9481|     8310|   42|        0|  New York|  8268|\n",
            "|  Korea, South|Gyeongsangbuk-do|2020-03-20|27822|          null|   36.0|              128.0|     8652|   94|     1540|      null|  7018|\n",
            "|         China|           Hubei|2020-03-20|27820|         Hubei|30.9756|           112.2707|    67800| 3133|    58382|      null|  6285|\n",
            "|   Switzerland|            Bern|2020-03-20|27697|          null|46.8182|             8.2275|     5294|   54|       15|      null|  5225|\n",
            "|United Kingdom|  United Kingdom|2020-03-20|28069|United Kingdom|55.3781|-3.4360000000000004|     3983|  177|       65|      null|  3741|\n",
            "|   Netherlands|     Netherlands|2020-03-20|28106|   Netherlands|52.1326|             5.2913|     2994|  106|        2|      null|  2886|\n",
            "|       Austria|          Vienna|2020-03-20|27698|          null|47.5162|            14.5501|     2388|    6|        9|      null|  2373|\n",
            "|       Belgium|        Brussels|2020-03-20|27686|          null|50.8333|                4.0|     2257|   37|        1|      null|  2219|\n",
            "|        Norway|             Hol|2020-03-20|27705|          null| 60.472|             8.4689|     1914|    7|        1|      null|  1906|\n",
            "|        Sweden|       Stockholm|2020-03-20|27683|          null|   63.0|               16.0|     1639|   16|       16|      null|  1607|\n",
            "|            US|      Washington|2020-03-20|27764|    Washington|47.4009|          -121.4905|     1524|   83|        0|Washington|  1441|\n",
            "|       Denmark|         Denmark|2020-03-20|27836|       Denmark|56.2639|             9.5018|     1255|    9|        1|      null|  1245|\n",
            "|            US|      California|2020-03-20|27766|    California|36.1162|          -119.6816|     1177|   23|        0|California|  1154|\n",
            "|      Portugal|          Lisbon|2020-03-20|27725|          null|39.3999|            -8.2245|     1020|    6|        5|      null|  1009|\n",
            "|      Malaysia|         Sarawak|2020-03-20|27670|          null|    2.5|              112.5|     1030|    3|       87|      null|   940|\n",
            "+--------------+----------------+----------+-----+--------------+-------+-------------------+---------+-----+---------+----------+------+\n",
            "only showing top 20 rows\n",
            "\n"
          ],
          "name": "stdout"
        }
      ]
    },
    {
      "cell_type": "code",
      "metadata": {
        "id": "xt2GDwfmQEdO"
      },
      "source": [
        "corona_max_df = corona_max_df.withColumn(\"Active\", corona_max_df.Confirmed - corona_max_df.Recovered - corona_max_df.Death).sort(\"Active\", ascending=False)"
      ],
      "execution_count": 90,
      "outputs": []
    },
    {
      "cell_type": "code",
      "metadata": {
        "colab": {
          "base_uri": "https://localhost:8080/"
        },
        "id": "5EqjzO-DQTSr",
        "outputId": "6700729d-007d-4114-a84e-99521f75d2c2"
      },
      "source": [
        "corona_max_df.show()"
      ],
      "execution_count": 91,
      "outputs": [
        {
          "output_type": "stream",
          "text": [
            "+--------------+----------------+----------+-----+--------------+-------+-------------------+---------+-----+---------+----------+------+\n",
            "|       Country|   state_cleaned|      Date|  _c0|         State|    Lat|               Long|Confirmed|Death|Recovered|      City|Active|\n",
            "+--------------+----------------+----------+-----+--------------+-------+-------------------+---------+-----+---------+----------+------+\n",
            "|         Italy|            Rome|2020-03-20|27682|          null|   43.0|               12.0|    47021| 4032|     4440|      null| 38549|\n",
            "|       Germany|          Berlin|2020-03-20|27677|          null|   51.0|                9.0|    19848|   67|      180|      null| 19601|\n",
            "|         Spain|          Toledo|2020-03-20|27684|          null|   40.0|               -4.0|    20410| 1043|     1588|      null| 17779|\n",
            "|        France|          France|2020-03-20|27823|        France|46.2276|             2.2137|    12612|  450|       12|      null| 12150|\n",
            "|          Iran|          Tehran|2020-03-20|27821|          null|   32.0|               53.0|    19644| 1433|     6745|      null| 11466|\n",
            "|            US|        New York|2020-03-20|27765|      New York|42.1657|           -74.9481|     8310|   42|        0|  New York|  8268|\n",
            "|  Korea, South|Gyeongsangbuk-do|2020-03-20|27822|          null|   36.0|              128.0|     8652|   94|     1540|      null|  7018|\n",
            "|         China|           Hubei|2020-03-20|27820|         Hubei|30.9756|           112.2707|    67800| 3133|    58382|      null|  6285|\n",
            "|   Switzerland|            Bern|2020-03-20|27697|          null|46.8182|             8.2275|     5294|   54|       15|      null|  5225|\n",
            "|United Kingdom|  United Kingdom|2020-03-20|28069|United Kingdom|55.3781|-3.4360000000000004|     3983|  177|       65|      null|  3741|\n",
            "|   Netherlands|     Netherlands|2020-03-20|28106|   Netherlands|52.1326|             5.2913|     2994|  106|        2|      null|  2886|\n",
            "|       Austria|          Vienna|2020-03-20|27698|          null|47.5162|            14.5501|     2388|    6|        9|      null|  2373|\n",
            "|       Belgium|        Brussels|2020-03-20|27686|          null|50.8333|                4.0|     2257|   37|        1|      null|  2219|\n",
            "|        Norway|             Hol|2020-03-20|27705|          null| 60.472|             8.4689|     1914|    7|        1|      null|  1906|\n",
            "|        Sweden|       Stockholm|2020-03-20|27683|          null|   63.0|               16.0|     1639|   16|       16|      null|  1607|\n",
            "|            US|      Washington|2020-03-20|27764|    Washington|47.4009|          -121.4905|     1524|   83|        0|Washington|  1441|\n",
            "|       Denmark|         Denmark|2020-03-20|27836|       Denmark|56.2639|             9.5018|     1255|    9|        1|      null|  1245|\n",
            "|            US|      California|2020-03-20|27766|    California|36.1162|          -119.6816|     1177|   23|        0|California|  1154|\n",
            "|      Portugal|          Lisbon|2020-03-20|27725|          null|39.3999|            -8.2245|     1020|    6|        5|      null|  1009|\n",
            "|      Malaysia|         Sarawak|2020-03-20|27670|          null|    2.5|              112.5|     1030|    3|       87|      null|   940|\n",
            "+--------------+----------------+----------+-----+--------------+-------+-------------------+---------+-----+---------+----------+------+\n",
            "only showing top 20 rows\n",
            "\n"
          ],
          "name": "stdout"
        }
      ]
    },
    {
      "cell_type": "code",
      "metadata": {
        "colab": {
          "base_uri": "https://localhost:8080/"
        },
        "id": "14PUesioQWHa",
        "outputId": "4c20bdaf-86f0-495e-8b97-dfda947e4062"
      },
      "source": [
        "corona_max_df.groupBy(\"Country\").sum(\"Active\").orderBy(\"sum(Active)\", ascending=False).show()"
      ],
      "execution_count": 92,
      "outputs": [
        {
          "output_type": "stream",
          "text": [
            "+--------------+-----------+\n",
            "|       Country|sum(Active)|\n",
            "+--------------+-----------+\n",
            "|         Italy|      38549|\n",
            "|       Germany|      19601|\n",
            "|            US|      18856|\n",
            "|         Spain|      17779|\n",
            "|        France|      12264|\n",
            "|          Iran|      11466|\n",
            "|  Korea, South|       7018|\n",
            "|         China|       6731|\n",
            "|   Switzerland|       5225|\n",
            "|United Kingdom|       3769|\n",
            "|   Netherlands|       2894|\n",
            "|       Austria|       2373|\n",
            "|       Belgium|       2219|\n",
            "|        Norway|       1906|\n",
            "|        Sweden|       1607|\n",
            "|       Denmark|       1327|\n",
            "|      Portugal|       1009|\n",
            "|      Malaysia|        940|\n",
            "|        Canada|        922|\n",
            "|       Czechia|        829|\n",
            "+--------------+-----------+\n",
            "only showing top 20 rows\n",
            "\n"
          ],
          "name": "stdout"
        }
      ]
    },
    {
      "cell_type": "code",
      "metadata": {
        "colab": {
          "base_uri": "https://localhost:8080/"
        },
        "id": "QEG1RFQ8QvPu",
        "outputId": "bdc7d65d-67bf-499d-8d0d-4d193fdec260"
      },
      "source": [
        "corona_max_df.select(\"Country\", \"State_cleaned\", \"Confirmed\", \"Recovered\").filter(col(\"Country\").isin(\"Australia\", \"China\")).groupBy(\"Country\").sum().show(100)"
      ],
      "execution_count": 94,
      "outputs": [
        {
          "output_type": "stream",
          "text": [
            "+---------+--------------+--------------+\n",
            "|  Country|sum(Confirmed)|sum(Recovered)|\n",
            "+---------+--------------+--------------+\n",
            "|    China|         81250|         71266|\n",
            "|Australia|           791|            26|\n",
            "+---------+--------------+--------------+\n",
            "\n"
          ],
          "name": "stdout"
        }
      ]
    },
    {
      "cell_type": "code",
      "metadata": {
        "colab": {
          "base_uri": "https://localhost:8080/"
        },
        "id": "r4sfH6OITqCX",
        "outputId": "20479aca-525f-4711-9b8b-420c462156f6"
      },
      "source": [
        "corona_max_df.select(\"Country\", \"State_cleaned\", \"Confirmed\", \"Recovered\").filter(col(\"Country\").isin(\"Australia\", \"China\")).cube(\"Country\").sum().show(100)"
      ],
      "execution_count": 95,
      "outputs": [
        {
          "output_type": "stream",
          "text": [
            "+---------+--------------+--------------+\n",
            "|  Country|sum(Confirmed)|sum(Recovered)|\n",
            "+---------+--------------+--------------+\n",
            "|Australia|           791|            26|\n",
            "|     null|         82041|         71292|\n",
            "|    China|         81250|         71266|\n",
            "+---------+--------------+--------------+\n",
            "\n"
          ],
          "name": "stdout"
        }
      ]
    },
    {
      "cell_type": "code",
      "metadata": {
        "colab": {
          "base_uri": "https://localhost:8080/"
        },
        "id": "xtuCYHhnUXLF",
        "outputId": "e53be02c-b399-4ae2-cce9-0ea30624211c"
      },
      "source": [
        "corona_max_df.select(\"Country\", \"State_cleaned\", \"Confirmed\", \"Recovered\").filter(col(\"Country\").isin(\"Australia\", \"China\")).cube(\"Country\", 'State_cleaned').sum().show(100)"
      ],
      "execution_count": 97,
      "outputs": [
        {
          "output_type": "stream",
          "text": [
            "+---------+--------------------+--------------+--------------+\n",
            "|  Country|       State_cleaned|sum(Confirmed)|sum(Recovered)|\n",
            "+---------+--------------------+--------------+--------------+\n",
            "|     null|           Guangdong|          1395|          1323|\n",
            "|     null|               Hunan|          1018|          1014|\n",
            "|     null|               Gansu|           134|            98|\n",
            "|     null|               Hebei|           318|           310|\n",
            "|     null|               Jilin|            93|            92|\n",
            "|     null|          Queensland|           184|             8|\n",
            "|    China|            Shandong|           762|           748|\n",
            "|     null|  Northern Territory|             3|             0|\n",
            "|    China|           Chongqing|           576|           570|\n",
            "|     null|            Liaoning|           126|           122|\n",
            "|     null|             Beijing|           491|           390|\n",
            "|    China|             Ningxia|            75|            75|\n",
            "|    China|                null|         81250|         71266|\n",
            "|     null|            Shandong|           762|           748|\n",
            "|Australia|  Northern Territory|             3|             0|\n",
            "|    China|            Shanghai|           371|           326|\n",
            "|    China|               Anhui|           990|           984|\n",
            "|    China|             Qinghai|            18|            18|\n",
            "|    China|           Hong Kong|           256|            98|\n",
            "|    China|              Shanxi|           133|           133|\n",
            "|    China|              Hainan|           168|           161|\n",
            "|     null|           Hong Kong|           256|            98|\n",
            "|     null|        Heilongjiang|           484|           463|\n",
            "|     null|              Yunnan|           176|           172|\n",
            "|     null|                null|         82041|         71292|\n",
            "|    China|             Guangxi|           254|           250|\n",
            "|     null|   Western Australia|            64|             0|\n",
            "|    China|             Jiangxi|           935|           934|\n",
            "|     null|            Xinjiang|            76|            73|\n",
            "|     null|            Tasmania|            10|             3|\n",
            "|Australia|            Tasmania|            10|             3|\n",
            "|     null|             Qinghai|            18|            18|\n",
            "|    China|             Jiangsu|           631|           631|\n",
            "|    China|              Yunnan|           176|           172|\n",
            "|    China|               Hubei|         67800|         58382|\n",
            "|Australia|     New South Wales|           353|             4|\n",
            "|Australia|          Queensland|           184|             8|\n",
            "|     null|             Shaanxi|           247|           237|\n",
            "|Australia|Australian Capita...|             6|             0|\n",
            "|Australia|   Western Australia|            64|             0|\n",
            "|    China|            Xinjiang|            76|            73|\n",
            "|    China|               Tibet|             1|             1|\n",
            "|     null|               Tibet|             1|             1|\n",
            "|     null|               Henan|          1273|          1250|\n",
            "|     null|               Anhui|           990|           984|\n",
            "|     null|               Macau|            17|            10|\n",
            "|     null|              Hainan|           168|           161|\n",
            "|     null|From Diamond Prin...|             0|             0|\n",
            "|    China|             Tianjin|           137|           133|\n",
            "|     null|              Fujian|           299|           295|\n",
            "|    China|            Zhejiang|          1234|          1219|\n",
            "|    China|              Fujian|           299|           295|\n",
            "|     null|             Ningxia|            75|            75|\n",
            "|    China|        Heilongjiang|           484|           463|\n",
            "|     null|             Sichuan|           541|           536|\n",
            "|     null|           Chongqing|           576|           570|\n",
            "|    China|               Henan|          1273|          1250|\n",
            "|Australia|                null|           791|            26|\n",
            "|Australia|            Victoria|           121|             8|\n",
            "|Australia|From Diamond Prin...|             0|             0|\n",
            "|     null|               Hubei|         67800|         58382|\n",
            "|     null|Australian Capita...|             6|             0|\n",
            "|    China|           Guangdong|          1395|          1323|\n",
            "|    China|             Sichuan|           541|           536|\n",
            "|    China|      Inner Mongolia|            75|            74|\n",
            "|    China|               Jilin|            93|            92|\n",
            "|    China|               Hunan|          1018|          1014|\n",
            "|     null|     New South Wales|           353|             4|\n",
            "|     null|             Guangxi|           254|           250|\n",
            "|     null|             Guizhou|           146|           144|\n",
            "|     null|            Shanghai|           371|           326|\n",
            "|     null|              Shanxi|           133|           133|\n",
            "|    China|               Hebei|           318|           310|\n",
            "|    China|               Macau|            17|            10|\n",
            "|     null|     South Australia|            50|             3|\n",
            "|Australia|     South Australia|            50|             3|\n",
            "|     null|            Victoria|           121|             8|\n",
            "|    China|               Gansu|           134|            98|\n",
            "|     null|             Jiangxi|           935|           934|\n",
            "|     null|             Tianjin|           137|           133|\n",
            "|     null|             Jiangsu|           631|           631|\n",
            "|    China|             Guizhou|           146|           144|\n",
            "|     null|            Zhejiang|          1234|          1219|\n",
            "|    China|             Beijing|           491|           390|\n",
            "|    China|            Liaoning|           126|           122|\n",
            "|     null|      Inner Mongolia|            75|            74|\n",
            "|    China|             Shaanxi|           247|           237|\n",
            "+---------+--------------------+--------------+--------------+\n",
            "\n"
          ],
          "name": "stdout"
        }
      ]
    },
    {
      "cell_type": "code",
      "metadata": {
        "colab": {
          "base_uri": "https://localhost:8080/"
        },
        "id": "CB2O7HpRUbmc",
        "outputId": "cc922a77-7328-46eb-df51-920ac9bea231"
      },
      "source": [
        "# rollup\n",
        "corona_max_df.select(\"Country\", \"State_cleaned\", \"Confirmed\", \"Recovered\").filter(col(\"Country\").isin(\"Australia\", \"China\")).rollup(\"Country\", 'State_cleaned').sum().show(100)"
      ],
      "execution_count": 98,
      "outputs": [
        {
          "output_type": "stream",
          "text": [
            "+---------+--------------------+--------------+--------------+\n",
            "|  Country|       State_cleaned|sum(Confirmed)|sum(Recovered)|\n",
            "+---------+--------------------+--------------+--------------+\n",
            "|    China|            Shandong|           762|           748|\n",
            "|    China|           Chongqing|           576|           570|\n",
            "|    China|             Ningxia|            75|            75|\n",
            "|    China|                null|         81250|         71266|\n",
            "|Australia|  Northern Territory|             3|             0|\n",
            "|    China|            Shanghai|           371|           326|\n",
            "|    China|               Anhui|           990|           984|\n",
            "|    China|             Qinghai|            18|            18|\n",
            "|    China|           Hong Kong|           256|            98|\n",
            "|    China|              Shanxi|           133|           133|\n",
            "|    China|              Hainan|           168|           161|\n",
            "|     null|                null|         82041|         71292|\n",
            "|    China|             Guangxi|           254|           250|\n",
            "|    China|             Jiangxi|           935|           934|\n",
            "|Australia|            Tasmania|            10|             3|\n",
            "|    China|             Jiangsu|           631|           631|\n",
            "|    China|              Yunnan|           176|           172|\n",
            "|    China|               Hubei|         67800|         58382|\n",
            "|Australia|     New South Wales|           353|             4|\n",
            "|Australia|          Queensland|           184|             8|\n",
            "|Australia|Australian Capita...|             6|             0|\n",
            "|Australia|   Western Australia|            64|             0|\n",
            "|    China|            Xinjiang|            76|            73|\n",
            "|    China|               Tibet|             1|             1|\n",
            "|    China|             Tianjin|           137|           133|\n",
            "|    China|            Zhejiang|          1234|          1219|\n",
            "|    China|              Fujian|           299|           295|\n",
            "|    China|        Heilongjiang|           484|           463|\n",
            "|    China|               Henan|          1273|          1250|\n",
            "|Australia|                null|           791|            26|\n",
            "|Australia|            Victoria|           121|             8|\n",
            "|Australia|From Diamond Prin...|             0|             0|\n",
            "|    China|           Guangdong|          1395|          1323|\n",
            "|    China|             Sichuan|           541|           536|\n",
            "|    China|      Inner Mongolia|            75|            74|\n",
            "|    China|               Jilin|            93|            92|\n",
            "|    China|               Hunan|          1018|          1014|\n",
            "|    China|               Hebei|           318|           310|\n",
            "|    China|               Macau|            17|            10|\n",
            "|Australia|     South Australia|            50|             3|\n",
            "|    China|               Gansu|           134|            98|\n",
            "|    China|             Guizhou|           146|           144|\n",
            "|    China|             Beijing|           491|           390|\n",
            "|    China|            Liaoning|           126|           122|\n",
            "|    China|             Shaanxi|           247|           237|\n",
            "+---------+--------------------+--------------+--------------+\n",
            "\n"
          ],
          "name": "stdout"
        }
      ]
    },
    {
      "cell_type": "code",
      "metadata": {
        "colab": {
          "base_uri": "https://localhost:8080/"
        },
        "id": "-9IxWJRQU3bR",
        "outputId": "c93271d3-3604-44d3-f65c-69d5bfa1ad7c"
      },
      "source": [
        "# Correlation \n",
        "\n",
        "corona_max_df.corr('Confirmed', 'Recovered')"
      ],
      "execution_count": 99,
      "outputs": [
        {
          "output_type": "execute_result",
          "data": {
            "text/plain": [
              "0.8052934236742177"
            ]
          },
          "metadata": {
            "tags": []
          },
          "execution_count": 99
        }
      ]
    },
    {
      "cell_type": "code",
      "metadata": {
        "colab": {
          "base_uri": "https://localhost:8080/"
        },
        "id": "tevNpPWlVOau",
        "outputId": "eb39dc24-9e5f-4d40-cc8a-dcaf603181d8"
      },
      "source": [
        "# Caching data in memory \n",
        "corona_max_df.cache()"
      ],
      "execution_count": 100,
      "outputs": [
        {
          "output_type": "execute_result",
          "data": {
            "text/plain": [
              "DataFrame[Country: string, state_cleaned: string, Date: string, _c0: int, State: string, Lat: double, Long: double, Confirmed: int, Death: int, Recovered: int, City: string, Active: int]"
            ]
          },
          "metadata": {
            "tags": []
          },
          "execution_count": 100
        }
      ]
    },
    {
      "cell_type": "code",
      "metadata": {
        "colab": {
          "base_uri": "https://localhost:8080/"
        },
        "id": "RzRl44ERVelR",
        "outputId": "634265a1-bca8-4920-c64a-ae469de76e31"
      },
      "source": [
        "%timeit corona_max_df.count()"
      ],
      "execution_count": 102,
      "outputs": [
        {
          "output_type": "stream",
          "text": [
            "The slowest run took 6.50 times longer than the fastest. This could mean that an intermediate result is being cached.\n",
            "1 loop, best of 5: 474 ms per loop\n"
          ],
          "name": "stdout"
        }
      ]
    },
    {
      "cell_type": "code",
      "metadata": {
        "colab": {
          "base_uri": "https://localhost:8080/"
        },
        "id": "3cIxLAUEVoQR",
        "outputId": "f3f0263e-c29e-4fde-d6c2-af0efdacfa96"
      },
      "source": [
        "from pyspark import StorageLevel \n",
        "\n",
        "corona_max_df.persist(StorageLevel.MEMORY_AND_DISK)"
      ],
      "execution_count": 105,
      "outputs": [
        {
          "output_type": "execute_result",
          "data": {
            "text/plain": [
              "DataFrame[Country: string, state_cleaned: string, Date: string, _c0: int, State: string, Lat: double, Long: double, Confirmed: int, Death: int, Recovered: int, City: string, Active: int]"
            ]
          },
          "metadata": {
            "tags": []
          },
          "execution_count": 105
        }
      ]
    },
    {
      "cell_type": "code",
      "metadata": {
        "colab": {
          "base_uri": "https://localhost:8080/"
        },
        "id": "qNxbeEEEWKaW",
        "outputId": "c1674927-f3fc-4eab-a544-ffc980e464c4"
      },
      "source": [
        "%timeit corona_max_df.count()"
      ],
      "execution_count": 106,
      "outputs": [
        {
          "output_type": "stream",
          "text": [
            "1 loop, best of 5: 425 ms per loop\n"
          ],
          "name": "stdout"
        }
      ]
    },
    {
      "cell_type": "code",
      "metadata": {
        "id": "regPu1A5WW-h"
      },
      "source": [
        "# Pandas "
      ],
      "execution_count": 107,
      "outputs": []
    },
    {
      "cell_type": "code",
      "metadata": {
        "id": "CicGSSf8WfWT"
      },
      "source": [
        "pd = corona_df.toPandas()"
      ],
      "execution_count": 108,
      "outputs": []
    },
    {
      "cell_type": "code",
      "metadata": {
        "colab": {
          "base_uri": "https://localhost:8080/",
          "height": 235
        },
        "id": "AxSrgvHMWhyr",
        "outputId": "7da412b0-fa2a-466a-c259-6feea2d97010"
      },
      "source": [
        "pd.corr()"
      ],
      "execution_count": 109,
      "outputs": [
        {
          "output_type": "execute_result",
          "data": {
            "text/html": [
              "<div>\n",
              "<style scoped>\n",
              "    .dataframe tbody tr th:only-of-type {\n",
              "        vertical-align: middle;\n",
              "    }\n",
              "\n",
              "    .dataframe tbody tr th {\n",
              "        vertical-align: top;\n",
              "    }\n",
              "\n",
              "    .dataframe thead th {\n",
              "        text-align: right;\n",
              "    }\n",
              "</style>\n",
              "<table border=\"1\" class=\"dataframe\">\n",
              "  <thead>\n",
              "    <tr style=\"text-align: right;\">\n",
              "      <th></th>\n",
              "      <th>_c0</th>\n",
              "      <th>Lat</th>\n",
              "      <th>Long</th>\n",
              "      <th>Confirmed</th>\n",
              "      <th>Death</th>\n",
              "      <th>Recovered</th>\n",
              "    </tr>\n",
              "  </thead>\n",
              "  <tbody>\n",
              "    <tr>\n",
              "      <th>_c0</th>\n",
              "      <td>1.000000</td>\n",
              "      <td>-0.001594</td>\n",
              "      <td>-0.005303</td>\n",
              "      <td>0.046789</td>\n",
              "      <td>0.043155</td>\n",
              "      <td>0.042857</td>\n",
              "    </tr>\n",
              "    <tr>\n",
              "      <th>Lat</th>\n",
              "      <td>-0.001594</td>\n",
              "      <td>1.000000</td>\n",
              "      <td>-0.383389</td>\n",
              "      <td>0.008531</td>\n",
              "      <td>0.007041</td>\n",
              "      <td>0.000778</td>\n",
              "    </tr>\n",
              "    <tr>\n",
              "      <th>Long</th>\n",
              "      <td>-0.005303</td>\n",
              "      <td>-0.383389</td>\n",
              "      <td>1.000000</td>\n",
              "      <td>0.098893</td>\n",
              "      <td>0.074918</td>\n",
              "      <td>0.079047</td>\n",
              "    </tr>\n",
              "    <tr>\n",
              "      <th>Confirmed</th>\n",
              "      <td>0.046789</td>\n",
              "      <td>0.008531</td>\n",
              "      <td>0.098893</td>\n",
              "      <td>1.000000</td>\n",
              "      <td>0.963376</td>\n",
              "      <td>0.853924</td>\n",
              "    </tr>\n",
              "    <tr>\n",
              "      <th>Death</th>\n",
              "      <td>0.043155</td>\n",
              "      <td>0.007041</td>\n",
              "      <td>0.074918</td>\n",
              "      <td>0.963376</td>\n",
              "      <td>1.000000</td>\n",
              "      <td>0.857292</td>\n",
              "    </tr>\n",
              "    <tr>\n",
              "      <th>Recovered</th>\n",
              "      <td>0.042857</td>\n",
              "      <td>0.000778</td>\n",
              "      <td>0.079047</td>\n",
              "      <td>0.853924</td>\n",
              "      <td>0.857292</td>\n",
              "      <td>1.000000</td>\n",
              "    </tr>\n",
              "  </tbody>\n",
              "</table>\n",
              "</div>"
            ],
            "text/plain": [
              "                _c0       Lat      Long  Confirmed     Death  Recovered\n",
              "_c0        1.000000 -0.001594 -0.005303   0.046789  0.043155   0.042857\n",
              "Lat       -0.001594  1.000000 -0.383389   0.008531  0.007041   0.000778\n",
              "Long      -0.005303 -0.383389  1.000000   0.098893  0.074918   0.079047\n",
              "Confirmed  0.046789  0.008531  0.098893   1.000000  0.963376   0.853924\n",
              "Death      0.043155  0.007041  0.074918   0.963376  1.000000   0.857292\n",
              "Recovered  0.042857  0.000778  0.079047   0.853924  0.857292   1.000000"
            ]
          },
          "metadata": {
            "tags": []
          },
          "execution_count": 109
        }
      ]
    },
    {
      "cell_type": "code",
      "metadata": {
        "id": "NDmDJFSJWi-H"
      },
      "source": [
        "corona_max_df.createOrReplaceTempView(\"corona\")"
      ],
      "execution_count": 110,
      "outputs": []
    },
    {
      "cell_type": "code",
      "metadata": {
        "colab": {
          "base_uri": "https://localhost:8080/"
        },
        "id": "ZVIKcq6QW41U",
        "outputId": "2fe26fcf-7004-4037-98a8-d7bebb5404bd"
      },
      "source": [
        "spark.sql(\"select * from corona\").show()"
      ],
      "execution_count": 111,
      "outputs": [
        {
          "output_type": "stream",
          "text": [
            "+--------------+----------------+----------+-----+--------------+-------+-------------------+---------+-----+---------+----------+------+\n",
            "|       Country|   state_cleaned|      Date|  _c0|         State|    Lat|               Long|Confirmed|Death|Recovered|      City|Active|\n",
            "+--------------+----------------+----------+-----+--------------+-------+-------------------+---------+-----+---------+----------+------+\n",
            "|         Italy|            Rome|2020-03-20|27682|          null|   43.0|               12.0|    47021| 4032|     4440|      null| 38549|\n",
            "|       Germany|          Berlin|2020-03-20|27677|          null|   51.0|                9.0|    19848|   67|      180|      null| 19601|\n",
            "|         Spain|          Toledo|2020-03-20|27684|          null|   40.0|               -4.0|    20410| 1043|     1588|      null| 17779|\n",
            "|        France|          France|2020-03-20|27823|        France|46.2276|             2.2137|    12612|  450|       12|      null| 12150|\n",
            "|          Iran|          Tehran|2020-03-20|27821|          null|   32.0|               53.0|    19644| 1433|     6745|      null| 11466|\n",
            "|            US|        New York|2020-03-20|27765|      New York|42.1657|           -74.9481|     8310|   42|        0|  New York|  8268|\n",
            "|  Korea, South|Gyeongsangbuk-do|2020-03-20|27822|          null|   36.0|              128.0|     8652|   94|     1540|      null|  7018|\n",
            "|         China|           Hubei|2020-03-20|27820|         Hubei|30.9756|           112.2707|    67800| 3133|    58382|      null|  6285|\n",
            "|   Switzerland|            Bern|2020-03-20|27697|          null|46.8182|             8.2275|     5294|   54|       15|      null|  5225|\n",
            "|United Kingdom|  United Kingdom|2020-03-20|28069|United Kingdom|55.3781|-3.4360000000000004|     3983|  177|       65|      null|  3741|\n",
            "|   Netherlands|     Netherlands|2020-03-20|28106|   Netherlands|52.1326|             5.2913|     2994|  106|        2|      null|  2886|\n",
            "|       Austria|          Vienna|2020-03-20|27698|          null|47.5162|            14.5501|     2388|    6|        9|      null|  2373|\n",
            "|       Belgium|        Brussels|2020-03-20|27686|          null|50.8333|                4.0|     2257|   37|        1|      null|  2219|\n",
            "|        Norway|             Hol|2020-03-20|27705|          null| 60.472|             8.4689|     1914|    7|        1|      null|  1906|\n",
            "|        Sweden|       Stockholm|2020-03-20|27683|          null|   63.0|               16.0|     1639|   16|       16|      null|  1607|\n",
            "|            US|      Washington|2020-03-20|27764|    Washington|47.4009|          -121.4905|     1524|   83|        0|Washington|  1441|\n",
            "|       Denmark|         Denmark|2020-03-20|27836|       Denmark|56.2639|             9.5018|     1255|    9|        1|      null|  1245|\n",
            "|            US|      California|2020-03-20|27766|    California|36.1162|          -119.6816|     1177|   23|        0|California|  1154|\n",
            "|      Portugal|          Lisbon|2020-03-20|27725|          null|39.3999|            -8.2245|     1020|    6|        5|      null|  1009|\n",
            "|      Malaysia|         Sarawak|2020-03-20|27670|          null|    2.5|              112.5|     1030|    3|       87|      null|   940|\n",
            "+--------------+----------------+----------+-----+--------------+-------+-------------------+---------+-----+---------+----------+------+\n",
            "only showing top 20 rows\n",
            "\n"
          ],
          "name": "stdout"
        }
      ]
    },
    {
      "cell_type": "code",
      "metadata": {
        "colab": {
          "base_uri": "https://localhost:8080/"
        },
        "id": "jCqe1zRdW8ys",
        "outputId": "d4e69af3-ebbb-40d5-83df-6f6eb4409d29"
      },
      "source": [
        "spark.sql(\"select * from corona where Country in ('Australia', 'China') order by Country\").show()"
      ],
      "execution_count": 112,
      "outputs": [
        {
          "output_type": "stream",
          "text": [
            "+---------+--------------------+----------+-----+--------------------+------------------+------------------+---------+-----+---------+----+------+\n",
            "|  Country|       state_cleaned|      Date|  _c0|               State|               Lat|              Long|Confirmed|Death|Recovered|City|Active|\n",
            "+---------+--------------------+----------+-----+--------------------+------------------+------------------+---------+-----+---------+----+------+\n",
            "|Australia|          Queensland|2020-03-20|27674|          Queensland|          -28.0167|             153.4|      184|    0|        8|null|   176|\n",
            "|Australia|Australian Capita...|2020-03-20|28068|Australian Capita...|          -35.4735|          149.0124|        6|    0|        0|null|     6|\n",
            "|Australia|   Western Australia|2020-03-20|27715|   Western Australia|          -31.9505|          115.8605|       64|    1|        0|null|    63|\n",
            "|Australia|     New South Wales|2020-03-20|27672|     New South Wales|          -33.8688|          151.2093|      353|    6|        4|null|   343|\n",
            "|Australia|            Victoria|2020-03-20|27673|            Victoria|          -37.8136|          144.9631|      121|    0|        8|null|   113|\n",
            "|Australia|            Tasmania|2020-03-20|27727|            Tasmania|          -41.4545|          145.9707|       10|    0|        3|null|     7|\n",
            "|Australia|     South Australia|2020-03-20|27685|     South Australia|          -34.9285|          138.6007|       50|    0|        3|null|    47|\n",
            "|Australia|  Northern Territory|2020-03-20|27737|  Northern Territory|          -12.4634|          130.8456|        3|    0|        0|null|     3|\n",
            "|Australia|From Diamond Prin...|2020-03-20|27688|From Diamond Prin...|           35.4437|           139.638|        0|    0|        0|null|     0|\n",
            "|    China|           Hong Kong|2020-03-20|27849|           Hong Kong|              22.3|             114.2|      256|    4|       98|null|   154|\n",
            "|    China|           Guangdong|2020-03-20|27824|           Guangdong|           23.3417|          113.4244|     1395|    8|     1323|null|    64|\n",
            "|    China|             Beijing|2020-03-20|27837|             Beijing|           40.1824|          116.4142|      491|    8|      390|null|    93|\n",
            "|    China|               Macau|2020-03-20|27860|               Macau|           22.1667|            113.55|       17|    0|       10|null|     7|\n",
            "|    China|            Shanghai|2020-03-20|27838|            Shanghai|31.201999999999998|          121.4491|      371|    3|      326|null|    42|\n",
            "|    China|            Zhejiang|2020-03-20|27826|            Zhejiang|           29.1832|          120.0934|     1234|    1|     1219|null|    14|\n",
            "|    China|            Shandong|2020-03-20|27830|            Shandong|           36.3427|          118.1498|      762|    7|      748|null|     7|\n",
            "|    China|             Shaanxi|2020-03-20|27842|             Shaanxi|           35.1917|          108.8701|      247|    3|      237|null|     7|\n",
            "|    China|              Fujian|2020-03-20|27840|              Fujian|           26.0789|          117.9874|      299|    1|      295|null|     3|\n",
            "|    China|               Henan|2020-03-20|27825|               Henan|            33.882|113.61399999999999|     1273|   22|     1250|null|     1|\n",
            "|    China|               Gansu|2020-03-20|27848|               Gansu|           37.8099|          101.0583|      134|    2|       98|null|    34|\n",
            "+---------+--------------------+----------+-----+--------------------+------------------+------------------+---------+-----+---------+----+------+\n",
            "only showing top 20 rows\n",
            "\n"
          ],
          "name": "stdout"
        }
      ]
    },
    {
      "cell_type": "code",
      "metadata": {
        "colab": {
          "base_uri": "https://localhost:8080/"
        },
        "id": "c_PST1aSXcPj",
        "outputId": "11f5e8a3-c27f-45b9-e13a-88ec7ccdf8d7"
      },
      "source": [
        "# Roll up \n",
        "\n",
        "spark.sql(\"select Country, State_cleaned, SUM(Confirmed), SUM(Recovered) from corona where Country in ('Australia', 'Canada') GROUP BY ROLLUP (Country, State_cleaned) order by Country\").show()"
      ],
      "execution_count": 115,
      "outputs": [
        {
          "output_type": "stream",
          "text": [
            "+---------+--------------------+--------------+--------------+\n",
            "|  Country|       State_cleaned|sum(Confirmed)|sum(Recovered)|\n",
            "+---------+--------------------+--------------+--------------+\n",
            "|     null|                null|          1734|            35|\n",
            "|Australia|          Queensland|           184|             8|\n",
            "|Australia|     New South Wales|           353|             4|\n",
            "|Australia|Australian Capita...|             6|             0|\n",
            "|Australia|   Western Australia|            64|             0|\n",
            "|Australia|                null|           791|            26|\n",
            "|Australia|  Northern Territory|             3|             0|\n",
            "|Australia|            Victoria|           121|             8|\n",
            "|Australia|            Tasmania|            10|             3|\n",
            "|Australia|From Diamond Prin...|             0|             0|\n",
            "|Australia|     South Australia|            50|             3|\n",
            "|   Canada|       New Brunswick|            11|             0|\n",
            "|   Canada|        Saskatchewan|            20|             0|\n",
            "|   Canada|             Alberta|           146|             0|\n",
            "|   Canada|             Ontario|           308|             5|\n",
            "|   Canada|Newfoundland and ...|             4|             0|\n",
            "|   Canada|      Grand Princess|            10|             0|\n",
            "|   Canada|    British Columbia|           271|             4|\n",
            "|   Canada|Prince Edward Island|             2|             0|\n",
            "|   Canada|         Nova Scotia|            15|             0|\n",
            "+---------+--------------------+--------------+--------------+\n",
            "only showing top 20 rows\n",
            "\n"
          ],
          "name": "stdout"
        }
      ]
    },
    {
      "cell_type": "code",
      "metadata": {
        "colab": {
          "base_uri": "https://localhost:8080/"
        },
        "id": "2F-RwXaKYMYf",
        "outputId": "96f26b32-addd-4d2d-99f7-a255e8f0b16d"
      },
      "source": [
        "# Roll up \n",
        "\n",
        "spark.sql(\"select Country, State_cleaned, SUM(Confirmed), SUM(Recovered) from corona where Country in ('Australia', 'Canada') GROUP BY CUBE (Country, State_cleaned) order by Country\").show()"
      ],
      "execution_count": 116,
      "outputs": [
        {
          "output_type": "stream",
          "text": [
            "+-------+--------------------+--------------+--------------+\n",
            "|Country|       State_cleaned|sum(Confirmed)|sum(Recovered)|\n",
            "+-------+--------------------+--------------+--------------+\n",
            "|   null|       New Brunswick|            11|             0|\n",
            "|   null|     New South Wales|           353|             4|\n",
            "|   null|            Victoria|           121|             8|\n",
            "|   null|         Nova Scotia|            15|             0|\n",
            "|   null|Australian Capita...|             6|             0|\n",
            "|   null|          Queensland|           184|             8|\n",
            "|   null|     South Australia|            50|             3|\n",
            "|   null|      Grand Princess|            10|             0|\n",
            "|   null|        Saskatchewan|            20|             0|\n",
            "|   null|Newfoundland and ...|             4|             0|\n",
            "|   null|   Western Australia|            64|             0|\n",
            "|   null|            Tasmania|            10|             3|\n",
            "|   null|    British Columbia|           271|             4|\n",
            "|   null|             Ontario|           308|             5|\n",
            "|   null|From Diamond Prin...|             0|             0|\n",
            "|   null|            Manitoba|            17|             0|\n",
            "|   null|                null|          1734|            35|\n",
            "|   null|             Alberta|           146|             0|\n",
            "|   null|  Northern Territory|             3|             0|\n",
            "|   null|Prince Edward Island|             2|             0|\n",
            "+-------+--------------------+--------------+--------------+\n",
            "only showing top 20 rows\n",
            "\n"
          ],
          "name": "stdout"
        }
      ]
    },
    {
      "cell_type": "code",
      "metadata": {
        "id": "uaFPjqc_Yfz3"
      },
      "source": [
        ""
      ],
      "execution_count": null,
      "outputs": []
    }
  ]
}